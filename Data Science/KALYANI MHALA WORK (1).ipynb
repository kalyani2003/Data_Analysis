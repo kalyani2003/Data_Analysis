{
 "cells": [
  {
   "cell_type": "markdown",
   "id": "730108de",
   "metadata": {},
   "source": [
    "# WORKING ON DATAFRAME ...... "
   ]
  },
  {
   "cell_type": "code",
   "execution_count": 1,
   "id": "787d4f4d",
   "metadata": {},
   "outputs": [],
   "source": [
    "#>>>>>>>> IMPORTING PANDAS LIBRARY <<<<<<<<\n",
    "import pandas as pd"
   ]
  },
  {
   "cell_type": "code",
   "execution_count": 2,
   "id": "f56d92fb",
   "metadata": {},
   "outputs": [],
   "source": [
    "# >>>>>> PYTHON DICTONARY <<<<<<<\n",
    "data = {\n",
    "    \"salary\":[2000,5000,4000,1500],\n",
    "    \"month\":[1,3,2,1],\n",
    "    \"work\":[\"accountant\",\"labour\",\"driver\",\"electrician\"]\n",
    "}"
   ]
  },
  {
   "cell_type": "code",
   "execution_count": 3,
   "id": "b1df5561",
   "metadata": {},
   "outputs": [],
   "source": [
    "# >>>>>>>> CONVERSION OF DICTIONARY TO DATAFRAME <<<<<<<<"
   ]
  },
  {
   "cell_type": "code",
   "execution_count": 4,
   "id": "005cf06d",
   "metadata": {},
   "outputs": [],
   "source": [
    "df = pd.DataFrame(data)"
   ]
  },
  {
   "cell_type": "code",
   "execution_count": 5,
   "id": "61b2b82a",
   "metadata": {},
   "outputs": [],
   "source": [
    "# >>>>>> PRINT THE DATAFRAME <<<<<<"
   ]
  },
  {
   "cell_type": "code",
   "execution_count": 6,
   "id": "75f34526",
   "metadata": {},
   "outputs": [
    {
     "name": "stdout",
     "output_type": "stream",
     "text": [
      "   salary  month         work\n",
      "0    2000      1   accountant\n",
      "1    5000      3       labour\n",
      "2    4000      2       driver\n",
      "3    1500      1  electrician\n"
     ]
    }
   ],
   "source": [
    "print(df)"
   ]
  },
  {
   "cell_type": "code",
   "execution_count": 7,
   "id": "2de5d4f3",
   "metadata": {},
   "outputs": [
    {
     "data": {
      "text/html": [
       "<div>\n",
       "<style scoped>\n",
       "    .dataframe tbody tr th:only-of-type {\n",
       "        vertical-align: middle;\n",
       "    }\n",
       "\n",
       "    .dataframe tbody tr th {\n",
       "        vertical-align: top;\n",
       "    }\n",
       "\n",
       "    .dataframe thead th {\n",
       "        text-align: right;\n",
       "    }\n",
       "</style>\n",
       "<table border=\"1\" class=\"dataframe\">\n",
       "  <thead>\n",
       "    <tr style=\"text-align: right;\">\n",
       "      <th></th>\n",
       "      <th>salary</th>\n",
       "      <th>month</th>\n",
       "      <th>work</th>\n",
       "    </tr>\n",
       "  </thead>\n",
       "  <tbody>\n",
       "    <tr>\n",
       "      <th>0</th>\n",
       "      <td>2000</td>\n",
       "      <td>1</td>\n",
       "      <td>accountant</td>\n",
       "    </tr>\n",
       "    <tr>\n",
       "      <th>1</th>\n",
       "      <td>5000</td>\n",
       "      <td>3</td>\n",
       "      <td>labour</td>\n",
       "    </tr>\n",
       "    <tr>\n",
       "      <th>2</th>\n",
       "      <td>4000</td>\n",
       "      <td>2</td>\n",
       "      <td>driver</td>\n",
       "    </tr>\n",
       "    <tr>\n",
       "      <th>3</th>\n",
       "      <td>1500</td>\n",
       "      <td>1</td>\n",
       "      <td>electrician</td>\n",
       "    </tr>\n",
       "  </tbody>\n",
       "</table>\n",
       "</div>"
      ],
      "text/plain": [
       "   salary  month         work\n",
       "0    2000      1   accountant\n",
       "1    5000      3       labour\n",
       "2    4000      2       driver\n",
       "3    1500      1  electrician"
      ]
     },
     "execution_count": 7,
     "metadata": {},
     "output_type": "execute_result"
    }
   ],
   "source": [
    "df"
   ]
  },
  {
   "cell_type": "code",
   "execution_count": 8,
   "id": "656cd061",
   "metadata": {},
   "outputs": [],
   "source": [
    "# >>>>>>> CHECKING TYPE OF DATAFRAME <<<<<<<<<"
   ]
  },
  {
   "cell_type": "code",
   "execution_count": 9,
   "id": "8a4d104a",
   "metadata": {},
   "outputs": [
    {
     "data": {
      "text/plain": [
       "pandas.core.frame.DataFrame"
      ]
     },
     "execution_count": 9,
     "metadata": {},
     "output_type": "execute_result"
    }
   ],
   "source": [
    "type(df)  "
   ]
  },
  {
   "cell_type": "code",
   "execution_count": 10,
   "id": "994e7e78",
   "metadata": {},
   "outputs": [
    {
     "data": {
      "text/plain": [
       "salary     int64\n",
       "month      int64\n",
       "work      object\n",
       "dtype: object"
      ]
     },
     "execution_count": 10,
     "metadata": {},
     "output_type": "execute_result"
    }
   ],
   "source": [
    "df.dtypes"
   ]
  },
  {
   "cell_type": "code",
   "execution_count": 11,
   "id": "7450c256",
   "metadata": {},
   "outputs": [],
   "source": [
    "# >>>>>>>. INDEXING <<<<<<<<<<"
   ]
  },
  {
   "cell_type": "code",
   "execution_count": 12,
   "id": "c2f77369",
   "metadata": {},
   "outputs": [
    {
     "data": {
      "text/plain": [
       "RangeIndex(start=0, stop=4, step=1)"
      ]
     },
     "execution_count": 12,
     "metadata": {},
     "output_type": "execute_result"
    }
   ],
   "source": [
    "df.index"
   ]
  },
  {
   "cell_type": "code",
   "execution_count": 13,
   "id": "4511af83",
   "metadata": {},
   "outputs": [],
   "source": [
    "# >>>>>>> SHOW COLUMNS NAMES <<<<<<<"
   ]
  },
  {
   "cell_type": "code",
   "execution_count": 14,
   "id": "715abd7c",
   "metadata": {},
   "outputs": [
    {
     "data": {
      "text/plain": [
       "Index(['salary', 'month', 'work'], dtype='object')"
      ]
     },
     "execution_count": 14,
     "metadata": {},
     "output_type": "execute_result"
    }
   ],
   "source": [
    "df.columns"
   ]
  },
  {
   "cell_type": "code",
   "execution_count": 15,
   "id": "84bd37bc",
   "metadata": {},
   "outputs": [],
   "source": [
    "# >>>>>>>> SHAPE OF DATAFRAME <<<<<<<<"
   ]
  },
  {
   "cell_type": "code",
   "execution_count": 16,
   "id": "d11f2be8",
   "metadata": {},
   "outputs": [
    {
     "data": {
      "text/plain": [
       "(4, 3)"
      ]
     },
     "execution_count": 16,
     "metadata": {},
     "output_type": "execute_result"
    }
   ],
   "source": [
    "df.shape"
   ]
  },
  {
   "cell_type": "code",
   "execution_count": 17,
   "id": "ac67e25a",
   "metadata": {},
   "outputs": [],
   "source": [
    "# >>>>>>>>> DATAFRAME CONVERING INTO NUMPY ARRAY <<<<<<<<<"
   ]
  },
  {
   "cell_type": "code",
   "execution_count": 18,
   "id": "fe2ba11b",
   "metadata": {},
   "outputs": [
    {
     "data": {
      "text/plain": [
       "array([[2000, 1, 'accountant'],\n",
       "       [5000, 3, 'labour'],\n",
       "       [4000, 2, 'driver'],\n",
       "       [1500, 1, 'electrician']], dtype=object)"
      ]
     },
     "execution_count": 18,
     "metadata": {},
     "output_type": "execute_result"
    }
   ],
   "source": [
    "df.to_numpy()"
   ]
  },
  {
   "cell_type": "code",
   "execution_count": 19,
   "id": "3083d419",
   "metadata": {},
   "outputs": [],
   "source": [
    " # >>>>>> ROW WISE ORDER IN ASCENDING ORDER <<<<<< "
   ]
  },
  {
   "cell_type": "code",
   "execution_count": 20,
   "id": "17db4dd1",
   "metadata": {},
   "outputs": [
    {
     "data": {
      "text/html": [
       "<div>\n",
       "<style scoped>\n",
       "    .dataframe tbody tr th:only-of-type {\n",
       "        vertical-align: middle;\n",
       "    }\n",
       "\n",
       "    .dataframe tbody tr th {\n",
       "        vertical-align: top;\n",
       "    }\n",
       "\n",
       "    .dataframe thead th {\n",
       "        text-align: right;\n",
       "    }\n",
       "</style>\n",
       "<table border=\"1\" class=\"dataframe\">\n",
       "  <thead>\n",
       "    <tr style=\"text-align: right;\">\n",
       "      <th></th>\n",
       "      <th>salary</th>\n",
       "      <th>month</th>\n",
       "      <th>work</th>\n",
       "    </tr>\n",
       "  </thead>\n",
       "  <tbody>\n",
       "    <tr>\n",
       "      <th>3</th>\n",
       "      <td>1500</td>\n",
       "      <td>1</td>\n",
       "      <td>electrician</td>\n",
       "    </tr>\n",
       "    <tr>\n",
       "      <th>2</th>\n",
       "      <td>4000</td>\n",
       "      <td>2</td>\n",
       "      <td>driver</td>\n",
       "    </tr>\n",
       "    <tr>\n",
       "      <th>1</th>\n",
       "      <td>5000</td>\n",
       "      <td>3</td>\n",
       "      <td>labour</td>\n",
       "    </tr>\n",
       "    <tr>\n",
       "      <th>0</th>\n",
       "      <td>2000</td>\n",
       "      <td>1</td>\n",
       "      <td>accountant</td>\n",
       "    </tr>\n",
       "  </tbody>\n",
       "</table>\n",
       "</div>"
      ],
      "text/plain": [
       "   salary  month         work\n",
       "3    1500      1  electrician\n",
       "2    4000      2       driver\n",
       "1    5000      3       labour\n",
       "0    2000      1   accountant"
      ]
     },
     "execution_count": 20,
     "metadata": {},
     "output_type": "execute_result"
    }
   ],
   "source": [
    "df.sort_index(axis=0,ascending=False)"
   ]
  },
  {
   "cell_type": "code",
   "execution_count": 21,
   "id": "804b430f",
   "metadata": {},
   "outputs": [],
   "source": [
    " # >>>>>> COLUMN WISE SORTING IN DISCENDING ORDER <<<<<<<<"
   ]
  },
  {
   "cell_type": "code",
   "execution_count": 22,
   "id": "31609a03",
   "metadata": {},
   "outputs": [
    {
     "data": {
      "text/html": [
       "<div>\n",
       "<style scoped>\n",
       "    .dataframe tbody tr th:only-of-type {\n",
       "        vertical-align: middle;\n",
       "    }\n",
       "\n",
       "    .dataframe tbody tr th {\n",
       "        vertical-align: top;\n",
       "    }\n",
       "\n",
       "    .dataframe thead th {\n",
       "        text-align: right;\n",
       "    }\n",
       "</style>\n",
       "<table border=\"1\" class=\"dataframe\">\n",
       "  <thead>\n",
       "    <tr style=\"text-align: right;\">\n",
       "      <th></th>\n",
       "      <th>work</th>\n",
       "      <th>salary</th>\n",
       "      <th>month</th>\n",
       "    </tr>\n",
       "  </thead>\n",
       "  <tbody>\n",
       "    <tr>\n",
       "      <th>0</th>\n",
       "      <td>accountant</td>\n",
       "      <td>2000</td>\n",
       "      <td>1</td>\n",
       "    </tr>\n",
       "    <tr>\n",
       "      <th>1</th>\n",
       "      <td>labour</td>\n",
       "      <td>5000</td>\n",
       "      <td>3</td>\n",
       "    </tr>\n",
       "    <tr>\n",
       "      <th>2</th>\n",
       "      <td>driver</td>\n",
       "      <td>4000</td>\n",
       "      <td>2</td>\n",
       "    </tr>\n",
       "    <tr>\n",
       "      <th>3</th>\n",
       "      <td>electrician</td>\n",
       "      <td>1500</td>\n",
       "      <td>1</td>\n",
       "    </tr>\n",
       "  </tbody>\n",
       "</table>\n",
       "</div>"
      ],
      "text/plain": [
       "          work  salary  month\n",
       "0   accountant    2000      1\n",
       "1       labour    5000      3\n",
       "2       driver    4000      2\n",
       "3  electrician    1500      1"
      ]
     },
     "execution_count": 22,
     "metadata": {},
     "output_type": "execute_result"
    }
   ],
   "source": [
    "\n",
    "df.sort_index(axis=1,ascending=False)"
   ]
  },
  {
   "cell_type": "code",
   "execution_count": 23,
   "id": "54f2a951",
   "metadata": {},
   "outputs": [],
   "source": [
    "# >>>>>>>>>  DF1 HOLDS THE MEMORY LOCATION OF DF <<<<<<<<"
   ]
  },
  {
   "cell_type": "code",
   "execution_count": 24,
   "id": "8d0f663f",
   "metadata": {},
   "outputs": [],
   "source": [
    "df1 = df"
   ]
  },
  {
   "cell_type": "code",
   "execution_count": 25,
   "id": "bb13572f",
   "metadata": {},
   "outputs": [],
   "source": [
    " # >>>>>>DF1 IS A VIEW OF DF IF WE CHANGE DF1 THEN DF ALSO CHANGES <<<<<<<<<"
   ]
  },
  {
   "cell_type": "code",
   "execution_count": 26,
   "id": "6b9f1134",
   "metadata": {},
   "outputs": [
    {
     "data": {
      "text/html": [
       "<div>\n",
       "<style scoped>\n",
       "    .dataframe tbody tr th:only-of-type {\n",
       "        vertical-align: middle;\n",
       "    }\n",
       "\n",
       "    .dataframe tbody tr th {\n",
       "        vertical-align: top;\n",
       "    }\n",
       "\n",
       "    .dataframe thead th {\n",
       "        text-align: right;\n",
       "    }\n",
       "</style>\n",
       "<table border=\"1\" class=\"dataframe\">\n",
       "  <thead>\n",
       "    <tr style=\"text-align: right;\">\n",
       "      <th></th>\n",
       "      <th>salary</th>\n",
       "      <th>month</th>\n",
       "      <th>work</th>\n",
       "    </tr>\n",
       "  </thead>\n",
       "  <tbody>\n",
       "    <tr>\n",
       "      <th>0</th>\n",
       "      <td>10000</td>\n",
       "      <td>1</td>\n",
       "      <td>accountant</td>\n",
       "    </tr>\n",
       "    <tr>\n",
       "      <th>1</th>\n",
       "      <td>5000</td>\n",
       "      <td>3</td>\n",
       "      <td>labour</td>\n",
       "    </tr>\n",
       "    <tr>\n",
       "      <th>2</th>\n",
       "      <td>4000</td>\n",
       "      <td>2</td>\n",
       "      <td>driver</td>\n",
       "    </tr>\n",
       "    <tr>\n",
       "      <th>3</th>\n",
       "      <td>1500</td>\n",
       "      <td>1</td>\n",
       "      <td>electrician</td>\n",
       "    </tr>\n",
       "  </tbody>\n",
       "</table>\n",
       "</div>"
      ],
      "text/plain": [
       "   salary  month         work\n",
       "0   10000      1   accountant\n",
       "1    5000      3       labour\n",
       "2    4000      2       driver\n",
       "3    1500      1  electrician"
      ]
     },
     "execution_count": 26,
     "metadata": {},
     "output_type": "execute_result"
    }
   ],
   "source": [
    "df1.loc[0,'salary']=10000\n",
    "df"
   ]
  },
  {
   "cell_type": "code",
   "execution_count": 27,
   "id": "015b03e0",
   "metadata": {},
   "outputs": [],
   "source": [
    "# >>>>>>>> COPY THE DATAFRAME <<<<<<<<"
   ]
  },
  {
   "cell_type": "code",
   "execution_count": 28,
   "id": "1f274d7b",
   "metadata": {},
   "outputs": [
    {
     "data": {
      "text/html": [
       "<div>\n",
       "<style scoped>\n",
       "    .dataframe tbody tr th:only-of-type {\n",
       "        vertical-align: middle;\n",
       "    }\n",
       "\n",
       "    .dataframe tbody tr th {\n",
       "        vertical-align: top;\n",
       "    }\n",
       "\n",
       "    .dataframe thead th {\n",
       "        text-align: right;\n",
       "    }\n",
       "</style>\n",
       "<table border=\"1\" class=\"dataframe\">\n",
       "  <thead>\n",
       "    <tr style=\"text-align: right;\">\n",
       "      <th></th>\n",
       "      <th>salary</th>\n",
       "      <th>month</th>\n",
       "      <th>work</th>\n",
       "    </tr>\n",
       "  </thead>\n",
       "  <tbody>\n",
       "    <tr>\n",
       "      <th>0</th>\n",
       "      <td>10000</td>\n",
       "      <td>1</td>\n",
       "      <td>accountant</td>\n",
       "    </tr>\n",
       "    <tr>\n",
       "      <th>1</th>\n",
       "      <td>5000</td>\n",
       "      <td>3</td>\n",
       "      <td>labour</td>\n",
       "    </tr>\n",
       "    <tr>\n",
       "      <th>2</th>\n",
       "      <td>4000</td>\n",
       "      <td>2</td>\n",
       "      <td>driver</td>\n",
       "    </tr>\n",
       "    <tr>\n",
       "      <th>3</th>\n",
       "      <td>1500</td>\n",
       "      <td>1</td>\n",
       "      <td>electrician</td>\n",
       "    </tr>\n",
       "  </tbody>\n",
       "</table>\n",
       "</div>"
      ],
      "text/plain": [
       "   salary  month         work\n",
       "0   10000      1   accountant\n",
       "1    5000      3       labour\n",
       "2    4000      2       driver\n",
       "3    1500      1  electrician"
      ]
     },
     "execution_count": 28,
     "metadata": {},
     "output_type": "execute_result"
    }
   ],
   "source": [
    "dfnew = df1.copy()\n",
    "dfnew"
   ]
  },
  {
   "cell_type": "code",
   "execution_count": 29,
   "id": "ca08fde7",
   "metadata": {},
   "outputs": [],
   "source": [
    "# >>>>>>>> CHANGE THE COLUMNS NAMES <<<<<<<<"
   ]
  },
  {
   "cell_type": "code",
   "execution_count": 30,
   "id": "5b8596ab",
   "metadata": {},
   "outputs": [
    {
     "data": {
      "text/html": [
       "<div>\n",
       "<style scoped>\n",
       "    .dataframe tbody tr th:only-of-type {\n",
       "        vertical-align: middle;\n",
       "    }\n",
       "\n",
       "    .dataframe tbody tr th {\n",
       "        vertical-align: top;\n",
       "    }\n",
       "\n",
       "    .dataframe thead th {\n",
       "        text-align: right;\n",
       "    }\n",
       "</style>\n",
       "<table border=\"1\" class=\"dataframe\">\n",
       "  <thead>\n",
       "    <tr style=\"text-align: right;\">\n",
       "      <th></th>\n",
       "      <th>A</th>\n",
       "      <th>B</th>\n",
       "      <th>C</th>\n",
       "    </tr>\n",
       "  </thead>\n",
       "  <tbody>\n",
       "    <tr>\n",
       "      <th>0</th>\n",
       "      <td>10000</td>\n",
       "      <td>1</td>\n",
       "      <td>accountant</td>\n",
       "    </tr>\n",
       "    <tr>\n",
       "      <th>1</th>\n",
       "      <td>5000</td>\n",
       "      <td>3</td>\n",
       "      <td>labour</td>\n",
       "    </tr>\n",
       "    <tr>\n",
       "      <th>2</th>\n",
       "      <td>4000</td>\n",
       "      <td>2</td>\n",
       "      <td>driver</td>\n",
       "    </tr>\n",
       "    <tr>\n",
       "      <th>3</th>\n",
       "      <td>1500</td>\n",
       "      <td>1</td>\n",
       "      <td>electrician</td>\n",
       "    </tr>\n",
       "  </tbody>\n",
       "</table>\n",
       "</div>"
      ],
      "text/plain": [
       "       A  B            C\n",
       "0  10000  1   accountant\n",
       "1   5000  3       labour\n",
       "2   4000  2       driver\n",
       "3   1500  1  electrician"
      ]
     },
     "execution_count": 30,
     "metadata": {},
     "output_type": "execute_result"
    }
   ],
   "source": [
    "dfnew.columns = list(\"ABC\")\n",
    "dfnew"
   ]
  },
  {
   "cell_type": "code",
   "execution_count": 31,
   "id": "d5da90e3",
   "metadata": {},
   "outputs": [],
   "source": [
    " # >>>>>> GET VALUE <<<<<<<"
   ]
  },
  {
   "cell_type": "code",
   "execution_count": 32,
   "id": "9f18e39b",
   "metadata": {},
   "outputs": [
    {
     "data": {
      "text/plain": [
       "'accountant'"
      ]
     },
     "execution_count": 32,
     "metadata": {},
     "output_type": "execute_result"
    }
   ],
   "source": [
    "dfnew.loc[0,'C']"
   ]
  },
  {
   "cell_type": "code",
   "execution_count": 33,
   "id": "7d223843",
   "metadata": {},
   "outputs": [],
   "source": [
    " #>>>>>> ADD INPLACE=TRUE FOR DELETING COLUMN FROM ORIGINAL DATAFRAME <<<<<<<<<"
   ]
  },
  {
   "cell_type": "code",
   "execution_count": 34,
   "id": "9c198462",
   "metadata": {},
   "outputs": [
    {
     "data": {
      "text/html": [
       "<div>\n",
       "<style scoped>\n",
       "    .dataframe tbody tr th:only-of-type {\n",
       "        vertical-align: middle;\n",
       "    }\n",
       "\n",
       "    .dataframe tbody tr th {\n",
       "        vertical-align: top;\n",
       "    }\n",
       "\n",
       "    .dataframe thead th {\n",
       "        text-align: right;\n",
       "    }\n",
       "</style>\n",
       "<table border=\"1\" class=\"dataframe\">\n",
       "  <thead>\n",
       "    <tr style=\"text-align: right;\">\n",
       "      <th></th>\n",
       "      <th>A</th>\n",
       "      <th>C</th>\n",
       "    </tr>\n",
       "  </thead>\n",
       "  <tbody>\n",
       "    <tr>\n",
       "      <th>0</th>\n",
       "      <td>10000</td>\n",
       "      <td>accountant</td>\n",
       "    </tr>\n",
       "    <tr>\n",
       "      <th>1</th>\n",
       "      <td>5000</td>\n",
       "      <td>labour</td>\n",
       "    </tr>\n",
       "    <tr>\n",
       "      <th>2</th>\n",
       "      <td>4000</td>\n",
       "      <td>driver</td>\n",
       "    </tr>\n",
       "    <tr>\n",
       "      <th>3</th>\n",
       "      <td>1500</td>\n",
       "      <td>electrician</td>\n",
       "    </tr>\n",
       "  </tbody>\n",
       "</table>\n",
       "</div>"
      ],
      "text/plain": [
       "       A            C\n",
       "0  10000   accountant\n",
       "1   5000       labour\n",
       "2   4000       driver\n",
       "3   1500  electrician"
      ]
     },
     "execution_count": 34,
     "metadata": {},
     "output_type": "execute_result"
    }
   ],
   "source": [
    "dfnew.drop('B',axis=1)"
   ]
  },
  {
   "cell_type": "code",
   "execution_count": 35,
   "id": "6f402c8a",
   "metadata": {},
   "outputs": [],
   "source": [
    " # >>>>>>>> RETURN ROW 1 AND ROW 2 AND ALL COLUMNS ARE SAME <<<<<<<<<<"
   ]
  },
  {
   "cell_type": "code",
   "execution_count": 36,
   "id": "01a65412",
   "metadata": {},
   "outputs": [
    {
     "data": {
      "text/html": [
       "<div>\n",
       "<style scoped>\n",
       "    .dataframe tbody tr th:only-of-type {\n",
       "        vertical-align: middle;\n",
       "    }\n",
       "\n",
       "    .dataframe tbody tr th {\n",
       "        vertical-align: top;\n",
       "    }\n",
       "\n",
       "    .dataframe thead th {\n",
       "        text-align: right;\n",
       "    }\n",
       "</style>\n",
       "<table border=\"1\" class=\"dataframe\">\n",
       "  <thead>\n",
       "    <tr style=\"text-align: right;\">\n",
       "      <th></th>\n",
       "      <th>A</th>\n",
       "      <th>B</th>\n",
       "      <th>C</th>\n",
       "    </tr>\n",
       "  </thead>\n",
       "  <tbody>\n",
       "    <tr>\n",
       "      <th>1</th>\n",
       "      <td>5000</td>\n",
       "      <td>3</td>\n",
       "      <td>labour</td>\n",
       "    </tr>\n",
       "    <tr>\n",
       "      <th>3</th>\n",
       "      <td>1500</td>\n",
       "      <td>1</td>\n",
       "      <td>electrician</td>\n",
       "    </tr>\n",
       "  </tbody>\n",
       "</table>\n",
       "</div>"
      ],
      "text/plain": [
       "      A  B            C\n",
       "1  5000  3       labour\n",
       "3  1500  1  electrician"
      ]
     },
     "execution_count": 36,
     "metadata": {},
     "output_type": "execute_result"
    }
   ],
   "source": [
    "dfnew.loc[[1,3],:]"
   ]
  },
  {
   "cell_type": "code",
   "execution_count": 37,
   "id": "26585280",
   "metadata": {},
   "outputs": [],
   "source": [
    " # >>>>>>>>> ALL ROWS AND A,B COLUMN ONLY <<<<<<<<"
   ]
  },
  {
   "cell_type": "code",
   "execution_count": 38,
   "id": "6ea3afd0",
   "metadata": {},
   "outputs": [
    {
     "data": {
      "text/html": [
       "<div>\n",
       "<style scoped>\n",
       "    .dataframe tbody tr th:only-of-type {\n",
       "        vertical-align: middle;\n",
       "    }\n",
       "\n",
       "    .dataframe tbody tr th {\n",
       "        vertical-align: top;\n",
       "    }\n",
       "\n",
       "    .dataframe thead th {\n",
       "        text-align: right;\n",
       "    }\n",
       "</style>\n",
       "<table border=\"1\" class=\"dataframe\">\n",
       "  <thead>\n",
       "    <tr style=\"text-align: right;\">\n",
       "      <th></th>\n",
       "      <th>A</th>\n",
       "      <th>B</th>\n",
       "    </tr>\n",
       "  </thead>\n",
       "  <tbody>\n",
       "    <tr>\n",
       "      <th>0</th>\n",
       "      <td>10000</td>\n",
       "      <td>1</td>\n",
       "    </tr>\n",
       "    <tr>\n",
       "      <th>1</th>\n",
       "      <td>5000</td>\n",
       "      <td>3</td>\n",
       "    </tr>\n",
       "    <tr>\n",
       "      <th>2</th>\n",
       "      <td>4000</td>\n",
       "      <td>2</td>\n",
       "    </tr>\n",
       "    <tr>\n",
       "      <th>3</th>\n",
       "      <td>1500</td>\n",
       "      <td>1</td>\n",
       "    </tr>\n",
       "  </tbody>\n",
       "</table>\n",
       "</div>"
      ],
      "text/plain": [
       "       A  B\n",
       "0  10000  1\n",
       "1   5000  3\n",
       "2   4000  2\n",
       "3   1500  1"
      ]
     },
     "execution_count": 38,
     "metadata": {},
     "output_type": "execute_result"
    }
   ],
   "source": [
    "dfnew.loc[:,['A','B']]"
   ]
  },
  {
   "cell_type": "code",
   "execution_count": 39,
   "id": "67d6a040",
   "metadata": {},
   "outputs": [],
   "source": [
    " #returns all rows which has column A vlaue <400"
   ]
  },
  {
   "cell_type": "code",
   "execution_count": 40,
   "id": "0a43cb04",
   "metadata": {},
   "outputs": [
    {
     "data": {
      "text/html": [
       "<div>\n",
       "<style scoped>\n",
       "    .dataframe tbody tr th:only-of-type {\n",
       "        vertical-align: middle;\n",
       "    }\n",
       "\n",
       "    .dataframe tbody tr th {\n",
       "        vertical-align: top;\n",
       "    }\n",
       "\n",
       "    .dataframe thead th {\n",
       "        text-align: right;\n",
       "    }\n",
       "</style>\n",
       "<table border=\"1\" class=\"dataframe\">\n",
       "  <thead>\n",
       "    <tr style=\"text-align: right;\">\n",
       "      <th></th>\n",
       "      <th>A</th>\n",
       "      <th>B</th>\n",
       "      <th>C</th>\n",
       "    </tr>\n",
       "  </thead>\n",
       "  <tbody>\n",
       "    <tr>\n",
       "      <th>3</th>\n",
       "      <td>1500</td>\n",
       "      <td>1</td>\n",
       "      <td>electrician</td>\n",
       "    </tr>\n",
       "  </tbody>\n",
       "</table>\n",
       "</div>"
      ],
      "text/plain": [
       "      A  B            C\n",
       "3  1500  1  electrician"
      ]
     },
     "execution_count": 40,
     "metadata": {},
     "output_type": "execute_result"
    }
   ],
   "source": [
    "dfnew.loc[(dfnew['A']<2000)]"
   ]
  },
  {
   "cell_type": "code",
   "execution_count": 41,
   "id": "3f9c07da",
   "metadata": {},
   "outputs": [],
   "source": [
    " # >>>>>>>> RETURN ALL ROWS WHICH HAVE COLUMN A VALUE <400 AND COLUMN B VALUE > 50  <<<<<<<<<<"
   ]
  },
  {
   "cell_type": "code",
   "execution_count": 42,
   "id": "81f3839b",
   "metadata": {},
   "outputs": [
    {
     "data": {
      "text/html": [
       "<div>\n",
       "<style scoped>\n",
       "    .dataframe tbody tr th:only-of-type {\n",
       "        vertical-align: middle;\n",
       "    }\n",
       "\n",
       "    .dataframe tbody tr th {\n",
       "        vertical-align: top;\n",
       "    }\n",
       "\n",
       "    .dataframe thead th {\n",
       "        text-align: right;\n",
       "    }\n",
       "</style>\n",
       "<table border=\"1\" class=\"dataframe\">\n",
       "  <thead>\n",
       "    <tr style=\"text-align: right;\">\n",
       "      <th></th>\n",
       "      <th>A</th>\n",
       "      <th>B</th>\n",
       "      <th>C</th>\n",
       "    </tr>\n",
       "  </thead>\n",
       "  <tbody>\n",
       "  </tbody>\n",
       "</table>\n",
       "</div>"
      ],
      "text/plain": [
       "Empty DataFrame\n",
       "Columns: [A, B, C]\n",
       "Index: []"
      ]
     },
     "execution_count": 42,
     "metadata": {},
     "output_type": "execute_result"
    }
   ],
   "source": [
    "dfnew.loc[(dfnew['A']<4000) & (dfnew['B']>2000)]"
   ]
  },
  {
   "cell_type": "code",
   "execution_count": 43,
   "id": "820b6dde",
   "metadata": {},
   "outputs": [],
   "source": [
    " #column or row name Na use karna ho tab use iloc \n",
    "# >>>>>>> RETURN ROW NAME COLUMN ONLY <<<<<<<<"
   ]
  },
  {
   "cell_type": "code",
   "execution_count": 44,
   "id": "e638f998",
   "metadata": {},
   "outputs": [
    {
     "data": {
      "text/plain": [
       "1"
      ]
     },
     "execution_count": 44,
     "metadata": {},
     "output_type": "execute_result"
    }
   ],
   "source": [
    "dfnew.iloc[0,1]"
   ]
  },
  {
   "cell_type": "code",
   "execution_count": 45,
   "id": "62070844",
   "metadata": {},
   "outputs": [],
   "source": [
    "# >>>>>>>RETURN ROW1 AND ROW 2 COLUMN A ONLY <<<<<<<<"
   ]
  },
  {
   "cell_type": "code",
   "execution_count": 46,
   "id": "b7499467",
   "metadata": {},
   "outputs": [
    {
     "data": {
      "text/html": [
       "<div>\n",
       "<style scoped>\n",
       "    .dataframe tbody tr th:only-of-type {\n",
       "        vertical-align: middle;\n",
       "    }\n",
       "\n",
       "    .dataframe tbody tr th {\n",
       "        vertical-align: top;\n",
       "    }\n",
       "\n",
       "    .dataframe thead th {\n",
       "        text-align: right;\n",
       "    }\n",
       "</style>\n",
       "<table border=\"1\" class=\"dataframe\">\n",
       "  <thead>\n",
       "    <tr style=\"text-align: right;\">\n",
       "      <th></th>\n",
       "      <th>B</th>\n",
       "    </tr>\n",
       "  </thead>\n",
       "  <tbody>\n",
       "    <tr>\n",
       "      <th>1</th>\n",
       "      <td>3</td>\n",
       "    </tr>\n",
       "    <tr>\n",
       "      <th>2</th>\n",
       "      <td>2</td>\n",
       "    </tr>\n",
       "  </tbody>\n",
       "</table>\n",
       "</div>"
      ],
      "text/plain": [
       "   B\n",
       "1  3\n",
       "2  2"
      ]
     },
     "execution_count": 46,
     "metadata": {},
     "output_type": "execute_result"
    }
   ],
   "source": [
    "dfnew.iloc[[1,2],[1]] "
   ]
  },
  {
   "cell_type": "code",
   "execution_count": 47,
   "id": "175ae85f",
   "metadata": {},
   "outputs": [],
   "source": [
    " # >>>>>>>> RETURN PANDAS SERIES <<<<<<<<<<"
   ]
  },
  {
   "cell_type": "code",
   "execution_count": 48,
   "id": "d0e47935",
   "metadata": {},
   "outputs": [
    {
     "data": {
      "text/plain": [
       "salary           1500\n",
       "month               1\n",
       "work      electrician\n",
       "Name: 3, dtype: object"
      ]
     },
     "execution_count": 48,
     "metadata": {},
     "output_type": "execute_result"
    }
   ],
   "source": [
    "df.loc[3]"
   ]
  },
  {
   "cell_type": "code",
   "execution_count": 49,
   "id": "3a48339d",
   "metadata": {},
   "outputs": [],
   "source": [
    "# >>>>>>> RETURN ROW 0 AND 1 ,[] when we use this in loc it means it returns pandas dataframe\n"
   ]
  },
  {
   "cell_type": "code",
   "execution_count": 50,
   "id": "2d2c3a5e",
   "metadata": {},
   "outputs": [
    {
     "data": {
      "text/html": [
       "<div>\n",
       "<style scoped>\n",
       "    .dataframe tbody tr th:only-of-type {\n",
       "        vertical-align: middle;\n",
       "    }\n",
       "\n",
       "    .dataframe tbody tr th {\n",
       "        vertical-align: top;\n",
       "    }\n",
       "\n",
       "    .dataframe thead th {\n",
       "        text-align: right;\n",
       "    }\n",
       "</style>\n",
       "<table border=\"1\" class=\"dataframe\">\n",
       "  <thead>\n",
       "    <tr style=\"text-align: right;\">\n",
       "      <th></th>\n",
       "      <th>salary</th>\n",
       "      <th>month</th>\n",
       "      <th>work</th>\n",
       "    </tr>\n",
       "  </thead>\n",
       "  <tbody>\n",
       "    <tr>\n",
       "      <th>0</th>\n",
       "      <td>10000</td>\n",
       "      <td>1</td>\n",
       "      <td>accountant</td>\n",
       "    </tr>\n",
       "    <tr>\n",
       "      <th>1</th>\n",
       "      <td>5000</td>\n",
       "      <td>3</td>\n",
       "      <td>labour</td>\n",
       "    </tr>\n",
       "  </tbody>\n",
       "</table>\n",
       "</div>"
      ],
      "text/plain": [
       "   salary  month        work\n",
       "0   10000      1  accountant\n",
       "1    5000      3      labour"
      ]
     },
     "execution_count": 50,
     "metadata": {},
     "output_type": "execute_result"
    }
   ],
   "source": [
    "df.loc[[0,1],]"
   ]
  },
  {
   "cell_type": "code",
   "execution_count": 51,
   "id": "9f92a15d",
   "metadata": {},
   "outputs": [],
   "source": [
    "# >>>>>>> NAME THE INDEXES <<<<<<<"
   ]
  },
  {
   "cell_type": "code",
   "execution_count": 52,
   "id": "c172e87e",
   "metadata": {},
   "outputs": [
    {
     "name": "stdout",
     "output_type": "stream",
     "text": [
      "        salary  month         work\n",
      "MONTH1    2000      1   accountant\n",
      "MONTH2    5000      3       labour\n",
      "MONTH3    4000      2       driver\n",
      "MONTH4    1500      1  electrician\n"
     ]
    }
   ],
   "source": [
    "df = pd.DataFrame(data,index=[\"MONTH1\",\"MONTH2\",\"MONTH3\",\"MONTH4\"])\n",
    "print(df.to_string())"
   ]
  },
  {
   "cell_type": "code",
   "execution_count": 53,
   "id": "6a8cf7cc",
   "metadata": {},
   "outputs": [],
   "source": [
    "# >>>>>>>> LOCATE NAME INDEXES <<<<<<<<"
   ]
  },
  {
   "cell_type": "code",
   "execution_count": 54,
   "id": "5fbd4231",
   "metadata": {},
   "outputs": [
    {
     "data": {
      "text/html": [
       "<div>\n",
       "<style scoped>\n",
       "    .dataframe tbody tr th:only-of-type {\n",
       "        vertical-align: middle;\n",
       "    }\n",
       "\n",
       "    .dataframe tbody tr th {\n",
       "        vertical-align: top;\n",
       "    }\n",
       "\n",
       "    .dataframe thead th {\n",
       "        text-align: right;\n",
       "    }\n",
       "</style>\n",
       "<table border=\"1\" class=\"dataframe\">\n",
       "  <thead>\n",
       "    <tr style=\"text-align: right;\">\n",
       "      <th></th>\n",
       "      <th>salary</th>\n",
       "      <th>month</th>\n",
       "      <th>work</th>\n",
       "    </tr>\n",
       "  </thead>\n",
       "  <tbody>\n",
       "    <tr>\n",
       "      <th>MONTH1</th>\n",
       "      <td>2000</td>\n",
       "      <td>1</td>\n",
       "      <td>accountant</td>\n",
       "    </tr>\n",
       "    <tr>\n",
       "      <th>MONTH2</th>\n",
       "      <td>5000</td>\n",
       "      <td>3</td>\n",
       "      <td>labour</td>\n",
       "    </tr>\n",
       "    <tr>\n",
       "      <th>MONTH3</th>\n",
       "      <td>4000</td>\n",
       "      <td>2</td>\n",
       "      <td>driver</td>\n",
       "    </tr>\n",
       "    <tr>\n",
       "      <th>MONTH4</th>\n",
       "      <td>1500</td>\n",
       "      <td>1</td>\n",
       "      <td>electrician</td>\n",
       "    </tr>\n",
       "  </tbody>\n",
       "</table>\n",
       "</div>"
      ],
      "text/plain": [
       "        salary  month         work\n",
       "MONTH1    2000      1   accountant\n",
       "MONTH2    5000      3       labour\n",
       "MONTH3    4000      2       driver\n",
       "MONTH4    1500      1  electrician"
      ]
     },
     "execution_count": 54,
     "metadata": {},
     "output_type": "execute_result"
    }
   ],
   "source": [
    "df.loc[\"MONTH1\"]\n",
    "df"
   ]
  },
  {
   "cell_type": "code",
   "execution_count": null,
   "id": "b7c8a931",
   "metadata": {},
   "outputs": [],
   "source": []
  },
  {
   "cell_type": "markdown",
   "id": "985e0a29",
   "metadata": {},
   "source": [
    "#  READING COMMA-SEPERATED VALUE FILE....."
   ]
  },
  {
   "cell_type": "code",
   "execution_count": 55,
   "id": "09ef84d6",
   "metadata": {},
   "outputs": [],
   "source": [
    "movie = pd.read_csv(r\"C:\\Users\\kalya\\OneDrive\\Desktop\\Data Workshop\\disney_plus_titles.csv\")\n"
   ]
  },
  {
   "cell_type": "code",
   "execution_count": 56,
   "id": "c56a93a3",
   "metadata": {},
   "outputs": [],
   "source": [
    "# >>>>>>>> SHOW THE HEADING DATA <<<<<<<<<"
   ]
  },
  {
   "cell_type": "code",
   "execution_count": 57,
   "id": "2ad0ffae",
   "metadata": {},
   "outputs": [
    {
     "data": {
      "text/html": [
       "<div>\n",
       "<style scoped>\n",
       "    .dataframe tbody tr th:only-of-type {\n",
       "        vertical-align: middle;\n",
       "    }\n",
       "\n",
       "    .dataframe tbody tr th {\n",
       "        vertical-align: top;\n",
       "    }\n",
       "\n",
       "    .dataframe thead th {\n",
       "        text-align: right;\n",
       "    }\n",
       "</style>\n",
       "<table border=\"1\" class=\"dataframe\">\n",
       "  <thead>\n",
       "    <tr style=\"text-align: right;\">\n",
       "      <th></th>\n",
       "      <th>show_id</th>\n",
       "      <th>type</th>\n",
       "      <th>title</th>\n",
       "      <th>director</th>\n",
       "      <th>cast</th>\n",
       "      <th>country</th>\n",
       "      <th>date_added</th>\n",
       "      <th>release_year</th>\n",
       "      <th>rating</th>\n",
       "      <th>duration</th>\n",
       "      <th>listed_in</th>\n",
       "      <th>description</th>\n",
       "    </tr>\n",
       "  </thead>\n",
       "  <tbody>\n",
       "    <tr>\n",
       "      <th>0</th>\n",
       "      <td>s3</td>\n",
       "      <td>Movie</td>\n",
       "      <td>Ice Age: A Mammoth Christmas</td>\n",
       "      <td>Karen Disher</td>\n",
       "      <td>Raymond Albert Romano, John Leguizamo, Denis L...</td>\n",
       "      <td>United States</td>\n",
       "      <td>November 26, 2021</td>\n",
       "      <td>2011</td>\n",
       "      <td>TV-G</td>\n",
       "      <td>23 min</td>\n",
       "      <td>Animation, Comedy, Family</td>\n",
       "      <td>Sid the Sloth is on Santa's naughty list.</td>\n",
       "    </tr>\n",
       "    <tr>\n",
       "      <th>1</th>\n",
       "      <td>s6</td>\n",
       "      <td>Movie</td>\n",
       "      <td>Becoming Cousteau</td>\n",
       "      <td>Liz Garbus</td>\n",
       "      <td>Jacques Yves Cousteau, Vincent Cassel</td>\n",
       "      <td>United States</td>\n",
       "      <td>November 24, 2021</td>\n",
       "      <td>2021</td>\n",
       "      <td>PG-13</td>\n",
       "      <td>94 min</td>\n",
       "      <td>Biographical, Documentary</td>\n",
       "      <td>An inside look at the legendary life of advent...</td>\n",
       "    </tr>\n",
       "    <tr>\n",
       "      <th>2</th>\n",
       "      <td>s8</td>\n",
       "      <td>TV Show</td>\n",
       "      <td>Port Protection Alaska</td>\n",
       "      <td>NaN</td>\n",
       "      <td>Gary Muehlberger, Mary Miller, Curly Leach, Sa...</td>\n",
       "      <td>United States</td>\n",
       "      <td>November 24, 2021</td>\n",
       "      <td>2015</td>\n",
       "      <td>TV-14</td>\n",
       "      <td>2 Seasons</td>\n",
       "      <td>Docuseries, Reality, Survival</td>\n",
       "      <td>Residents of Port Protection must combat volat...</td>\n",
       "    </tr>\n",
       "    <tr>\n",
       "      <th>3</th>\n",
       "      <td>s9</td>\n",
       "      <td>TV Show</td>\n",
       "      <td>Secrets of the Zoo: Tampa</td>\n",
       "      <td>NaN</td>\n",
       "      <td>Dr. Ray Ball, Dr. Lauren Smith, Chris Massaro,...</td>\n",
       "      <td>United States</td>\n",
       "      <td>November 24, 2021</td>\n",
       "      <td>2019</td>\n",
       "      <td>TV-PG</td>\n",
       "      <td>2 Seasons</td>\n",
       "      <td>Animals &amp; Nature, Docuseries, Family</td>\n",
       "      <td>A day in the life at ZooTampa is anything but ...</td>\n",
       "    </tr>\n",
       "    <tr>\n",
       "      <th>4</th>\n",
       "      <td>s10</td>\n",
       "      <td>Movie</td>\n",
       "      <td>A Muppets Christmas: Letters To Santa</td>\n",
       "      <td>Kirk R. Thatcher</td>\n",
       "      <td>Steve Whitmire, Dave Goelz, Bill Barretta, Eri...</td>\n",
       "      <td>United States</td>\n",
       "      <td>November 19, 2021</td>\n",
       "      <td>2008</td>\n",
       "      <td>G</td>\n",
       "      <td>45 min</td>\n",
       "      <td>Comedy, Family, Musical</td>\n",
       "      <td>Celebrate the holiday season with all your fav...</td>\n",
       "    </tr>\n",
       "  </tbody>\n",
       "</table>\n",
       "</div>"
      ],
      "text/plain": [
       "  show_id     type                                  title          director  \\\n",
       "0      s3    Movie           Ice Age: A Mammoth Christmas      Karen Disher   \n",
       "1      s6    Movie                      Becoming Cousteau        Liz Garbus   \n",
       "2      s8  TV Show                 Port Protection Alaska               NaN   \n",
       "3      s9  TV Show              Secrets of the Zoo: Tampa               NaN   \n",
       "4     s10    Movie  A Muppets Christmas: Letters To Santa  Kirk R. Thatcher   \n",
       "\n",
       "                                                cast        country  \\\n",
       "0  Raymond Albert Romano, John Leguizamo, Denis L...  United States   \n",
       "1              Jacques Yves Cousteau, Vincent Cassel  United States   \n",
       "2  Gary Muehlberger, Mary Miller, Curly Leach, Sa...  United States   \n",
       "3  Dr. Ray Ball, Dr. Lauren Smith, Chris Massaro,...  United States   \n",
       "4  Steve Whitmire, Dave Goelz, Bill Barretta, Eri...  United States   \n",
       "\n",
       "          date_added  release_year rating   duration  \\\n",
       "0  November 26, 2021          2011   TV-G     23 min   \n",
       "1  November 24, 2021          2021  PG-13     94 min   \n",
       "2  November 24, 2021          2015  TV-14  2 Seasons   \n",
       "3  November 24, 2021          2019  TV-PG  2 Seasons   \n",
       "4  November 19, 2021          2008      G     45 min   \n",
       "\n",
       "                              listed_in  \\\n",
       "0             Animation, Comedy, Family   \n",
       "1             Biographical, Documentary   \n",
       "2         Docuseries, Reality, Survival   \n",
       "3  Animals & Nature, Docuseries, Family   \n",
       "4               Comedy, Family, Musical   \n",
       "\n",
       "                                         description  \n",
       "0          Sid the Sloth is on Santa's naughty list.  \n",
       "1  An inside look at the legendary life of advent...  \n",
       "2  Residents of Port Protection must combat volat...  \n",
       "3  A day in the life at ZooTampa is anything but ...  \n",
       "4  Celebrate the holiday season with all your fav...  "
      ]
     },
     "execution_count": 57,
     "metadata": {},
     "output_type": "execute_result"
    }
   ],
   "source": [
    "movie.head()"
   ]
  },
  {
   "cell_type": "code",
   "execution_count": 58,
   "id": "5a7d243e",
   "metadata": {},
   "outputs": [],
   "source": [
    "# >>>>>>> SHOWS THE LAST DATA IN DATASET <<<<<<<<"
   ]
  },
  {
   "cell_type": "code",
   "execution_count": 59,
   "id": "c68c8d3f",
   "metadata": {},
   "outputs": [
    {
     "data": {
      "text/html": [
       "<div>\n",
       "<style scoped>\n",
       "    .dataframe tbody tr th:only-of-type {\n",
       "        vertical-align: middle;\n",
       "    }\n",
       "\n",
       "    .dataframe tbody tr th {\n",
       "        vertical-align: top;\n",
       "    }\n",
       "\n",
       "    .dataframe thead th {\n",
       "        text-align: right;\n",
       "    }\n",
       "</style>\n",
       "<table border=\"1\" class=\"dataframe\">\n",
       "  <thead>\n",
       "    <tr style=\"text-align: right;\">\n",
       "      <th></th>\n",
       "      <th>show_id</th>\n",
       "      <th>type</th>\n",
       "      <th>title</th>\n",
       "      <th>director</th>\n",
       "      <th>cast</th>\n",
       "      <th>country</th>\n",
       "      <th>date_added</th>\n",
       "      <th>release_year</th>\n",
       "      <th>rating</th>\n",
       "      <th>duration</th>\n",
       "      <th>listed_in</th>\n",
       "      <th>description</th>\n",
       "    </tr>\n",
       "  </thead>\n",
       "  <tbody>\n",
       "    <tr>\n",
       "      <th>1226</th>\n",
       "      <td>s1446</td>\n",
       "      <td>Movie</td>\n",
       "      <td>X-Men Origins: Wolverine</td>\n",
       "      <td>Gavin Hood</td>\n",
       "      <td>Hugh Jackman, Liev Schreiber, Danny Huston, wi...</td>\n",
       "      <td>United States, United Kingdom</td>\n",
       "      <td>June 4, 2021</td>\n",
       "      <td>2009</td>\n",
       "      <td>PG-13</td>\n",
       "      <td>108 min</td>\n",
       "      <td>Action-Adventure, Family, Science Fiction</td>\n",
       "      <td>Wolverine unites with legendary X-Men to fight...</td>\n",
       "    </tr>\n",
       "    <tr>\n",
       "      <th>1227</th>\n",
       "      <td>s1447</td>\n",
       "      <td>Movie</td>\n",
       "      <td>Night at the Museum: Battle of the Smithsonian</td>\n",
       "      <td>Shawn Levy</td>\n",
       "      <td>Ben Stiller, Amy Adams, Owen Wilson, Hank Azar...</td>\n",
       "      <td>United States, Canada</td>\n",
       "      <td>April 2, 2021</td>\n",
       "      <td>2009</td>\n",
       "      <td>PG</td>\n",
       "      <td>106 min</td>\n",
       "      <td>Action-Adventure, Comedy, Family</td>\n",
       "      <td>Larry Daley returns to rescue some old friends...</td>\n",
       "    </tr>\n",
       "    <tr>\n",
       "      <th>1228</th>\n",
       "      <td>s1448</td>\n",
       "      <td>Movie</td>\n",
       "      <td>Eddie the Eagle</td>\n",
       "      <td>Dexter Fletcher</td>\n",
       "      <td>Tom Costello, Jo Hartley, Keith Allen, Dickon ...</td>\n",
       "      <td>United Kingdom, Germany, United States</td>\n",
       "      <td>December 18, 2020</td>\n",
       "      <td>2016</td>\n",
       "      <td>PG-13</td>\n",
       "      <td>107 min</td>\n",
       "      <td>Biographical, Comedy, Drama</td>\n",
       "      <td>True story of Eddie Edwards, a British ski-jum...</td>\n",
       "    </tr>\n",
       "    <tr>\n",
       "      <th>1229</th>\n",
       "      <td>s1449</td>\n",
       "      <td>Movie</td>\n",
       "      <td>Bend It Like Beckham</td>\n",
       "      <td>Gurinder Chadha</td>\n",
       "      <td>Parminder Nagra, Keira Knightley, Jonathan Rhy...</td>\n",
       "      <td>United Kingdom, Germany, United States</td>\n",
       "      <td>September 18, 2020</td>\n",
       "      <td>2003</td>\n",
       "      <td>PG-13</td>\n",
       "      <td>112 min</td>\n",
       "      <td>Buddy, Comedy, Coming of Age</td>\n",
       "      <td>Despite the wishes of their traditional famili...</td>\n",
       "    </tr>\n",
       "    <tr>\n",
       "      <th>1230</th>\n",
       "      <td>s1450</td>\n",
       "      <td>Movie</td>\n",
       "      <td>Captain Sparky vs. The Flying Saucers</td>\n",
       "      <td>Mark Waring</td>\n",
       "      <td>Charlie Tahan</td>\n",
       "      <td>United States</td>\n",
       "      <td>April 1, 2020</td>\n",
       "      <td>2012</td>\n",
       "      <td>TV-G</td>\n",
       "      <td>2 min</td>\n",
       "      <td>Action-Adventure, Animals &amp; Nature, Animation</td>\n",
       "      <td>View one of Sparky's favorite home movies.</td>\n",
       "    </tr>\n",
       "  </tbody>\n",
       "</table>\n",
       "</div>"
      ],
      "text/plain": [
       "     show_id   type                                           title  \\\n",
       "1226   s1446  Movie                        X-Men Origins: Wolverine   \n",
       "1227   s1447  Movie  Night at the Museum: Battle of the Smithsonian   \n",
       "1228   s1448  Movie                                 Eddie the Eagle   \n",
       "1229   s1449  Movie                            Bend It Like Beckham   \n",
       "1230   s1450  Movie           Captain Sparky vs. The Flying Saucers   \n",
       "\n",
       "             director                                               cast  \\\n",
       "1226       Gavin Hood  Hugh Jackman, Liev Schreiber, Danny Huston, wi...   \n",
       "1227       Shawn Levy  Ben Stiller, Amy Adams, Owen Wilson, Hank Azar...   \n",
       "1228  Dexter Fletcher  Tom Costello, Jo Hartley, Keith Allen, Dickon ...   \n",
       "1229  Gurinder Chadha  Parminder Nagra, Keira Knightley, Jonathan Rhy...   \n",
       "1230      Mark Waring                                      Charlie Tahan   \n",
       "\n",
       "                                     country          date_added  \\\n",
       "1226           United States, United Kingdom        June 4, 2021   \n",
       "1227                   United States, Canada       April 2, 2021   \n",
       "1228  United Kingdom, Germany, United States   December 18, 2020   \n",
       "1229  United Kingdom, Germany, United States  September 18, 2020   \n",
       "1230                           United States       April 1, 2020   \n",
       "\n",
       "      release_year rating duration  \\\n",
       "1226          2009  PG-13  108 min   \n",
       "1227          2009     PG  106 min   \n",
       "1228          2016  PG-13  107 min   \n",
       "1229          2003  PG-13  112 min   \n",
       "1230          2012   TV-G    2 min   \n",
       "\n",
       "                                          listed_in  \\\n",
       "1226      Action-Adventure, Family, Science Fiction   \n",
       "1227               Action-Adventure, Comedy, Family   \n",
       "1228                    Biographical, Comedy, Drama   \n",
       "1229                   Buddy, Comedy, Coming of Age   \n",
       "1230  Action-Adventure, Animals & Nature, Animation   \n",
       "\n",
       "                                            description  \n",
       "1226  Wolverine unites with legendary X-Men to fight...  \n",
       "1227  Larry Daley returns to rescue some old friends...  \n",
       "1228  True story of Eddie Edwards, a British ski-jum...  \n",
       "1229  Despite the wishes of their traditional famili...  \n",
       "1230         View one of Sparky's favorite home movies.  "
      ]
     },
     "execution_count": 59,
     "metadata": {},
     "output_type": "execute_result"
    }
   ],
   "source": [
    "movie.tail()"
   ]
  },
  {
   "cell_type": "code",
   "execution_count": 60,
   "id": "5e5b35dd",
   "metadata": {},
   "outputs": [],
   "source": [
    " # >>>>>>>> CHECK THE NO OF MAXIMUM RETURN ROWS IN THE DATA SET <<<<<<<<<"
   ]
  },
  {
   "cell_type": "code",
   "execution_count": 61,
   "id": "86677eee",
   "metadata": {},
   "outputs": [
    {
     "data": {
      "text/plain": [
       "60"
      ]
     },
     "execution_count": 61,
     "metadata": {},
     "output_type": "execute_result"
    }
   ],
   "source": [
    "pd.options.display.max_rows"
   ]
  },
  {
   "cell_type": "code",
   "execution_count": 62,
   "id": "5a7d51ce",
   "metadata": {},
   "outputs": [],
   "source": [
    "# >>>>>>> SHOWS THE FIRST 6 DATA ROWS IN DATASET <<<<<<<<"
   ]
  },
  {
   "cell_type": "code",
   "execution_count": 63,
   "id": "d7bbf6cd",
   "metadata": {},
   "outputs": [
    {
     "data": {
      "text/html": [
       "<div>\n",
       "<style scoped>\n",
       "    .dataframe tbody tr th:only-of-type {\n",
       "        vertical-align: middle;\n",
       "    }\n",
       "\n",
       "    .dataframe tbody tr th {\n",
       "        vertical-align: top;\n",
       "    }\n",
       "\n",
       "    .dataframe thead th {\n",
       "        text-align: right;\n",
       "    }\n",
       "</style>\n",
       "<table border=\"1\" class=\"dataframe\">\n",
       "  <thead>\n",
       "    <tr style=\"text-align: right;\">\n",
       "      <th></th>\n",
       "      <th>show_id</th>\n",
       "      <th>type</th>\n",
       "      <th>title</th>\n",
       "      <th>director</th>\n",
       "      <th>cast</th>\n",
       "      <th>country</th>\n",
       "      <th>date_added</th>\n",
       "      <th>release_year</th>\n",
       "      <th>rating</th>\n",
       "      <th>duration</th>\n",
       "      <th>listed_in</th>\n",
       "      <th>description</th>\n",
       "    </tr>\n",
       "  </thead>\n",
       "  <tbody>\n",
       "    <tr>\n",
       "      <th>0</th>\n",
       "      <td>s3</td>\n",
       "      <td>Movie</td>\n",
       "      <td>Ice Age: A Mammoth Christmas</td>\n",
       "      <td>Karen Disher</td>\n",
       "      <td>Raymond Albert Romano, John Leguizamo, Denis L...</td>\n",
       "      <td>United States</td>\n",
       "      <td>November 26, 2021</td>\n",
       "      <td>2011</td>\n",
       "      <td>TV-G</td>\n",
       "      <td>23 min</td>\n",
       "      <td>Animation, Comedy, Family</td>\n",
       "      <td>Sid the Sloth is on Santa's naughty list.</td>\n",
       "    </tr>\n",
       "    <tr>\n",
       "      <th>1</th>\n",
       "      <td>s6</td>\n",
       "      <td>Movie</td>\n",
       "      <td>Becoming Cousteau</td>\n",
       "      <td>Liz Garbus</td>\n",
       "      <td>Jacques Yves Cousteau, Vincent Cassel</td>\n",
       "      <td>United States</td>\n",
       "      <td>November 24, 2021</td>\n",
       "      <td>2021</td>\n",
       "      <td>PG-13</td>\n",
       "      <td>94 min</td>\n",
       "      <td>Biographical, Documentary</td>\n",
       "      <td>An inside look at the legendary life of advent...</td>\n",
       "    </tr>\n",
       "    <tr>\n",
       "      <th>2</th>\n",
       "      <td>s8</td>\n",
       "      <td>TV Show</td>\n",
       "      <td>Port Protection Alaska</td>\n",
       "      <td>NaN</td>\n",
       "      <td>Gary Muehlberger, Mary Miller, Curly Leach, Sa...</td>\n",
       "      <td>United States</td>\n",
       "      <td>November 24, 2021</td>\n",
       "      <td>2015</td>\n",
       "      <td>TV-14</td>\n",
       "      <td>2 Seasons</td>\n",
       "      <td>Docuseries, Reality, Survival</td>\n",
       "      <td>Residents of Port Protection must combat volat...</td>\n",
       "    </tr>\n",
       "    <tr>\n",
       "      <th>3</th>\n",
       "      <td>s9</td>\n",
       "      <td>TV Show</td>\n",
       "      <td>Secrets of the Zoo: Tampa</td>\n",
       "      <td>NaN</td>\n",
       "      <td>Dr. Ray Ball, Dr. Lauren Smith, Chris Massaro,...</td>\n",
       "      <td>United States</td>\n",
       "      <td>November 24, 2021</td>\n",
       "      <td>2019</td>\n",
       "      <td>TV-PG</td>\n",
       "      <td>2 Seasons</td>\n",
       "      <td>Animals &amp; Nature, Docuseries, Family</td>\n",
       "      <td>A day in the life at ZooTampa is anything but ...</td>\n",
       "    </tr>\n",
       "    <tr>\n",
       "      <th>4</th>\n",
       "      <td>s10</td>\n",
       "      <td>Movie</td>\n",
       "      <td>A Muppets Christmas: Letters To Santa</td>\n",
       "      <td>Kirk R. Thatcher</td>\n",
       "      <td>Steve Whitmire, Dave Goelz, Bill Barretta, Eri...</td>\n",
       "      <td>United States</td>\n",
       "      <td>November 19, 2021</td>\n",
       "      <td>2008</td>\n",
       "      <td>G</td>\n",
       "      <td>45 min</td>\n",
       "      <td>Comedy, Family, Musical</td>\n",
       "      <td>Celebrate the holiday season with all your fav...</td>\n",
       "    </tr>\n",
       "    <tr>\n",
       "      <th>5</th>\n",
       "      <td>s13</td>\n",
       "      <td>Movie</td>\n",
       "      <td>The Pixar Story</td>\n",
       "      <td>Leslie Iwerks</td>\n",
       "      <td>Stacy Keach, John Lasseter, Brad Bird, John Mu...</td>\n",
       "      <td>United States</td>\n",
       "      <td>November 19, 2021</td>\n",
       "      <td>2007</td>\n",
       "      <td>G</td>\n",
       "      <td>91 min</td>\n",
       "      <td>Documentary, Family</td>\n",
       "      <td>A groundbreaking company forever changes the f...</td>\n",
       "    </tr>\n",
       "  </tbody>\n",
       "</table>\n",
       "</div>"
      ],
      "text/plain": [
       "  show_id     type                                  title          director  \\\n",
       "0      s3    Movie           Ice Age: A Mammoth Christmas      Karen Disher   \n",
       "1      s6    Movie                      Becoming Cousteau        Liz Garbus   \n",
       "2      s8  TV Show                 Port Protection Alaska               NaN   \n",
       "3      s9  TV Show              Secrets of the Zoo: Tampa               NaN   \n",
       "4     s10    Movie  A Muppets Christmas: Letters To Santa  Kirk R. Thatcher   \n",
       "5     s13    Movie                        The Pixar Story     Leslie Iwerks   \n",
       "\n",
       "                                                cast        country  \\\n",
       "0  Raymond Albert Romano, John Leguizamo, Denis L...  United States   \n",
       "1              Jacques Yves Cousteau, Vincent Cassel  United States   \n",
       "2  Gary Muehlberger, Mary Miller, Curly Leach, Sa...  United States   \n",
       "3  Dr. Ray Ball, Dr. Lauren Smith, Chris Massaro,...  United States   \n",
       "4  Steve Whitmire, Dave Goelz, Bill Barretta, Eri...  United States   \n",
       "5  Stacy Keach, John Lasseter, Brad Bird, John Mu...  United States   \n",
       "\n",
       "          date_added  release_year rating   duration  \\\n",
       "0  November 26, 2021          2011   TV-G     23 min   \n",
       "1  November 24, 2021          2021  PG-13     94 min   \n",
       "2  November 24, 2021          2015  TV-14  2 Seasons   \n",
       "3  November 24, 2021          2019  TV-PG  2 Seasons   \n",
       "4  November 19, 2021          2008      G     45 min   \n",
       "5  November 19, 2021          2007      G     91 min   \n",
       "\n",
       "                              listed_in  \\\n",
       "0             Animation, Comedy, Family   \n",
       "1             Biographical, Documentary   \n",
       "2         Docuseries, Reality, Survival   \n",
       "3  Animals & Nature, Docuseries, Family   \n",
       "4               Comedy, Family, Musical   \n",
       "5                   Documentary, Family   \n",
       "\n",
       "                                         description  \n",
       "0          Sid the Sloth is on Santa's naughty list.  \n",
       "1  An inside look at the legendary life of advent...  \n",
       "2  Residents of Port Protection must combat volat...  \n",
       "3  A day in the life at ZooTampa is anything but ...  \n",
       "4  Celebrate the holiday season with all your fav...  \n",
       "5  A groundbreaking company forever changes the f...  "
      ]
     },
     "execution_count": 63,
     "metadata": {},
     "output_type": "execute_result"
    }
   ],
   "source": [
    "movie.head(6)"
   ]
  },
  {
   "cell_type": "code",
   "execution_count": 64,
   "id": "73a0b7bb",
   "metadata": {},
   "outputs": [],
   "source": [
    "# >>>>>>> SHOWS THE INFORMATION OF THE DATA <<<<<<<<"
   ]
  },
  {
   "cell_type": "code",
   "execution_count": 65,
   "id": "6f9a5876",
   "metadata": {},
   "outputs": [
    {
     "name": "stdout",
     "output_type": "stream",
     "text": [
      "<class 'pandas.core.frame.DataFrame'>\n",
      "RangeIndex: 1231 entries, 0 to 1230\n",
      "Data columns (total 12 columns):\n",
      " #   Column        Non-Null Count  Dtype \n",
      "---  ------        --------------  ----- \n",
      " 0   show_id       1231 non-null   object\n",
      " 1   type          1231 non-null   object\n",
      " 2   title         1231 non-null   object\n",
      " 3   director      909 non-null    object\n",
      " 4   cast          1103 non-null   object\n",
      " 5   country       1231 non-null   object\n",
      " 6   date_added    1228 non-null   object\n",
      " 7   release_year  1231 non-null   int64 \n",
      " 8   rating        1231 non-null   object\n",
      " 9   duration      1231 non-null   object\n",
      " 10  listed_in     1231 non-null   object\n",
      " 11  description   1231 non-null   object\n",
      "dtypes: int64(1), object(11)\n",
      "memory usage: 115.5+ KB\n"
     ]
    }
   ],
   "source": [
    "movie.info()"
   ]
  },
  {
   "cell_type": "code",
   "execution_count": 66,
   "id": "81ee84db",
   "metadata": {},
   "outputs": [],
   "source": [
    "# >>>>>>>> DESCRIBE THE INFO OF DATASET <<<<<<<<<"
   ]
  },
  {
   "cell_type": "code",
   "execution_count": 67,
   "id": "f257d290",
   "metadata": {},
   "outputs": [
    {
     "data": {
      "text/html": [
       "<div>\n",
       "<style scoped>\n",
       "    .dataframe tbody tr th:only-of-type {\n",
       "        vertical-align: middle;\n",
       "    }\n",
       "\n",
       "    .dataframe tbody tr th {\n",
       "        vertical-align: top;\n",
       "    }\n",
       "\n",
       "    .dataframe thead th {\n",
       "        text-align: right;\n",
       "    }\n",
       "</style>\n",
       "<table border=\"1\" class=\"dataframe\">\n",
       "  <thead>\n",
       "    <tr style=\"text-align: right;\">\n",
       "      <th></th>\n",
       "      <th>release_year</th>\n",
       "    </tr>\n",
       "  </thead>\n",
       "  <tbody>\n",
       "    <tr>\n",
       "      <th>count</th>\n",
       "      <td>1231.000000</td>\n",
       "    </tr>\n",
       "    <tr>\n",
       "      <th>mean</th>\n",
       "      <td>2000.452478</td>\n",
       "    </tr>\n",
       "    <tr>\n",
       "      <th>std</th>\n",
       "      <td>22.598780</td>\n",
       "    </tr>\n",
       "    <tr>\n",
       "      <th>min</th>\n",
       "      <td>1928.000000</td>\n",
       "    </tr>\n",
       "    <tr>\n",
       "      <th>25%</th>\n",
       "      <td>1996.000000</td>\n",
       "    </tr>\n",
       "    <tr>\n",
       "      <th>50%</th>\n",
       "      <td>2009.000000</td>\n",
       "    </tr>\n",
       "    <tr>\n",
       "      <th>75%</th>\n",
       "      <td>2016.000000</td>\n",
       "    </tr>\n",
       "    <tr>\n",
       "      <th>max</th>\n",
       "      <td>2021.000000</td>\n",
       "    </tr>\n",
       "  </tbody>\n",
       "</table>\n",
       "</div>"
      ],
      "text/plain": [
       "       release_year\n",
       "count   1231.000000\n",
       "mean    2000.452478\n",
       "std       22.598780\n",
       "min     1928.000000\n",
       "25%     1996.000000\n",
       "50%     2009.000000\n",
       "75%     2016.000000\n",
       "max     2021.000000"
      ]
     },
     "execution_count": 67,
     "metadata": {},
     "output_type": "execute_result"
    }
   ],
   "source": [
    "movie.describe()"
   ]
  },
  {
   "cell_type": "code",
   "execution_count": 68,
   "id": "199d02d4",
   "metadata": {},
   "outputs": [],
   "source": [
    "# >>>>>>> SHAPE OF DATASET <<<<<<<"
   ]
  },
  {
   "cell_type": "code",
   "execution_count": 69,
   "id": "a0c45064",
   "metadata": {},
   "outputs": [
    {
     "name": "stdout",
     "output_type": "stream",
     "text": [
      "number of rows 4\n",
      "number of columns 3\n"
     ]
    }
   ],
   "source": [
    "print(\"number of rows\",df.shape[0])\n",
    "print(\"number of columns\",df.shape[1])"
   ]
  },
  {
   "cell_type": "code",
   "execution_count": null,
   "id": "d26ef721",
   "metadata": {},
   "outputs": [],
   "source": []
  },
  {
   "cell_type": "markdown",
   "id": "43bfcf5a",
   "metadata": {},
   "source": [
    "# CLEANING THE DATASET ......"
   ]
  },
  {
   "cell_type": "code",
   "execution_count": 70,
   "id": "cdc5f68b",
   "metadata": {},
   "outputs": [],
   "source": [
    "# >>>>>>>> IMPORT NUMPY LIBRARY <<<<<<<<<"
   ]
  },
  {
   "cell_type": "code",
   "execution_count": 71,
   "id": "b6b82baa",
   "metadata": {},
   "outputs": [
    {
     "data": {
      "text/plain": [
       "0              1\n",
       "1              2\n",
       "2            NaN\n",
       "3              5\n",
       "4    An Engineer\n",
       "dtype: object"
      ]
     },
     "execution_count": 71,
     "metadata": {},
     "output_type": "execute_result"
    }
   ],
   "source": [
    "import numpy as np\n",
    "s = pd.Series([1,2,np.nan,5,\"An Engineer\"])\n",
    "s"
   ]
  },
  {
   "cell_type": "code",
   "execution_count": 72,
   "id": "1033b709",
   "metadata": {},
   "outputs": [],
   "source": [
    "# >>>>>>>>> FIND THE MISSING DATA IN DATASET <<<<<<<<"
   ]
  },
  {
   "cell_type": "code",
   "execution_count": 73,
   "id": "1454b967",
   "metadata": {},
   "outputs": [
    {
     "data": {
      "text/plain": [
       "0    False\n",
       "1    False\n",
       "2     True\n",
       "3    False\n",
       "4    False\n",
       "dtype: bool"
      ]
     },
     "execution_count": 73,
     "metadata": {},
     "output_type": "execute_result"
    }
   ],
   "source": [
    "s.isnull()"
   ]
  },
  {
   "cell_type": "code",
   "execution_count": 74,
   "id": "c136172c",
   "metadata": {},
   "outputs": [],
   "source": [
    "# >>>>>>>>>>> DETERMINE IF ANY VALUE ID MISSING IN SERIES <<<<<<<<<\n",
    "# USING SUM() METHOD......"
   ]
  },
  {
   "cell_type": "code",
   "execution_count": 75,
   "id": "789b3c4f",
   "metadata": {},
   "outputs": [
    {
     "data": {
      "text/plain": [
       "1"
      ]
     },
     "execution_count": 75,
     "metadata": {},
     "output_type": "execute_result"
    }
   ],
   "source": [
    "s.isnull().values.any().sum()"
   ]
  },
  {
   "cell_type": "code",
   "execution_count": 76,
   "id": "98f1d17b",
   "metadata": {},
   "outputs": [],
   "source": [
    "# >>>>>>>>> IS NULL IN DATAFRAME <<<<<<<<<"
   ]
  },
  {
   "cell_type": "code",
   "execution_count": 77,
   "id": "d5fc14a7",
   "metadata": {},
   "outputs": [
    {
     "data": {
      "text/html": [
       "<div>\n",
       "<style scoped>\n",
       "    .dataframe tbody tr th:only-of-type {\n",
       "        vertical-align: middle;\n",
       "    }\n",
       "\n",
       "    .dataframe tbody tr th {\n",
       "        vertical-align: top;\n",
       "    }\n",
       "\n",
       "    .dataframe thead th {\n",
       "        text-align: right;\n",
       "    }\n",
       "</style>\n",
       "<table border=\"1\" class=\"dataframe\">\n",
       "  <thead>\n",
       "    <tr style=\"text-align: right;\">\n",
       "      <th></th>\n",
       "      <th>0</th>\n",
       "      <th>1</th>\n",
       "      <th>2</th>\n",
       "      <th>3</th>\n",
       "      <th>4</th>\n",
       "    </tr>\n",
       "  </thead>\n",
       "  <tbody>\n",
       "    <tr>\n",
       "      <th>0</th>\n",
       "      <td>-0.467850</td>\n",
       "      <td>0.839833</td>\n",
       "      <td>-1.221641</td>\n",
       "      <td>-1.537332</td>\n",
       "      <td>0.300551</td>\n",
       "    </tr>\n",
       "    <tr>\n",
       "      <th>1</th>\n",
       "      <td>-1.339747</td>\n",
       "      <td>0.825019</td>\n",
       "      <td>-0.930309</td>\n",
       "      <td>0.335780</td>\n",
       "      <td>0.948310</td>\n",
       "    </tr>\n",
       "    <tr>\n",
       "      <th>2</th>\n",
       "      <td>-0.165720</td>\n",
       "      <td>-0.009964</td>\n",
       "      <td>-0.183623</td>\n",
       "      <td>0.522570</td>\n",
       "      <td>0.411787</td>\n",
       "    </tr>\n",
       "    <tr>\n",
       "      <th>3</th>\n",
       "      <td>0.058408</td>\n",
       "      <td>0.686415</td>\n",
       "      <td>-0.876072</td>\n",
       "      <td>-0.997542</td>\n",
       "      <td>-1.554038</td>\n",
       "    </tr>\n",
       "    <tr>\n",
       "      <th>4</th>\n",
       "      <td>-0.481993</td>\n",
       "      <td>0.951197</td>\n",
       "      <td>-0.125834</td>\n",
       "      <td>-0.535422</td>\n",
       "      <td>-0.655910</td>\n",
       "    </tr>\n",
       "  </tbody>\n",
       "</table>\n",
       "</div>"
      ],
      "text/plain": [
       "          0         1         2         3         4\n",
       "0 -0.467850  0.839833 -1.221641 -1.537332  0.300551\n",
       "1 -1.339747  0.825019 -0.930309  0.335780  0.948310\n",
       "2 -0.165720 -0.009964 -0.183623  0.522570  0.411787\n",
       "3  0.058408  0.686415 -0.876072 -0.997542 -1.554038\n",
       "4 -0.481993  0.951197 -0.125834 -0.535422 -0.655910"
      ]
     },
     "execution_count": 77,
     "metadata": {},
     "output_type": "execute_result"
    }
   ],
   "source": [
    "K = pd.DataFrame(np.random.randn(5,5))\n",
    "K"
   ]
  },
  {
   "cell_type": "code",
   "execution_count": 78,
   "id": "8611f770",
   "metadata": {},
   "outputs": [],
   "source": [
    "# >>>>>>> MISSING VALUES FIND BY NAN <<<<<<<<"
   ]
  },
  {
   "cell_type": "code",
   "execution_count": 79,
   "id": "98e0fbe4",
   "metadata": {},
   "outputs": [
    {
     "data": {
      "text/html": [
       "<div>\n",
       "<style scoped>\n",
       "    .dataframe tbody tr th:only-of-type {\n",
       "        vertical-align: middle;\n",
       "    }\n",
       "\n",
       "    .dataframe tbody tr th {\n",
       "        vertical-align: top;\n",
       "    }\n",
       "\n",
       "    .dataframe thead th {\n",
       "        text-align: right;\n",
       "    }\n",
       "</style>\n",
       "<table border=\"1\" class=\"dataframe\">\n",
       "  <thead>\n",
       "    <tr style=\"text-align: right;\">\n",
       "      <th></th>\n",
       "      <th>0</th>\n",
       "      <th>1</th>\n",
       "      <th>2</th>\n",
       "      <th>3</th>\n",
       "      <th>4</th>\n",
       "    </tr>\n",
       "  </thead>\n",
       "  <tbody>\n",
       "    <tr>\n",
       "      <th>0</th>\n",
       "      <td>-0.467850</td>\n",
       "      <td>0.839833</td>\n",
       "      <td>-1.221641</td>\n",
       "      <td>-1.537332</td>\n",
       "      <td>0.300551</td>\n",
       "    </tr>\n",
       "    <tr>\n",
       "      <th>1</th>\n",
       "      <td>-1.339747</td>\n",
       "      <td>0.825019</td>\n",
       "      <td>-0.930309</td>\n",
       "      <td>0.335780</td>\n",
       "      <td>NaN</td>\n",
       "    </tr>\n",
       "    <tr>\n",
       "      <th>2</th>\n",
       "      <td>-0.165720</td>\n",
       "      <td>-0.009964</td>\n",
       "      <td>-0.183623</td>\n",
       "      <td>0.522570</td>\n",
       "      <td>0.411787</td>\n",
       "    </tr>\n",
       "    <tr>\n",
       "      <th>3</th>\n",
       "      <td>0.058408</td>\n",
       "      <td>0.686415</td>\n",
       "      <td>-0.876072</td>\n",
       "      <td>-0.997542</td>\n",
       "      <td>-1.554038</td>\n",
       "    </tr>\n",
       "    <tr>\n",
       "      <th>4</th>\n",
       "      <td>-0.481993</td>\n",
       "      <td>NaN</td>\n",
       "      <td>-0.125834</td>\n",
       "      <td>-0.535422</td>\n",
       "      <td>-0.655910</td>\n",
       "    </tr>\n",
       "  </tbody>\n",
       "</table>\n",
       "</div>"
      ],
      "text/plain": [
       "          0         1         2         3         4\n",
       "0 -0.467850  0.839833 -1.221641 -1.537332  0.300551\n",
       "1 -1.339747  0.825019 -0.930309  0.335780       NaN\n",
       "2 -0.165720 -0.009964 -0.183623  0.522570  0.411787\n",
       "3  0.058408  0.686415 -0.876072 -0.997542 -1.554038\n",
       "4 -0.481993       NaN -0.125834 -0.535422 -0.655910"
      ]
     },
     "execution_count": 79,
     "metadata": {},
     "output_type": "execute_result"
    }
   ],
   "source": [
    "K[K>0.9] = np.nan\n",
    "K"
   ]
  },
  {
   "cell_type": "code",
   "execution_count": 80,
   "id": "7998ffe6",
   "metadata": {},
   "outputs": [],
   "source": [
    "# >>>>>>> CHECKING NULL VALUES <<<<<<<<"
   ]
  },
  {
   "cell_type": "code",
   "execution_count": 81,
   "id": "181276ed",
   "metadata": {},
   "outputs": [
    {
     "data": {
      "text/html": [
       "<div>\n",
       "<style scoped>\n",
       "    .dataframe tbody tr th:only-of-type {\n",
       "        vertical-align: middle;\n",
       "    }\n",
       "\n",
       "    .dataframe tbody tr th {\n",
       "        vertical-align: top;\n",
       "    }\n",
       "\n",
       "    .dataframe thead th {\n",
       "        text-align: right;\n",
       "    }\n",
       "</style>\n",
       "<table border=\"1\" class=\"dataframe\">\n",
       "  <thead>\n",
       "    <tr style=\"text-align: right;\">\n",
       "      <th></th>\n",
       "      <th>0</th>\n",
       "      <th>1</th>\n",
       "      <th>2</th>\n",
       "      <th>3</th>\n",
       "      <th>4</th>\n",
       "    </tr>\n",
       "  </thead>\n",
       "  <tbody>\n",
       "    <tr>\n",
       "      <th>0</th>\n",
       "      <td>False</td>\n",
       "      <td>False</td>\n",
       "      <td>False</td>\n",
       "      <td>False</td>\n",
       "      <td>False</td>\n",
       "    </tr>\n",
       "    <tr>\n",
       "      <th>1</th>\n",
       "      <td>False</td>\n",
       "      <td>False</td>\n",
       "      <td>False</td>\n",
       "      <td>False</td>\n",
       "      <td>True</td>\n",
       "    </tr>\n",
       "    <tr>\n",
       "      <th>2</th>\n",
       "      <td>False</td>\n",
       "      <td>False</td>\n",
       "      <td>False</td>\n",
       "      <td>False</td>\n",
       "      <td>False</td>\n",
       "    </tr>\n",
       "    <tr>\n",
       "      <th>3</th>\n",
       "      <td>False</td>\n",
       "      <td>False</td>\n",
       "      <td>False</td>\n",
       "      <td>False</td>\n",
       "      <td>False</td>\n",
       "    </tr>\n",
       "    <tr>\n",
       "      <th>4</th>\n",
       "      <td>False</td>\n",
       "      <td>True</td>\n",
       "      <td>False</td>\n",
       "      <td>False</td>\n",
       "      <td>False</td>\n",
       "    </tr>\n",
       "  </tbody>\n",
       "</table>\n",
       "</div>"
      ],
      "text/plain": [
       "       0      1      2      3      4\n",
       "0  False  False  False  False  False\n",
       "1  False  False  False  False   True\n",
       "2  False  False  False  False  False\n",
       "3  False  False  False  False  False\n",
       "4  False   True  False  False  False"
      ]
     },
     "execution_count": 81,
     "metadata": {},
     "output_type": "execute_result"
    }
   ],
   "source": [
    "K.isnull()"
   ]
  },
  {
   "cell_type": "code",
   "execution_count": 82,
   "id": "fbc5f758",
   "metadata": {},
   "outputs": [],
   "source": [
    "# >>>>>>> RETURNING MISSING VALUES COUNT BY ROW NOS <<<<<<<<<"
   ]
  },
  {
   "cell_type": "code",
   "execution_count": 83,
   "id": "959f0d1e",
   "metadata": {},
   "outputs": [
    {
     "data": {
      "text/plain": [
       "0    0\n",
       "1    1\n",
       "2    0\n",
       "3    0\n",
       "4    1\n",
       "dtype: int64"
      ]
     },
     "execution_count": 83,
     "metadata": {},
     "output_type": "execute_result"
    }
   ],
   "source": [
    "K.isnull().sum()"
   ]
  },
  {
   "cell_type": "code",
   "execution_count": 84,
   "id": "ac507d26",
   "metadata": {},
   "outputs": [],
   "source": [
    " # >>>>>>> COUNT OF TOTAL MISSING VALUES IN DATASET <<<<<<<<<"
   ]
  },
  {
   "cell_type": "code",
   "execution_count": 85,
   "id": "7ef087fe",
   "metadata": {},
   "outputs": [
    {
     "data": {
      "text/plain": [
       "2"
      ]
     },
     "execution_count": 85,
     "metadata": {},
     "output_type": "execute_result"
    }
   ],
   "source": [
    "K.isnull().sum().sum()"
   ]
  },
  {
   "cell_type": "code",
   "execution_count": 86,
   "id": "015bbeef",
   "metadata": {},
   "outputs": [],
   "source": [
    "# >>>>>>>> RRPLACE EMPTY CELLS WITH FILLNA() METHOD <<<<<<<<"
   ]
  },
  {
   "cell_type": "code",
   "execution_count": 87,
   "id": "dff31e26",
   "metadata": {},
   "outputs": [
    {
     "data": {
      "text/html": [
       "<div>\n",
       "<style scoped>\n",
       "    .dataframe tbody tr th:only-of-type {\n",
       "        vertical-align: middle;\n",
       "    }\n",
       "\n",
       "    .dataframe tbody tr th {\n",
       "        vertical-align: top;\n",
       "    }\n",
       "\n",
       "    .dataframe thead th {\n",
       "        text-align: right;\n",
       "    }\n",
       "</style>\n",
       "<table border=\"1\" class=\"dataframe\">\n",
       "  <thead>\n",
       "    <tr style=\"text-align: right;\">\n",
       "      <th></th>\n",
       "      <th>0</th>\n",
       "      <th>1</th>\n",
       "      <th>2</th>\n",
       "      <th>3</th>\n",
       "      <th>4</th>\n",
       "    </tr>\n",
       "  </thead>\n",
       "  <tbody>\n",
       "    <tr>\n",
       "      <th>0</th>\n",
       "      <td>-0.467850</td>\n",
       "      <td>0.839833</td>\n",
       "      <td>-1.221641</td>\n",
       "      <td>-1.537332</td>\n",
       "      <td>0.300551</td>\n",
       "    </tr>\n",
       "    <tr>\n",
       "      <th>1</th>\n",
       "      <td>-1.339747</td>\n",
       "      <td>0.825019</td>\n",
       "      <td>-0.930309</td>\n",
       "      <td>0.335780</td>\n",
       "      <td>NaN</td>\n",
       "    </tr>\n",
       "    <tr>\n",
       "      <th>2</th>\n",
       "      <td>-0.165720</td>\n",
       "      <td>-0.009964</td>\n",
       "      <td>-0.183623</td>\n",
       "      <td>0.522570</td>\n",
       "      <td>0.411787</td>\n",
       "    </tr>\n",
       "    <tr>\n",
       "      <th>3</th>\n",
       "      <td>0.058408</td>\n",
       "      <td>0.686415</td>\n",
       "      <td>-0.876072</td>\n",
       "      <td>-0.997542</td>\n",
       "      <td>-1.554038</td>\n",
       "    </tr>\n",
       "    <tr>\n",
       "      <th>4</th>\n",
       "      <td>-0.481993</td>\n",
       "      <td>NaN</td>\n",
       "      <td>-0.125834</td>\n",
       "      <td>-0.535422</td>\n",
       "      <td>-0.655910</td>\n",
       "    </tr>\n",
       "  </tbody>\n",
       "</table>\n",
       "</div>"
      ],
      "text/plain": [
       "          0         1         2         3         4\n",
       "0 -0.467850  0.839833 -1.221641 -1.537332  0.300551\n",
       "1 -1.339747  0.825019 -0.930309  0.335780       NaN\n",
       "2 -0.165720 -0.009964 -0.183623  0.522570  0.411787\n",
       "3  0.058408  0.686415 -0.876072 -0.997542 -1.554038\n",
       "4 -0.481993       NaN -0.125834 -0.535422 -0.655910"
      ]
     },
     "execution_count": 87,
     "metadata": {},
     "output_type": "execute_result"
    }
   ],
   "source": [
    "K"
   ]
  },
  {
   "cell_type": "code",
   "execution_count": 88,
   "id": "55dda6cc",
   "metadata": {},
   "outputs": [],
   "source": [
    "# >>>>>>>> REPLACE ONLY FOR SPECIFIED COLUMNS <<<<<<<<"
   ]
  },
  {
   "cell_type": "code",
   "execution_count": 89,
   "id": "dd840438",
   "metadata": {},
   "outputs": [
    {
     "data": {
      "text/html": [
       "<div>\n",
       "<style scoped>\n",
       "    .dataframe tbody tr th:only-of-type {\n",
       "        vertical-align: middle;\n",
       "    }\n",
       "\n",
       "    .dataframe tbody tr th {\n",
       "        vertical-align: top;\n",
       "    }\n",
       "\n",
       "    .dataframe thead th {\n",
       "        text-align: right;\n",
       "    }\n",
       "</style>\n",
       "<table border=\"1\" class=\"dataframe\">\n",
       "  <thead>\n",
       "    <tr style=\"text-align: right;\">\n",
       "      <th></th>\n",
       "      <th>0</th>\n",
       "      <th>1</th>\n",
       "      <th>2</th>\n",
       "      <th>3</th>\n",
       "      <th>4</th>\n",
       "    </tr>\n",
       "  </thead>\n",
       "  <tbody>\n",
       "    <tr>\n",
       "      <th>0</th>\n",
       "      <td>-0.467850</td>\n",
       "      <td>0.839833</td>\n",
       "      <td>-1.221641</td>\n",
       "      <td>-1.537332</td>\n",
       "      <td>0.300551</td>\n",
       "    </tr>\n",
       "    <tr>\n",
       "      <th>1</th>\n",
       "      <td>-1.339747</td>\n",
       "      <td>0.825019</td>\n",
       "      <td>-0.930309</td>\n",
       "      <td>0.335780</td>\n",
       "      <td>NaN</td>\n",
       "    </tr>\n",
       "    <tr>\n",
       "      <th>2</th>\n",
       "      <td>-0.165720</td>\n",
       "      <td>-0.009964</td>\n",
       "      <td>-0.183623</td>\n",
       "      <td>0.522570</td>\n",
       "      <td>0.411787</td>\n",
       "    </tr>\n",
       "    <tr>\n",
       "      <th>3</th>\n",
       "      <td>0.058408</td>\n",
       "      <td>0.686415</td>\n",
       "      <td>-0.876072</td>\n",
       "      <td>-0.997542</td>\n",
       "      <td>-1.554038</td>\n",
       "    </tr>\n",
       "    <tr>\n",
       "      <th>4</th>\n",
       "      <td>-0.481993</td>\n",
       "      <td>NaN</td>\n",
       "      <td>-0.125834</td>\n",
       "      <td>-0.535422</td>\n",
       "      <td>-0.655910</td>\n",
       "    </tr>\n",
       "  </tbody>\n",
       "</table>\n",
       "</div>"
      ],
      "text/plain": [
       "          0         1         2         3         4\n",
       "0 -0.467850  0.839833 -1.221641 -1.537332  0.300551\n",
       "1 -1.339747  0.825019 -0.930309  0.335780       NaN\n",
       "2 -0.165720 -0.009964 -0.183623  0.522570  0.411787\n",
       "3  0.058408  0.686415 -0.876072 -0.997542 -1.554038\n",
       "4 -0.481993       NaN -0.125834 -0.535422 -0.655910"
      ]
     },
     "execution_count": 89,
     "metadata": {},
     "output_type": "execute_result"
    }
   ],
   "source": [
    "K[2].fillna(100,inplace=True)\n",
    "K"
   ]
  },
  {
   "cell_type": "code",
   "execution_count": 90,
   "id": "0bbaead1",
   "metadata": {},
   "outputs": [
    {
     "data": {
      "text/html": [
       "<div>\n",
       "<style scoped>\n",
       "    .dataframe tbody tr th:only-of-type {\n",
       "        vertical-align: middle;\n",
       "    }\n",
       "\n",
       "    .dataframe tbody tr th {\n",
       "        vertical-align: top;\n",
       "    }\n",
       "\n",
       "    .dataframe thead th {\n",
       "        text-align: right;\n",
       "    }\n",
       "</style>\n",
       "<table border=\"1\" class=\"dataframe\">\n",
       "  <thead>\n",
       "    <tr style=\"text-align: right;\">\n",
       "      <th></th>\n",
       "      <th>0</th>\n",
       "      <th>1</th>\n",
       "      <th>2</th>\n",
       "      <th>3</th>\n",
       "      <th>4</th>\n",
       "    </tr>\n",
       "  </thead>\n",
       "  <tbody>\n",
       "    <tr>\n",
       "      <th>0</th>\n",
       "      <td>-0.467850</td>\n",
       "      <td>0.839833</td>\n",
       "      <td>-1.221641</td>\n",
       "      <td>-1.537332</td>\n",
       "      <td>0.300551</td>\n",
       "    </tr>\n",
       "    <tr>\n",
       "      <th>1</th>\n",
       "      <td>-1.339747</td>\n",
       "      <td>0.825019</td>\n",
       "      <td>-0.930309</td>\n",
       "      <td>0.335780</td>\n",
       "      <td>NaN</td>\n",
       "    </tr>\n",
       "    <tr>\n",
       "      <th>2</th>\n",
       "      <td>-0.165720</td>\n",
       "      <td>-0.009964</td>\n",
       "      <td>-0.183623</td>\n",
       "      <td>0.522570</td>\n",
       "      <td>0.411787</td>\n",
       "    </tr>\n",
       "    <tr>\n",
       "      <th>3</th>\n",
       "      <td>0.058408</td>\n",
       "      <td>0.686415</td>\n",
       "      <td>-0.876072</td>\n",
       "      <td>-0.997542</td>\n",
       "      <td>-1.554038</td>\n",
       "    </tr>\n",
       "    <tr>\n",
       "      <th>4</th>\n",
       "      <td>-0.481993</td>\n",
       "      <td>NaN</td>\n",
       "      <td>-0.125834</td>\n",
       "      <td>-0.535422</td>\n",
       "      <td>-0.655910</td>\n",
       "    </tr>\n",
       "  </tbody>\n",
       "</table>\n",
       "</div>"
      ],
      "text/plain": [
       "          0         1         2         3         4\n",
       "0 -0.467850  0.839833 -1.221641 -1.537332  0.300551\n",
       "1 -1.339747  0.825019 -0.930309  0.335780       NaN\n",
       "2 -0.165720 -0.009964 -0.183623  0.522570  0.411787\n",
       "3  0.058408  0.686415 -0.876072 -0.997542 -1.554038\n",
       "4 -0.481993       NaN -0.125834 -0.535422 -0.655910"
      ]
     },
     "execution_count": 90,
     "metadata": {},
     "output_type": "execute_result"
    }
   ],
   "source": [
    "K[K==500]=np.nan\n",
    "K"
   ]
  },
  {
   "cell_type": "code",
   "execution_count": 91,
   "id": "5154150b",
   "metadata": {},
   "outputs": [],
   "source": [
    "# >>>>>>>> DESCRIBE ANY SPECIFIC COLUMN <<<<<<"
   ]
  },
  {
   "cell_type": "code",
   "execution_count": 92,
   "id": "829ecd37",
   "metadata": {},
   "outputs": [
    {
     "data": {
      "text/plain": [
       "count    5.000000\n",
       "mean    -0.667496\n",
       "std      0.486616\n",
       "min     -1.221641\n",
       "25%     -0.930309\n",
       "50%     -0.876072\n",
       "75%     -0.183623\n",
       "max     -0.125834\n",
       "Name: 2, dtype: float64"
      ]
     },
     "execution_count": 92,
     "metadata": {},
     "output_type": "execute_result"
    }
   ],
   "source": [
    "K[2].describe()"
   ]
  },
  {
   "cell_type": "code",
   "execution_count": 93,
   "id": "6bab446e",
   "metadata": {},
   "outputs": [],
   "source": [
    "# >>>>>>>> CALCULATE AND REPLACE USING MEAN() <<<<<<< "
   ]
  },
  {
   "cell_type": "code",
   "execution_count": 94,
   "id": "7693321e",
   "metadata": {},
   "outputs": [],
   "source": [
    "x=K[2].mean()"
   ]
  },
  {
   "cell_type": "code",
   "execution_count": 95,
   "id": "50da089f",
   "metadata": {},
   "outputs": [],
   "source": [
    "# >>>>>>>> CALCULATE AND REPLACE USING MEDIAN() <<<<<<< "
   ]
  },
  {
   "cell_type": "code",
   "execution_count": 96,
   "id": "452a0d7d",
   "metadata": {},
   "outputs": [],
   "source": [
    "x=K[2].median()"
   ]
  },
  {
   "cell_type": "code",
   "execution_count": 97,
   "id": "e4814ace",
   "metadata": {},
   "outputs": [],
   "source": [
    "# >>>>>>>> CALCULATE AND REPLACE USING MODE() <<<<<<< "
   ]
  },
  {
   "cell_type": "code",
   "execution_count": 98,
   "id": "d2a06cf7",
   "metadata": {},
   "outputs": [],
   "source": [
    "x=K[2].mode()"
   ]
  },
  {
   "cell_type": "code",
   "execution_count": 99,
   "id": "e01028e3",
   "metadata": {},
   "outputs": [
    {
     "data": {
      "text/plain": [
       "0   -1.221641\n",
       "1   -0.930309\n",
       "2   -0.876072\n",
       "3   -0.183623\n",
       "4   -0.125834\n",
       "Name: 2, dtype: float64"
      ]
     },
     "execution_count": 99,
     "metadata": {},
     "output_type": "execute_result"
    }
   ],
   "source": [
    "x"
   ]
  },
  {
   "cell_type": "code",
   "execution_count": 100,
   "id": "d038f10e",
   "metadata": {},
   "outputs": [
    {
     "data": {
      "text/html": [
       "<div>\n",
       "<style scoped>\n",
       "    .dataframe tbody tr th:only-of-type {\n",
       "        vertical-align: middle;\n",
       "    }\n",
       "\n",
       "    .dataframe tbody tr th {\n",
       "        vertical-align: top;\n",
       "    }\n",
       "\n",
       "    .dataframe thead th {\n",
       "        text-align: right;\n",
       "    }\n",
       "</style>\n",
       "<table border=\"1\" class=\"dataframe\">\n",
       "  <thead>\n",
       "    <tr style=\"text-align: right;\">\n",
       "      <th></th>\n",
       "      <th>0</th>\n",
       "      <th>1</th>\n",
       "      <th>2</th>\n",
       "      <th>3</th>\n",
       "      <th>4</th>\n",
       "    </tr>\n",
       "  </thead>\n",
       "  <tbody>\n",
       "    <tr>\n",
       "      <th>0</th>\n",
       "      <td>-0.467850</td>\n",
       "      <td>0.839833</td>\n",
       "      <td>-1.221641</td>\n",
       "      <td>-1.537332</td>\n",
       "      <td>0.300551</td>\n",
       "    </tr>\n",
       "    <tr>\n",
       "      <th>1</th>\n",
       "      <td>-1.339747</td>\n",
       "      <td>0.825019</td>\n",
       "      <td>-0.930309</td>\n",
       "      <td>0.335780</td>\n",
       "      <td>NaN</td>\n",
       "    </tr>\n",
       "    <tr>\n",
       "      <th>2</th>\n",
       "      <td>-0.165720</td>\n",
       "      <td>-0.009964</td>\n",
       "      <td>-0.183623</td>\n",
       "      <td>0.522570</td>\n",
       "      <td>0.411787</td>\n",
       "    </tr>\n",
       "    <tr>\n",
       "      <th>3</th>\n",
       "      <td>0.058408</td>\n",
       "      <td>0.686415</td>\n",
       "      <td>-0.876072</td>\n",
       "      <td>-0.997542</td>\n",
       "      <td>-1.554038</td>\n",
       "    </tr>\n",
       "    <tr>\n",
       "      <th>4</th>\n",
       "      <td>-0.481993</td>\n",
       "      <td>NaN</td>\n",
       "      <td>-0.125834</td>\n",
       "      <td>-0.535422</td>\n",
       "      <td>-0.655910</td>\n",
       "    </tr>\n",
       "  </tbody>\n",
       "</table>\n",
       "</div>"
      ],
      "text/plain": [
       "          0         1         2         3         4\n",
       "0 -0.467850  0.839833 -1.221641 -1.537332  0.300551\n",
       "1 -1.339747  0.825019 -0.930309  0.335780       NaN\n",
       "2 -0.165720 -0.009964 -0.183623  0.522570  0.411787\n",
       "3  0.058408  0.686415 -0.876072 -0.997542 -1.554038\n",
       "4 -0.481993       NaN -0.125834 -0.535422 -0.655910"
      ]
     },
     "execution_count": 100,
     "metadata": {},
     "output_type": "execute_result"
    }
   ],
   "source": [
    "K[2].fillna(x,inplace=True)\n",
    "K"
   ]
  },
  {
   "cell_type": "code",
   "execution_count": null,
   "id": "00fce7ae",
   "metadata": {},
   "outputs": [],
   "source": []
  },
  {
   "cell_type": "markdown",
   "id": "53b4218c",
   "metadata": {},
   "source": [
    "# Cleaning Data of Wrong Format"
   ]
  },
  {
   "cell_type": "code",
   "execution_count": 101,
   "id": "358e9d8c",
   "metadata": {},
   "outputs": [
    {
     "data": {
      "text/html": [
       "<div>\n",
       "<style scoped>\n",
       "    .dataframe tbody tr th:only-of-type {\n",
       "        vertical-align: middle;\n",
       "    }\n",
       "\n",
       "    .dataframe tbody tr th {\n",
       "        vertical-align: top;\n",
       "    }\n",
       "\n",
       "    .dataframe thead th {\n",
       "        text-align: right;\n",
       "    }\n",
       "</style>\n",
       "<table border=\"1\" class=\"dataframe\">\n",
       "  <thead>\n",
       "    <tr style=\"text-align: right;\">\n",
       "      <th></th>\n",
       "      <th>show_id</th>\n",
       "      <th>type</th>\n",
       "      <th>title</th>\n",
       "      <th>director</th>\n",
       "      <th>cast</th>\n",
       "      <th>country</th>\n",
       "      <th>date_added</th>\n",
       "      <th>release_year</th>\n",
       "      <th>rating</th>\n",
       "      <th>duration</th>\n",
       "      <th>listed_in</th>\n",
       "      <th>description</th>\n",
       "    </tr>\n",
       "  </thead>\n",
       "  <tbody>\n",
       "    <tr>\n",
       "      <th>0</th>\n",
       "      <td>s3</td>\n",
       "      <td>Movie</td>\n",
       "      <td>Ice Age: A Mammoth Christmas</td>\n",
       "      <td>Karen Disher</td>\n",
       "      <td>Raymond Albert Romano, John Leguizamo, Denis L...</td>\n",
       "      <td>United States</td>\n",
       "      <td>November 26, 2021</td>\n",
       "      <td>2011</td>\n",
       "      <td>TV-G</td>\n",
       "      <td>23 min</td>\n",
       "      <td>Animation, Comedy, Family</td>\n",
       "      <td>Sid the Sloth is on Santa's naughty list.</td>\n",
       "    </tr>\n",
       "    <tr>\n",
       "      <th>1</th>\n",
       "      <td>s6</td>\n",
       "      <td>Movie</td>\n",
       "      <td>Becoming Cousteau</td>\n",
       "      <td>Liz Garbus</td>\n",
       "      <td>Jacques Yves Cousteau, Vincent Cassel</td>\n",
       "      <td>United States</td>\n",
       "      <td>November 24, 2021</td>\n",
       "      <td>2021</td>\n",
       "      <td>PG-13</td>\n",
       "      <td>94 min</td>\n",
       "      <td>Biographical, Documentary</td>\n",
       "      <td>An inside look at the legendary life of advent...</td>\n",
       "    </tr>\n",
       "    <tr>\n",
       "      <th>2</th>\n",
       "      <td>s8</td>\n",
       "      <td>TV Show</td>\n",
       "      <td>Port Protection Alaska</td>\n",
       "      <td>NaN</td>\n",
       "      <td>Gary Muehlberger, Mary Miller, Curly Leach, Sa...</td>\n",
       "      <td>United States</td>\n",
       "      <td>November 24, 2021</td>\n",
       "      <td>2015</td>\n",
       "      <td>TV-14</td>\n",
       "      <td>2 Seasons</td>\n",
       "      <td>Docuseries, Reality, Survival</td>\n",
       "      <td>Residents of Port Protection must combat volat...</td>\n",
       "    </tr>\n",
       "    <tr>\n",
       "      <th>3</th>\n",
       "      <td>s9</td>\n",
       "      <td>TV Show</td>\n",
       "      <td>Secrets of the Zoo: Tampa</td>\n",
       "      <td>NaN</td>\n",
       "      <td>Dr. Ray Ball, Dr. Lauren Smith, Chris Massaro,...</td>\n",
       "      <td>United States</td>\n",
       "      <td>November 24, 2021</td>\n",
       "      <td>2019</td>\n",
       "      <td>TV-PG</td>\n",
       "      <td>2 Seasons</td>\n",
       "      <td>Animals &amp; Nature, Docuseries, Family</td>\n",
       "      <td>A day in the life at ZooTampa is anything but ...</td>\n",
       "    </tr>\n",
       "    <tr>\n",
       "      <th>4</th>\n",
       "      <td>s10</td>\n",
       "      <td>Movie</td>\n",
       "      <td>A Muppets Christmas: Letters To Santa</td>\n",
       "      <td>Kirk R. Thatcher</td>\n",
       "      <td>Steve Whitmire, Dave Goelz, Bill Barretta, Eri...</td>\n",
       "      <td>United States</td>\n",
       "      <td>November 19, 2021</td>\n",
       "      <td>2008</td>\n",
       "      <td>G</td>\n",
       "      <td>45 min</td>\n",
       "      <td>Comedy, Family, Musical</td>\n",
       "      <td>Celebrate the holiday season with all your fav...</td>\n",
       "    </tr>\n",
       "    <tr>\n",
       "      <th>5</th>\n",
       "      <td>s13</td>\n",
       "      <td>Movie</td>\n",
       "      <td>The Pixar Story</td>\n",
       "      <td>Leslie Iwerks</td>\n",
       "      <td>Stacy Keach, John Lasseter, Brad Bird, John Mu...</td>\n",
       "      <td>United States</td>\n",
       "      <td>November 19, 2021</td>\n",
       "      <td>2007</td>\n",
       "      <td>G</td>\n",
       "      <td>91 min</td>\n",
       "      <td>Documentary, Family</td>\n",
       "      <td>A groundbreaking company forever changes the f...</td>\n",
       "    </tr>\n",
       "    <tr>\n",
       "      <th>6</th>\n",
       "      <td>s14</td>\n",
       "      <td>TV Show</td>\n",
       "      <td>Dr. Oakley, Yukon Vet</td>\n",
       "      <td>NaN</td>\n",
       "      <td>Dr. Michelle Oakley, Zachary Fine</td>\n",
       "      <td>United States</td>\n",
       "      <td>November 17, 2021</td>\n",
       "      <td>2013</td>\n",
       "      <td>TV-PG</td>\n",
       "      <td>10 Seasons</td>\n",
       "      <td>Action-Adventure, Animals &amp; Nature, Docuseries</td>\n",
       "      <td>Meet Dr. Michelle Oakley, vet to pretty much e...</td>\n",
       "    </tr>\n",
       "    <tr>\n",
       "      <th>7</th>\n",
       "      <td>s18</td>\n",
       "      <td>TV Show</td>\n",
       "      <td>Disney Fancy Nancy</td>\n",
       "      <td>NaN</td>\n",
       "      <td>Mia Jenness, Alyson Hannigan, Rob Riggle, Spen...</td>\n",
       "      <td>United States, Canada</td>\n",
       "      <td>November 12, 2021</td>\n",
       "      <td>2018</td>\n",
       "      <td>TV-PG</td>\n",
       "      <td>3 Seasons</td>\n",
       "      <td>Animation, Kids</td>\n",
       "      <td>Nancy makes every day extraordinary!</td>\n",
       "    </tr>\n",
       "    <tr>\n",
       "      <th>8</th>\n",
       "      <td>s20</td>\n",
       "      <td>Movie</td>\n",
       "      <td>Enchanted</td>\n",
       "      <td>Kevin Lima</td>\n",
       "      <td>Amy Adams, Patrick Dempsey, James Marsden, Tim...</td>\n",
       "      <td>United States</td>\n",
       "      <td>November 12, 2021</td>\n",
       "      <td>2007</td>\n",
       "      <td>PG</td>\n",
       "      <td>110 min</td>\n",
       "      <td>Comedy, Family, Fantasy</td>\n",
       "      <td>An animated princess winds up in the real worl...</td>\n",
       "    </tr>\n",
       "    <tr>\n",
       "      <th>9</th>\n",
       "      <td>s21</td>\n",
       "      <td>Movie</td>\n",
       "      <td>Feast</td>\n",
       "      <td>Patrick Osborne</td>\n",
       "      <td>Stephen Apostolina, Kirk Baily, Ben Bledsoe, D...</td>\n",
       "      <td>United States</td>\n",
       "      <td>November 12, 2021</td>\n",
       "      <td>2014</td>\n",
       "      <td>G</td>\n",
       "      <td>8 min</td>\n",
       "      <td>Animation, Comedy, Drama</td>\n",
       "      <td>One man's love life seen through the eyes of h...</td>\n",
       "    </tr>\n",
       "    <tr>\n",
       "      <th>10</th>\n",
       "      <td>s22</td>\n",
       "      <td>Movie</td>\n",
       "      <td>Frozen Fever</td>\n",
       "      <td>Chris Buck, Jennifer Lee</td>\n",
       "      <td>Kristen Bell, Idina Menzel, Jonathan Groff, Jo...</td>\n",
       "      <td>United States</td>\n",
       "      <td>November 12, 2021</td>\n",
       "      <td>2015</td>\n",
       "      <td>G</td>\n",
       "      <td>11 min</td>\n",
       "      <td>Animation, Family, Fantasy</td>\n",
       "      <td>Elsa wants to give Anna the best birthday part...</td>\n",
       "    </tr>\n",
       "    <tr>\n",
       "      <th>11</th>\n",
       "      <td>s23</td>\n",
       "      <td>Movie</td>\n",
       "      <td>Get a Horse!</td>\n",
       "      <td>Lauren MacMullan</td>\n",
       "      <td>Walt Disney, Marcellite Garner, Russi Taylor, ...</td>\n",
       "      <td>United States</td>\n",
       "      <td>November 12, 2021</td>\n",
       "      <td>2013</td>\n",
       "      <td>G</td>\n",
       "      <td>7 min</td>\n",
       "      <td>Action-Adventure, Animation, Comedy</td>\n",
       "      <td>Mickey and friends hitch a ride on a musical h...</td>\n",
       "    </tr>\n",
       "    <tr>\n",
       "      <th>12</th>\n",
       "      <td>s24</td>\n",
       "      <td>Movie</td>\n",
       "      <td>Home Sweet Home Alone</td>\n",
       "      <td>Dan Mazer</td>\n",
       "      <td>Ellie Kemper, Rob Delaney, Archie Yates, Aisli...</td>\n",
       "      <td>United States</td>\n",
       "      <td>November 12, 2021</td>\n",
       "      <td>2021</td>\n",
       "      <td>PG</td>\n",
       "      <td>95 min</td>\n",
       "      <td>Comedy, Family</td>\n",
       "      <td>Alone for the holidays, Max Mercer will do wha...</td>\n",
       "    </tr>\n",
       "    <tr>\n",
       "      <th>13</th>\n",
       "      <td>s25</td>\n",
       "      <td>Movie</td>\n",
       "      <td>Jungle Cruise</td>\n",
       "      <td>Jaume Collet-Serra</td>\n",
       "      <td>Dwayne Johnson, Emily Blunt, Edgar Ramirez, Ja...</td>\n",
       "      <td>United States</td>\n",
       "      <td>November 12, 2021</td>\n",
       "      <td>2021</td>\n",
       "      <td>PG-13</td>\n",
       "      <td>129 min</td>\n",
       "      <td>Action-Adventure, Comedy, Family</td>\n",
       "      <td>Dr. Lily Houghton &amp; skipper Frank Wolff team u...</td>\n",
       "    </tr>\n",
       "    <tr>\n",
       "      <th>14</th>\n",
       "      <td>s30</td>\n",
       "      <td>Movie</td>\n",
       "      <td>Paperman</td>\n",
       "      <td>John Kahrs</td>\n",
       "      <td>John Kahrs, Kari Wahlgren</td>\n",
       "      <td>United States</td>\n",
       "      <td>November 12, 2021</td>\n",
       "      <td>2012</td>\n",
       "      <td>G</td>\n",
       "      <td>7 min</td>\n",
       "      <td>Animation, Comedy, Family</td>\n",
       "      <td>A young man strives to find girl of his dreams.</td>\n",
       "    </tr>\n",
       "    <tr>\n",
       "      <th>15</th>\n",
       "      <td>s32</td>\n",
       "      <td>Movie</td>\n",
       "      <td>Shang-Chi and The Legend of The Ten Rings</td>\n",
       "      <td>Destin Daniel Cretton</td>\n",
       "      <td>Simu Liu, Awkwafina, Tony Leung, Michelle Yeoh...</td>\n",
       "      <td>United States, Australia</td>\n",
       "      <td>November 12, 2021</td>\n",
       "      <td>2021</td>\n",
       "      <td>PG-13</td>\n",
       "      <td>134 min</td>\n",
       "      <td>Action-Adventure, Fantasy, Superhero</td>\n",
       "      <td>Shang-Chi must confront his father, leader of ...</td>\n",
       "    </tr>\n",
       "    <tr>\n",
       "      <th>16</th>\n",
       "      <td>s34</td>\n",
       "      <td>Movie</td>\n",
       "      <td>Tangled Ever After</td>\n",
       "      <td>Nathan Greno, Byron Howard</td>\n",
       "      <td>Mandy Moore, Zachary Levi, Alan Dale, Paul F. ...</td>\n",
       "      <td>United States</td>\n",
       "      <td>November 12, 2021</td>\n",
       "      <td>2012</td>\n",
       "      <td>G</td>\n",
       "      <td>9 min</td>\n",
       "      <td>Animation, Family</td>\n",
       "      <td>It's up to Max and Pascal to save the royal we...</td>\n",
       "    </tr>\n",
       "    <tr>\n",
       "      <th>17</th>\n",
       "      <td>s36</td>\n",
       "      <td>Movie</td>\n",
       "      <td>The Little Matchgirl</td>\n",
       "      <td>Roger Allers</td>\n",
       "      <td>NaN</td>\n",
       "      <td>United States</td>\n",
       "      <td>November 12, 2021</td>\n",
       "      <td>2006</td>\n",
       "      <td>G</td>\n",
       "      <td>7 min</td>\n",
       "      <td>Animation, Drama</td>\n",
       "      <td>A poor matchgirl sees happy images in the flam...</td>\n",
       "    </tr>\n",
       "    <tr>\n",
       "      <th>18</th>\n",
       "      <td>s40</td>\n",
       "      <td>Movie</td>\n",
       "      <td>Tick Tock Tale</td>\n",
       "      <td>Dean Wellins</td>\n",
       "      <td>NaN</td>\n",
       "      <td>United States</td>\n",
       "      <td>November 12, 2021</td>\n",
       "      <td>2010</td>\n",
       "      <td>G</td>\n",
       "      <td>6 min</td>\n",
       "      <td>Animation, Crime, Family</td>\n",
       "      <td>A tale of a quirky mantle clock.</td>\n",
       "    </tr>\n",
       "    <tr>\n",
       "      <th>19</th>\n",
       "      <td>s43</td>\n",
       "      <td>Movie</td>\n",
       "      <td>Alvin and the Chipmunks: Chipwrecked</td>\n",
       "      <td>Mike Mitchell</td>\n",
       "      <td>Jason Lee, David Cross, Jenny Slate, Justin Lo...</td>\n",
       "      <td>United States</td>\n",
       "      <td>November 5, 2021</td>\n",
       "      <td>2011</td>\n",
       "      <td>G</td>\n",
       "      <td>87 min</td>\n",
       "      <td>Comedy, Family, Music</td>\n",
       "      <td>The Chipmunks and Chipettes get stranded on a ...</td>\n",
       "    </tr>\n",
       "    <tr>\n",
       "      <th>20</th>\n",
       "      <td>s44</td>\n",
       "      <td>Movie</td>\n",
       "      <td>Jingle All The Way</td>\n",
       "      <td>Brian Levant</td>\n",
       "      <td>Arnold Schwarzenegger, Sinbad, Phil Hartman, R...</td>\n",
       "      <td>United States</td>\n",
       "      <td>November 5, 2021</td>\n",
       "      <td>1996</td>\n",
       "      <td>PG</td>\n",
       "      <td>90 min</td>\n",
       "      <td>Comedy, Family</td>\n",
       "      <td>A father's Christmas Eve turns into a madcap s...</td>\n",
       "    </tr>\n",
       "    <tr>\n",
       "      <th>21</th>\n",
       "      <td>s45</td>\n",
       "      <td>Movie</td>\n",
       "      <td>Jingle All the Way 2</td>\n",
       "      <td>Alex Zamm</td>\n",
       "      <td>Larry the Cable Guy, Brian Stepanek, Santino M...</td>\n",
       "      <td>United States</td>\n",
       "      <td>November 5, 2021</td>\n",
       "      <td>2014</td>\n",
       "      <td>PG</td>\n",
       "      <td>91 min</td>\n",
       "      <td>Comedy, Family</td>\n",
       "      <td>Two dads compete to be the best father and mak...</td>\n",
       "    </tr>\n",
       "    <tr>\n",
       "      <th>22</th>\n",
       "      <td>s47</td>\n",
       "      <td>Movie</td>\n",
       "      <td>Santa Buddies: The Legend of Santa Paws</td>\n",
       "      <td>Robert Vince</td>\n",
       "      <td>Christopher Lloyd, Danny Woodburn, Craig Anton...</td>\n",
       "      <td>United States, Canada</td>\n",
       "      <td>November 5, 2021</td>\n",
       "      <td>2009</td>\n",
       "      <td>G</td>\n",
       "      <td>93 min</td>\n",
       "      <td>Comedy, Fantasy, Kids</td>\n",
       "      <td>The Buddies remind Santa Paws' feisty son, Pup...</td>\n",
       "    </tr>\n",
       "    <tr>\n",
       "      <th>23</th>\n",
       "      <td>s48</td>\n",
       "      <td>Movie</td>\n",
       "      <td>Snow Buddies</td>\n",
       "      <td>Robert Vince</td>\n",
       "      <td>Dominic Scott Kay, John Kapelos, Lise Simms, M...</td>\n",
       "      <td>United States</td>\n",
       "      <td>November 5, 2021</td>\n",
       "      <td>2008</td>\n",
       "      <td>G</td>\n",
       "      <td>91 min</td>\n",
       "      <td>Action-Adventure, Comedy, Kids</td>\n",
       "      <td>Disney’s favorite talking pups put one paw in ...</td>\n",
       "    </tr>\n",
       "    <tr>\n",
       "      <th>24</th>\n",
       "      <td>s49</td>\n",
       "      <td>Movie</td>\n",
       "      <td>Space Buddies</td>\n",
       "      <td>Robert Vince</td>\n",
       "      <td>F.T. Anderson, Diedrich Bader, Field Cate, Ken...</td>\n",
       "      <td>United States, Canada</td>\n",
       "      <td>November 5, 2021</td>\n",
       "      <td>2009</td>\n",
       "      <td>G</td>\n",
       "      <td>87 min</td>\n",
       "      <td>Action-Adventure, Comedy, Kids</td>\n",
       "      <td>Disney's most adventurous talking pups take on...</td>\n",
       "    </tr>\n",
       "    <tr>\n",
       "      <th>25</th>\n",
       "      <td>s50</td>\n",
       "      <td>Movie</td>\n",
       "      <td>The Search for Santa Paws</td>\n",
       "      <td>Robert Vince</td>\n",
       "      <td>Resse Alexander, Diedrich Bader, Sahar Biniaz,...</td>\n",
       "      <td>Canada</td>\n",
       "      <td>November 5, 2021</td>\n",
       "      <td>2010</td>\n",
       "      <td>G</td>\n",
       "      <td>101 min</td>\n",
       "      <td>Drama, Family, Fantasy</td>\n",
       "      <td>Discover how the legendary friendship of Santa...</td>\n",
       "    </tr>\n",
       "    <tr>\n",
       "      <th>26</th>\n",
       "      <td>s51</td>\n",
       "      <td>Movie</td>\n",
       "      <td>X-Men: First Class</td>\n",
       "      <td>Matthew Vaughn</td>\n",
       "      <td>James McAvoy, Michael Fassbender, Rose Byrne, ...</td>\n",
       "      <td>United States, United Kingdom</td>\n",
       "      <td>November 5, 2021</td>\n",
       "      <td>2011</td>\n",
       "      <td>PG-13</td>\n",
       "      <td>132 min</td>\n",
       "      <td>Action-Adventure, Science Fiction, Superhero</td>\n",
       "      <td>Following the classic mythology, X-Men: First ...</td>\n",
       "    </tr>\n",
       "    <tr>\n",
       "      <th>27</th>\n",
       "      <td>s52</td>\n",
       "      <td>TV Show</td>\n",
       "      <td>Disney Amphibia</td>\n",
       "      <td>NaN</td>\n",
       "      <td>Justin Felbinger, Amanda Leighton, Bill Farmer...</td>\n",
       "      <td>United States, South Korea</td>\n",
       "      <td>November 3, 2021</td>\n",
       "      <td>2018</td>\n",
       "      <td>TV-Y7</td>\n",
       "      <td>3 Seasons</td>\n",
       "      <td>Animation, Comedy, Family</td>\n",
       "      <td>Anne Boonchuy is transported to the world of A...</td>\n",
       "    </tr>\n",
       "    <tr>\n",
       "      <th>28</th>\n",
       "      <td>s53</td>\n",
       "      <td>TV Show</td>\n",
       "      <td>Photo Ark</td>\n",
       "      <td>NaN</td>\n",
       "      <td>Joel Sartore</td>\n",
       "      <td>United States</td>\n",
       "      <td>November 3, 2021</td>\n",
       "      <td>2017</td>\n",
       "      <td>TV-PG</td>\n",
       "      <td>1 Season</td>\n",
       "      <td>Animals &amp; Nature, Docuseries, Family</td>\n",
       "      <td>National Geographic photographer Joel Sartore ...</td>\n",
       "    </tr>\n",
       "    <tr>\n",
       "      <th>29</th>\n",
       "      <td>s56</td>\n",
       "      <td>Movie</td>\n",
       "      <td>McFarland, USA</td>\n",
       "      <td>Niki Caro</td>\n",
       "      <td>Kevin Costner, Maria Bello, Morgan Saylor, Mar...</td>\n",
       "      <td>United States</td>\n",
       "      <td>October 29, 2021</td>\n",
       "      <td>2015</td>\n",
       "      <td>PG</td>\n",
       "      <td>131 min</td>\n",
       "      <td>Drama, Sports</td>\n",
       "      <td>A coach guides underdogs past tremendous obsta...</td>\n",
       "    </tr>\n",
       "  </tbody>\n",
       "</table>\n",
       "</div>"
      ],
      "text/plain": [
       "   show_id     type                                      title  \\\n",
       "0       s3    Movie               Ice Age: A Mammoth Christmas   \n",
       "1       s6    Movie                          Becoming Cousteau   \n",
       "2       s8  TV Show                     Port Protection Alaska   \n",
       "3       s9  TV Show                  Secrets of the Zoo: Tampa   \n",
       "4      s10    Movie      A Muppets Christmas: Letters To Santa   \n",
       "5      s13    Movie                            The Pixar Story   \n",
       "6      s14  TV Show                      Dr. Oakley, Yukon Vet   \n",
       "7      s18  TV Show                         Disney Fancy Nancy   \n",
       "8      s20    Movie                                  Enchanted   \n",
       "9      s21    Movie                                      Feast   \n",
       "10     s22    Movie                               Frozen Fever   \n",
       "11     s23    Movie                               Get a Horse!   \n",
       "12     s24    Movie                      Home Sweet Home Alone   \n",
       "13     s25    Movie                              Jungle Cruise   \n",
       "14     s30    Movie                                   Paperman   \n",
       "15     s32    Movie  Shang-Chi and The Legend of The Ten Rings   \n",
       "16     s34    Movie                         Tangled Ever After   \n",
       "17     s36    Movie                       The Little Matchgirl   \n",
       "18     s40    Movie                             Tick Tock Tale   \n",
       "19     s43    Movie       Alvin and the Chipmunks: Chipwrecked   \n",
       "20     s44    Movie                         Jingle All The Way   \n",
       "21     s45    Movie                       Jingle All the Way 2   \n",
       "22     s47    Movie    Santa Buddies: The Legend of Santa Paws   \n",
       "23     s48    Movie                               Snow Buddies   \n",
       "24     s49    Movie                              Space Buddies   \n",
       "25     s50    Movie                  The Search for Santa Paws   \n",
       "26     s51    Movie                         X-Men: First Class   \n",
       "27     s52  TV Show                            Disney Amphibia   \n",
       "28     s53  TV Show                                  Photo Ark   \n",
       "29     s56    Movie                             McFarland, USA   \n",
       "\n",
       "                      director  \\\n",
       "0                 Karen Disher   \n",
       "1                   Liz Garbus   \n",
       "2                          NaN   \n",
       "3                          NaN   \n",
       "4             Kirk R. Thatcher   \n",
       "5                Leslie Iwerks   \n",
       "6                          NaN   \n",
       "7                          NaN   \n",
       "8                   Kevin Lima   \n",
       "9              Patrick Osborne   \n",
       "10    Chris Buck, Jennifer Lee   \n",
       "11            Lauren MacMullan   \n",
       "12                   Dan Mazer   \n",
       "13          Jaume Collet-Serra   \n",
       "14                  John Kahrs   \n",
       "15       Destin Daniel Cretton   \n",
       "16  Nathan Greno, Byron Howard   \n",
       "17                Roger Allers   \n",
       "18                Dean Wellins   \n",
       "19               Mike Mitchell   \n",
       "20                Brian Levant   \n",
       "21                   Alex Zamm   \n",
       "22                Robert Vince   \n",
       "23                Robert Vince   \n",
       "24                Robert Vince   \n",
       "25                Robert Vince   \n",
       "26              Matthew Vaughn   \n",
       "27                         NaN   \n",
       "28                         NaN   \n",
       "29                   Niki Caro   \n",
       "\n",
       "                                                 cast  \\\n",
       "0   Raymond Albert Romano, John Leguizamo, Denis L...   \n",
       "1               Jacques Yves Cousteau, Vincent Cassel   \n",
       "2   Gary Muehlberger, Mary Miller, Curly Leach, Sa...   \n",
       "3   Dr. Ray Ball, Dr. Lauren Smith, Chris Massaro,...   \n",
       "4   Steve Whitmire, Dave Goelz, Bill Barretta, Eri...   \n",
       "5   Stacy Keach, John Lasseter, Brad Bird, John Mu...   \n",
       "6                   Dr. Michelle Oakley, Zachary Fine   \n",
       "7   Mia Jenness, Alyson Hannigan, Rob Riggle, Spen...   \n",
       "8   Amy Adams, Patrick Dempsey, James Marsden, Tim...   \n",
       "9   Stephen Apostolina, Kirk Baily, Ben Bledsoe, D...   \n",
       "10  Kristen Bell, Idina Menzel, Jonathan Groff, Jo...   \n",
       "11  Walt Disney, Marcellite Garner, Russi Taylor, ...   \n",
       "12  Ellie Kemper, Rob Delaney, Archie Yates, Aisli...   \n",
       "13  Dwayne Johnson, Emily Blunt, Edgar Ramirez, Ja...   \n",
       "14                          John Kahrs, Kari Wahlgren   \n",
       "15  Simu Liu, Awkwafina, Tony Leung, Michelle Yeoh...   \n",
       "16  Mandy Moore, Zachary Levi, Alan Dale, Paul F. ...   \n",
       "17                                                NaN   \n",
       "18                                                NaN   \n",
       "19  Jason Lee, David Cross, Jenny Slate, Justin Lo...   \n",
       "20  Arnold Schwarzenegger, Sinbad, Phil Hartman, R...   \n",
       "21  Larry the Cable Guy, Brian Stepanek, Santino M...   \n",
       "22  Christopher Lloyd, Danny Woodburn, Craig Anton...   \n",
       "23  Dominic Scott Kay, John Kapelos, Lise Simms, M...   \n",
       "24  F.T. Anderson, Diedrich Bader, Field Cate, Ken...   \n",
       "25  Resse Alexander, Diedrich Bader, Sahar Biniaz,...   \n",
       "26  James McAvoy, Michael Fassbender, Rose Byrne, ...   \n",
       "27  Justin Felbinger, Amanda Leighton, Bill Farmer...   \n",
       "28                                       Joel Sartore   \n",
       "29  Kevin Costner, Maria Bello, Morgan Saylor, Mar...   \n",
       "\n",
       "                          country         date_added  release_year rating  \\\n",
       "0                   United States  November 26, 2021          2011   TV-G   \n",
       "1                   United States  November 24, 2021          2021  PG-13   \n",
       "2                   United States  November 24, 2021          2015  TV-14   \n",
       "3                   United States  November 24, 2021          2019  TV-PG   \n",
       "4                   United States  November 19, 2021          2008      G   \n",
       "5                   United States  November 19, 2021          2007      G   \n",
       "6                   United States  November 17, 2021          2013  TV-PG   \n",
       "7           United States, Canada  November 12, 2021          2018  TV-PG   \n",
       "8                   United States  November 12, 2021          2007     PG   \n",
       "9                   United States  November 12, 2021          2014      G   \n",
       "10                  United States  November 12, 2021          2015      G   \n",
       "11                  United States  November 12, 2021          2013      G   \n",
       "12                  United States  November 12, 2021          2021     PG   \n",
       "13                  United States  November 12, 2021          2021  PG-13   \n",
       "14                  United States  November 12, 2021          2012      G   \n",
       "15       United States, Australia  November 12, 2021          2021  PG-13   \n",
       "16                  United States  November 12, 2021          2012      G   \n",
       "17                  United States  November 12, 2021          2006      G   \n",
       "18                  United States  November 12, 2021          2010      G   \n",
       "19                  United States   November 5, 2021          2011      G   \n",
       "20                  United States   November 5, 2021          1996     PG   \n",
       "21                  United States   November 5, 2021          2014     PG   \n",
       "22          United States, Canada   November 5, 2021          2009      G   \n",
       "23                  United States   November 5, 2021          2008      G   \n",
       "24          United States, Canada   November 5, 2021          2009      G   \n",
       "25                         Canada   November 5, 2021          2010      G   \n",
       "26  United States, United Kingdom   November 5, 2021          2011  PG-13   \n",
       "27     United States, South Korea   November 3, 2021          2018  TV-Y7   \n",
       "28                  United States   November 3, 2021          2017  TV-PG   \n",
       "29                  United States   October 29, 2021          2015     PG   \n",
       "\n",
       "      duration                                       listed_in  \\\n",
       "0       23 min                       Animation, Comedy, Family   \n",
       "1       94 min                       Biographical, Documentary   \n",
       "2    2 Seasons                   Docuseries, Reality, Survival   \n",
       "3    2 Seasons            Animals & Nature, Docuseries, Family   \n",
       "4       45 min                         Comedy, Family, Musical   \n",
       "5       91 min                             Documentary, Family   \n",
       "6   10 Seasons  Action-Adventure, Animals & Nature, Docuseries   \n",
       "7    3 Seasons                                 Animation, Kids   \n",
       "8      110 min                         Comedy, Family, Fantasy   \n",
       "9        8 min                        Animation, Comedy, Drama   \n",
       "10      11 min                      Animation, Family, Fantasy   \n",
       "11       7 min             Action-Adventure, Animation, Comedy   \n",
       "12      95 min                                  Comedy, Family   \n",
       "13     129 min                Action-Adventure, Comedy, Family   \n",
       "14       7 min                       Animation, Comedy, Family   \n",
       "15     134 min            Action-Adventure, Fantasy, Superhero   \n",
       "16       9 min                               Animation, Family   \n",
       "17       7 min                                Animation, Drama   \n",
       "18       6 min                        Animation, Crime, Family   \n",
       "19      87 min                           Comedy, Family, Music   \n",
       "20      90 min                                  Comedy, Family   \n",
       "21      91 min                                  Comedy, Family   \n",
       "22      93 min                           Comedy, Fantasy, Kids   \n",
       "23      91 min                  Action-Adventure, Comedy, Kids   \n",
       "24      87 min                  Action-Adventure, Comedy, Kids   \n",
       "25     101 min                          Drama, Family, Fantasy   \n",
       "26     132 min    Action-Adventure, Science Fiction, Superhero   \n",
       "27   3 Seasons                       Animation, Comedy, Family   \n",
       "28    1 Season            Animals & Nature, Docuseries, Family   \n",
       "29     131 min                                   Drama, Sports   \n",
       "\n",
       "                                          description  \n",
       "0           Sid the Sloth is on Santa's naughty list.  \n",
       "1   An inside look at the legendary life of advent...  \n",
       "2   Residents of Port Protection must combat volat...  \n",
       "3   A day in the life at ZooTampa is anything but ...  \n",
       "4   Celebrate the holiday season with all your fav...  \n",
       "5   A groundbreaking company forever changes the f...  \n",
       "6   Meet Dr. Michelle Oakley, vet to pretty much e...  \n",
       "7                Nancy makes every day extraordinary!  \n",
       "8   An animated princess winds up in the real worl...  \n",
       "9   One man's love life seen through the eyes of h...  \n",
       "10  Elsa wants to give Anna the best birthday part...  \n",
       "11  Mickey and friends hitch a ride on a musical h...  \n",
       "12  Alone for the holidays, Max Mercer will do wha...  \n",
       "13  Dr. Lily Houghton & skipper Frank Wolff team u...  \n",
       "14    A young man strives to find girl of his dreams.  \n",
       "15  Shang-Chi must confront his father, leader of ...  \n",
       "16  It's up to Max and Pascal to save the royal we...  \n",
       "17  A poor matchgirl sees happy images in the flam...  \n",
       "18                   A tale of a quirky mantle clock.  \n",
       "19  The Chipmunks and Chipettes get stranded on a ...  \n",
       "20  A father's Christmas Eve turns into a madcap s...  \n",
       "21  Two dads compete to be the best father and mak...  \n",
       "22  The Buddies remind Santa Paws' feisty son, Pup...  \n",
       "23  Disney’s favorite talking pups put one paw in ...  \n",
       "24  Disney's most adventurous talking pups take on...  \n",
       "25  Discover how the legendary friendship of Santa...  \n",
       "26  Following the classic mythology, X-Men: First ...  \n",
       "27  Anne Boonchuy is transported to the world of A...  \n",
       "28  National Geographic photographer Joel Sartore ...  \n",
       "29  A coach guides underdogs past tremendous obsta...  "
      ]
     },
     "execution_count": 101,
     "metadata": {},
     "output_type": "execute_result"
    }
   ],
   "source": [
    "movie.head(30)"
   ]
  },
  {
   "cell_type": "code",
   "execution_count": 102,
   "id": "93295c92",
   "metadata": {},
   "outputs": [
    {
     "data": {
      "text/plain": [
       "0   -1.221641\n",
       "1   -0.930309\n",
       "2   -0.876072\n",
       "3   -0.183623\n",
       "4   -0.125834\n",
       "Name: 2, dtype: float64"
      ]
     },
     "execution_count": 102,
     "metadata": {},
     "output_type": "execute_result"
    }
   ],
   "source": [
    "x"
   ]
  },
  {
   "cell_type": "code",
   "execution_count": 103,
   "id": "abd7d7e9",
   "metadata": {},
   "outputs": [
    {
     "data": {
      "text/plain": [
       "0                                United States\n",
       "1                                United States\n",
       "2                                United States\n",
       "3                                United States\n",
       "4                                United States\n",
       "                         ...                  \n",
       "1226             United States, United Kingdom\n",
       "1227                     United States, Canada\n",
       "1228    United Kingdom, Germany, United States\n",
       "1229    United Kingdom, Germany, United States\n",
       "1230                             United States\n",
       "Name: country, Length: 1231, dtype: object"
      ]
     },
     "execution_count": 103,
     "metadata": {},
     "output_type": "execute_result"
    }
   ],
   "source": [
    "movie['country']"
   ]
  },
  {
   "cell_type": "code",
   "execution_count": 104,
   "id": "76282707",
   "metadata": {},
   "outputs": [
    {
     "data": {
      "text/html": [
       "<div>\n",
       "<style scoped>\n",
       "    .dataframe tbody tr th:only-of-type {\n",
       "        vertical-align: middle;\n",
       "    }\n",
       "\n",
       "    .dataframe tbody tr th {\n",
       "        vertical-align: top;\n",
       "    }\n",
       "\n",
       "    .dataframe thead th {\n",
       "        text-align: right;\n",
       "    }\n",
       "</style>\n",
       "<table border=\"1\" class=\"dataframe\">\n",
       "  <thead>\n",
       "    <tr style=\"text-align: right;\">\n",
       "      <th></th>\n",
       "      <th>show_id</th>\n",
       "      <th>type</th>\n",
       "      <th>title</th>\n",
       "      <th>director</th>\n",
       "      <th>cast</th>\n",
       "      <th>country</th>\n",
       "      <th>date_added</th>\n",
       "      <th>release_year</th>\n",
       "      <th>rating</th>\n",
       "      <th>duration</th>\n",
       "      <th>listed_in</th>\n",
       "      <th>description</th>\n",
       "    </tr>\n",
       "  </thead>\n",
       "  <tbody>\n",
       "    <tr>\n",
       "      <th>0</th>\n",
       "      <td>s3</td>\n",
       "      <td>Movie</td>\n",
       "      <td>Ice Age: A Mammoth Christmas</td>\n",
       "      <td>Karen Disher</td>\n",
       "      <td>Raymond Albert Romano, John Leguizamo, Denis L...</td>\n",
       "      <td>United States</td>\n",
       "      <td>November 26, 2021</td>\n",
       "      <td>2011</td>\n",
       "      <td>TV-G</td>\n",
       "      <td>23 min</td>\n",
       "      <td>Animation, Comedy, Family</td>\n",
       "      <td>Sid the Sloth is on Santa's naughty list.</td>\n",
       "    </tr>\n",
       "    <tr>\n",
       "      <th>1</th>\n",
       "      <td>s6</td>\n",
       "      <td>Movie</td>\n",
       "      <td>Becoming Cousteau</td>\n",
       "      <td>Liz Garbus</td>\n",
       "      <td>Jacques Yves Cousteau, Vincent Cassel</td>\n",
       "      <td>United States</td>\n",
       "      <td>November 24, 2021</td>\n",
       "      <td>2021</td>\n",
       "      <td>PG-13</td>\n",
       "      <td>94 min</td>\n",
       "      <td>Biographical, Documentary</td>\n",
       "      <td>An inside look at the legendary life of advent...</td>\n",
       "    </tr>\n",
       "    <tr>\n",
       "      <th>2</th>\n",
       "      <td>s8</td>\n",
       "      <td>TV Show</td>\n",
       "      <td>Port Protection Alaska</td>\n",
       "      <td>NaN</td>\n",
       "      <td>Gary Muehlberger, Mary Miller, Curly Leach, Sa...</td>\n",
       "      <td>United States</td>\n",
       "      <td>November 24, 2021</td>\n",
       "      <td>2015</td>\n",
       "      <td>TV-14</td>\n",
       "      <td>2 Seasons</td>\n",
       "      <td>Docuseries, Reality, Survival</td>\n",
       "      <td>Residents of Port Protection must combat volat...</td>\n",
       "    </tr>\n",
       "    <tr>\n",
       "      <th>3</th>\n",
       "      <td>s9</td>\n",
       "      <td>TV Show</td>\n",
       "      <td>Secrets of the Zoo: Tampa</td>\n",
       "      <td>NaN</td>\n",
       "      <td>Dr. Ray Ball, Dr. Lauren Smith, Chris Massaro,...</td>\n",
       "      <td>United States</td>\n",
       "      <td>November 24, 2021</td>\n",
       "      <td>2019</td>\n",
       "      <td>TV-PG</td>\n",
       "      <td>2 Seasons</td>\n",
       "      <td>Animals &amp; Nature, Docuseries, Family</td>\n",
       "      <td>A day in the life at ZooTampa is anything but ...</td>\n",
       "    </tr>\n",
       "    <tr>\n",
       "      <th>4</th>\n",
       "      <td>s10</td>\n",
       "      <td>Movie</td>\n",
       "      <td>A Muppets Christmas: Letters To Santa</td>\n",
       "      <td>Kirk R. Thatcher</td>\n",
       "      <td>Steve Whitmire, Dave Goelz, Bill Barretta, Eri...</td>\n",
       "      <td>United States</td>\n",
       "      <td>November 19, 2021</td>\n",
       "      <td>2008</td>\n",
       "      <td>G</td>\n",
       "      <td>45 min</td>\n",
       "      <td>Comedy, Family, Musical</td>\n",
       "      <td>Celebrate the holiday season with all your fav...</td>\n",
       "    </tr>\n",
       "    <tr>\n",
       "      <th>...</th>\n",
       "      <td>...</td>\n",
       "      <td>...</td>\n",
       "      <td>...</td>\n",
       "      <td>...</td>\n",
       "      <td>...</td>\n",
       "      <td>...</td>\n",
       "      <td>...</td>\n",
       "      <td>...</td>\n",
       "      <td>...</td>\n",
       "      <td>...</td>\n",
       "      <td>...</td>\n",
       "      <td>...</td>\n",
       "    </tr>\n",
       "    <tr>\n",
       "      <th>1226</th>\n",
       "      <td>s1446</td>\n",
       "      <td>Movie</td>\n",
       "      <td>X-Men Origins: Wolverine</td>\n",
       "      <td>Gavin Hood</td>\n",
       "      <td>Hugh Jackman, Liev Schreiber, Danny Huston, wi...</td>\n",
       "      <td>United States, United Kingdom</td>\n",
       "      <td>June 4, 2021</td>\n",
       "      <td>2009</td>\n",
       "      <td>PG-13</td>\n",
       "      <td>108 min</td>\n",
       "      <td>Action-Adventure, Family, Science Fiction</td>\n",
       "      <td>Wolverine unites with legendary X-Men to fight...</td>\n",
       "    </tr>\n",
       "    <tr>\n",
       "      <th>1227</th>\n",
       "      <td>s1447</td>\n",
       "      <td>Movie</td>\n",
       "      <td>Night at the Museum: Battle of the Smithsonian</td>\n",
       "      <td>Shawn Levy</td>\n",
       "      <td>Ben Stiller, Amy Adams, Owen Wilson, Hank Azar...</td>\n",
       "      <td>United States, Canada</td>\n",
       "      <td>April 2, 2021</td>\n",
       "      <td>2009</td>\n",
       "      <td>PG</td>\n",
       "      <td>106 min</td>\n",
       "      <td>Action-Adventure, Comedy, Family</td>\n",
       "      <td>Larry Daley returns to rescue some old friends...</td>\n",
       "    </tr>\n",
       "    <tr>\n",
       "      <th>1228</th>\n",
       "      <td>s1448</td>\n",
       "      <td>Movie</td>\n",
       "      <td>Eddie the Eagle</td>\n",
       "      <td>Dexter Fletcher</td>\n",
       "      <td>Tom Costello, Jo Hartley, Keith Allen, Dickon ...</td>\n",
       "      <td>United Kingdom, Germany, United States</td>\n",
       "      <td>December 18, 2020</td>\n",
       "      <td>2016</td>\n",
       "      <td>PG-13</td>\n",
       "      <td>107 min</td>\n",
       "      <td>Biographical, Comedy, Drama</td>\n",
       "      <td>True story of Eddie Edwards, a British ski-jum...</td>\n",
       "    </tr>\n",
       "    <tr>\n",
       "      <th>1229</th>\n",
       "      <td>s1449</td>\n",
       "      <td>Movie</td>\n",
       "      <td>Bend It Like Beckham</td>\n",
       "      <td>Gurinder Chadha</td>\n",
       "      <td>Parminder Nagra, Keira Knightley, Jonathan Rhy...</td>\n",
       "      <td>United Kingdom, Germany, United States</td>\n",
       "      <td>September 18, 2020</td>\n",
       "      <td>2003</td>\n",
       "      <td>PG-13</td>\n",
       "      <td>112 min</td>\n",
       "      <td>Buddy, Comedy, Coming of Age</td>\n",
       "      <td>Despite the wishes of their traditional famili...</td>\n",
       "    </tr>\n",
       "    <tr>\n",
       "      <th>1230</th>\n",
       "      <td>s1450</td>\n",
       "      <td>Movie</td>\n",
       "      <td>Captain Sparky vs. The Flying Saucers</td>\n",
       "      <td>Mark Waring</td>\n",
       "      <td>Charlie Tahan</td>\n",
       "      <td>United States</td>\n",
       "      <td>April 1, 2020</td>\n",
       "      <td>2012</td>\n",
       "      <td>TV-G</td>\n",
       "      <td>2 min</td>\n",
       "      <td>Action-Adventure, Animals &amp; Nature, Animation</td>\n",
       "      <td>View one of Sparky's favorite home movies.</td>\n",
       "    </tr>\n",
       "  </tbody>\n",
       "</table>\n",
       "<p>1231 rows × 12 columns</p>\n",
       "</div>"
      ],
      "text/plain": [
       "     show_id     type                                           title  \\\n",
       "0         s3    Movie                    Ice Age: A Mammoth Christmas   \n",
       "1         s6    Movie                               Becoming Cousteau   \n",
       "2         s8  TV Show                          Port Protection Alaska   \n",
       "3         s9  TV Show                       Secrets of the Zoo: Tampa   \n",
       "4        s10    Movie           A Muppets Christmas: Letters To Santa   \n",
       "...      ...      ...                                             ...   \n",
       "1226   s1446    Movie                        X-Men Origins: Wolverine   \n",
       "1227   s1447    Movie  Night at the Museum: Battle of the Smithsonian   \n",
       "1228   s1448    Movie                                 Eddie the Eagle   \n",
       "1229   s1449    Movie                            Bend It Like Beckham   \n",
       "1230   s1450    Movie           Captain Sparky vs. The Flying Saucers   \n",
       "\n",
       "              director                                               cast  \\\n",
       "0         Karen Disher  Raymond Albert Romano, John Leguizamo, Denis L...   \n",
       "1           Liz Garbus              Jacques Yves Cousteau, Vincent Cassel   \n",
       "2                  NaN  Gary Muehlberger, Mary Miller, Curly Leach, Sa...   \n",
       "3                  NaN  Dr. Ray Ball, Dr. Lauren Smith, Chris Massaro,...   \n",
       "4     Kirk R. Thatcher  Steve Whitmire, Dave Goelz, Bill Barretta, Eri...   \n",
       "...                ...                                                ...   \n",
       "1226        Gavin Hood  Hugh Jackman, Liev Schreiber, Danny Huston, wi...   \n",
       "1227        Shawn Levy  Ben Stiller, Amy Adams, Owen Wilson, Hank Azar...   \n",
       "1228   Dexter Fletcher  Tom Costello, Jo Hartley, Keith Allen, Dickon ...   \n",
       "1229   Gurinder Chadha  Parminder Nagra, Keira Knightley, Jonathan Rhy...   \n",
       "1230       Mark Waring                                      Charlie Tahan   \n",
       "\n",
       "                                     country          date_added  \\\n",
       "0                              United States   November 26, 2021   \n",
       "1                              United States   November 24, 2021   \n",
       "2                              United States   November 24, 2021   \n",
       "3                              United States   November 24, 2021   \n",
       "4                              United States   November 19, 2021   \n",
       "...                                      ...                 ...   \n",
       "1226           United States, United Kingdom        June 4, 2021   \n",
       "1227                   United States, Canada       April 2, 2021   \n",
       "1228  United Kingdom, Germany, United States   December 18, 2020   \n",
       "1229  United Kingdom, Germany, United States  September 18, 2020   \n",
       "1230                           United States       April 1, 2020   \n",
       "\n",
       "      release_year rating   duration  \\\n",
       "0             2011   TV-G     23 min   \n",
       "1             2021  PG-13     94 min   \n",
       "2             2015  TV-14  2 Seasons   \n",
       "3             2019  TV-PG  2 Seasons   \n",
       "4             2008      G     45 min   \n",
       "...            ...    ...        ...   \n",
       "1226          2009  PG-13    108 min   \n",
       "1227          2009     PG    106 min   \n",
       "1228          2016  PG-13    107 min   \n",
       "1229          2003  PG-13    112 min   \n",
       "1230          2012   TV-G      2 min   \n",
       "\n",
       "                                          listed_in  \\\n",
       "0                         Animation, Comedy, Family   \n",
       "1                         Biographical, Documentary   \n",
       "2                     Docuseries, Reality, Survival   \n",
       "3              Animals & Nature, Docuseries, Family   \n",
       "4                           Comedy, Family, Musical   \n",
       "...                                             ...   \n",
       "1226      Action-Adventure, Family, Science Fiction   \n",
       "1227               Action-Adventure, Comedy, Family   \n",
       "1228                    Biographical, Comedy, Drama   \n",
       "1229                   Buddy, Comedy, Coming of Age   \n",
       "1230  Action-Adventure, Animals & Nature, Animation   \n",
       "\n",
       "                                            description  \n",
       "0             Sid the Sloth is on Santa's naughty list.  \n",
       "1     An inside look at the legendary life of advent...  \n",
       "2     Residents of Port Protection must combat volat...  \n",
       "3     A day in the life at ZooTampa is anything but ...  \n",
       "4     Celebrate the holiday season with all your fav...  \n",
       "...                                                 ...  \n",
       "1226  Wolverine unites with legendary X-Men to fight...  \n",
       "1227  Larry Daley returns to rescue some old friends...  \n",
       "1228  True story of Eddie Edwards, a British ski-jum...  \n",
       "1229  Despite the wishes of their traditional famili...  \n",
       "1230         View one of Sparky's favorite home movies.  \n",
       "\n",
       "[1231 rows x 12 columns]"
      ]
     },
     "execution_count": 104,
     "metadata": {},
     "output_type": "execute_result"
    }
   ],
   "source": [
    "# >>>>>>>>>>REMOVE ROWS WITH A  NULL VALUE IN THE \"COUNTRY\" COLUMN <<<<<<<<<<\n",
    "movie.dropna(subset=['country'], inplace = True)\n",
    "movie"
   ]
  },
  {
   "cell_type": "code",
   "execution_count": null,
   "id": "c807fd51",
   "metadata": {},
   "outputs": [],
   "source": []
  },
  {
   "cell_type": "markdown",
   "id": "6f9ea9ca",
   "metadata": {},
   "source": [
    "#  FIND THE DUPLICATES VALUES IN DATASET......."
   ]
  },
  {
   "cell_type": "code",
   "execution_count": 105,
   "id": "80f33356",
   "metadata": {},
   "outputs": [],
   "source": [
    "# >>>>>>>>> CHECKING DUPLICATES <<<<<<<<<"
   ]
  },
  {
   "cell_type": "code",
   "execution_count": 106,
   "id": "b4675c70",
   "metadata": {},
   "outputs": [
    {
     "data": {
      "text/plain": [
       "0       False\n",
       "1       False\n",
       "2       False\n",
       "3       False\n",
       "4       False\n",
       "        ...  \n",
       "1226    False\n",
       "1227    False\n",
       "1228    False\n",
       "1229    False\n",
       "1230    False\n",
       "Length: 1231, dtype: bool"
      ]
     },
     "execution_count": 106,
     "metadata": {},
     "output_type": "execute_result"
    }
   ],
   "source": [
    "movie.duplicated()"
   ]
  },
  {
   "cell_type": "code",
   "execution_count": 107,
   "id": "44940e15",
   "metadata": {},
   "outputs": [],
   "source": [
    "# >>>>>>>>> DELETING DUPLICATE ROWS IF ANY <<<<<<<<<"
   ]
  },
  {
   "cell_type": "code",
   "execution_count": 108,
   "id": "0f5e5e7d",
   "metadata": {},
   "outputs": [],
   "source": [
    "movie.drop_duplicates(inplace = True)"
   ]
  },
  {
   "cell_type": "code",
   "execution_count": 109,
   "id": "73bc4a57",
   "metadata": {},
   "outputs": [
    {
     "data": {
      "text/plain": [
       "0       False\n",
       "1       False\n",
       "2       False\n",
       "3       False\n",
       "4       False\n",
       "        ...  \n",
       "1226    False\n",
       "1227    False\n",
       "1228    False\n",
       "1229    False\n",
       "1230    False\n",
       "Length: 1231, dtype: bool"
      ]
     },
     "execution_count": 109,
     "metadata": {},
     "output_type": "execute_result"
    }
   ],
   "source": [
    "movie.duplicated()"
   ]
  },
  {
   "cell_type": "code",
   "execution_count": 110,
   "id": "93822687",
   "metadata": {},
   "outputs": [],
   "source": [
    "# >>>>>>> MAKE CLEAN CSV FILE <<<<<<<<"
   ]
  },
  {
   "cell_type": "code",
   "execution_count": 111,
   "id": "4a4e4b3b",
   "metadata": {},
   "outputs": [],
   "source": [
    "movie.to_csv(r\"C:\\Users\\kalya\\OneDrive\\Desktop\\Data Workshop\\disney_plus_titles.csv\",index=False)"
   ]
  },
  {
   "cell_type": "markdown",
   "id": "ee4421a4",
   "metadata": {},
   "source": [
    "#  CORRELATION IN THE DATA......"
   ]
  },
  {
   "cell_type": "code",
   "execution_count": 112,
   "id": "04333865",
   "metadata": {},
   "outputs": [],
   "source": [
    "# >>>>>>>> IT REPERSENTS THE RELATIONSHIP BETWEEN TWO COLUMNS <<<<<<<<"
   ]
  },
  {
   "cell_type": "code",
   "execution_count": 113,
   "id": "1b296e3d",
   "metadata": {},
   "outputs": [
    {
     "data": {
      "text/html": [
       "<div>\n",
       "<style scoped>\n",
       "    .dataframe tbody tr th:only-of-type {\n",
       "        vertical-align: middle;\n",
       "    }\n",
       "\n",
       "    .dataframe tbody tr th {\n",
       "        vertical-align: top;\n",
       "    }\n",
       "\n",
       "    .dataframe thead th {\n",
       "        text-align: right;\n",
       "    }\n",
       "</style>\n",
       "<table border=\"1\" class=\"dataframe\">\n",
       "  <thead>\n",
       "    <tr style=\"text-align: right;\">\n",
       "      <th></th>\n",
       "      <th>release_year</th>\n",
       "    </tr>\n",
       "  </thead>\n",
       "  <tbody>\n",
       "    <tr>\n",
       "      <th>release_year</th>\n",
       "      <td>1.0</td>\n",
       "    </tr>\n",
       "  </tbody>\n",
       "</table>\n",
       "</div>"
      ],
      "text/plain": [
       "              release_year\n",
       "release_year           1.0"
      ]
     },
     "execution_count": 113,
     "metadata": {},
     "output_type": "execute_result"
    }
   ],
   "source": [
    "movie.corr()"
   ]
  },
  {
   "cell_type": "code",
   "execution_count": null,
   "id": "a618fee9",
   "metadata": {},
   "outputs": [],
   "source": []
  },
  {
   "cell_type": "markdown",
   "id": "99e3a9c1",
   "metadata": {},
   "source": [
    "#  OPERATIONS ON SERIES ........"
   ]
  },
  {
   "cell_type": "code",
   "execution_count": 114,
   "id": "307b68a1",
   "metadata": {},
   "outputs": [],
   "source": [
    "# >>>>>>> CREATION OF SERIES <<<<<<<<"
   ]
  },
  {
   "cell_type": "code",
   "execution_count": 115,
   "id": "7aa3362d",
   "metadata": {},
   "outputs": [
    {
     "data": {
      "text/plain": [
       "0    1\n",
       "1    2\n",
       "2    3\n",
       "3    4\n",
       "4    5\n",
       "dtype: int64"
      ]
     },
     "execution_count": 115,
     "metadata": {},
     "output_type": "execute_result"
    }
   ],
   "source": [
    "s = pd.Series([1,2,3,4,5])\n",
    "s"
   ]
  },
  {
   "cell_type": "code",
   "execution_count": 116,
   "id": "c10100f5",
   "metadata": {},
   "outputs": [
    {
     "data": {
      "text/plain": [
       "a    6\n",
       "b    7\n",
       "c    5\n",
       "d    3\n",
       "e    8\n",
       "f    6\n",
       "dtype: int64"
      ]
     },
     "execution_count": 116,
     "metadata": {},
     "output_type": "execute_result"
    }
   ],
   "source": [
    "s = pd.Series({'a':6,'b':7,'c':5,'d':3,'e':8,'f':6})\n",
    "s"
   ]
  },
  {
   "cell_type": "code",
   "execution_count": 117,
   "id": "320bcb97",
   "metadata": {},
   "outputs": [
    {
     "data": {
      "text/plain": [
       "1    a\n",
       "2    b\n",
       "3    c\n",
       "4    d\n",
       "5    e\n",
       "6    f\n",
       "dtype: object"
      ]
     },
     "execution_count": 117,
     "metadata": {},
     "output_type": "execute_result"
    }
   ],
   "source": [
    "s2 = pd.Series({1:'a',2:'b',3:'c',4:'d',5:'e',6:'f'})\n",
    "s2"
   ]
  },
  {
   "cell_type": "code",
   "execution_count": 118,
   "id": "cf9fadab",
   "metadata": {},
   "outputs": [],
   "source": [
    "# >>>>>>>> TYPE OF SERIES S2 <<<<<<"
   ]
  },
  {
   "cell_type": "code",
   "execution_count": 119,
   "id": "d61f7da8",
   "metadata": {},
   "outputs": [
    {
     "data": {
      "text/plain": [
       "pandas.core.series.Series"
      ]
     },
     "execution_count": 119,
     "metadata": {},
     "output_type": "execute_result"
    }
   ],
   "source": [
    "type(s2)"
   ]
  },
  {
   "cell_type": "code",
   "execution_count": 120,
   "id": "c6b496f0",
   "metadata": {},
   "outputs": [],
   "source": [
    "# >>>>>>>>> DATA TYPE OF SERIES <<<<<<<<<"
   ]
  },
  {
   "cell_type": "code",
   "execution_count": 136,
   "id": "f607fc83",
   "metadata": {},
   "outputs": [
    {
     "data": {
      "text/plain": [
       "dtype('int64')"
      ]
     },
     "execution_count": 136,
     "metadata": {},
     "output_type": "execute_result"
    }
   ],
   "source": [
    "s.dtype"
   ]
  },
  {
   "cell_type": "code",
   "execution_count": 137,
   "id": "9208cb01",
   "metadata": {},
   "outputs": [],
   "source": [
    "# >>>>>>>>> DATA TYPE OF S2 <<<<<<<<<"
   ]
  },
  {
   "cell_type": "code",
   "execution_count": 138,
   "id": "527eea85",
   "metadata": {},
   "outputs": [
    {
     "data": {
      "text/plain": [
       "dtype('O')"
      ]
     },
     "execution_count": 138,
     "metadata": {},
     "output_type": "execute_result"
    }
   ],
   "source": [
    "s2.dtype"
   ]
  },
  {
   "cell_type": "code",
   "execution_count": 139,
   "id": "51d3469b",
   "metadata": {},
   "outputs": [],
   "source": [
    "# >>>>>>> CHECK THE SERIES IF EQUAL <<<<<<<<"
   ]
  },
  {
   "cell_type": "code",
   "execution_count": 141,
   "id": "384700ec",
   "metadata": {},
   "outputs": [
    {
     "data": {
      "text/plain": [
       "False"
      ]
     },
     "execution_count": 141,
     "metadata": {},
     "output_type": "execute_result"
    }
   ],
   "source": [
    "s.equals(s2)"
   ]
  },
  {
   "cell_type": "code",
   "execution_count": 152,
   "id": "9e617990",
   "metadata": {},
   "outputs": [],
   "source": [
    "# >>>>>>>> CHECK NAME OF SERIES 2 <<<<<<<<<"
   ]
  },
  {
   "cell_type": "code",
   "execution_count": 153,
   "id": "3ab7df3d",
   "metadata": {},
   "outputs": [],
   "source": [
    "s2.name"
   ]
  },
  {
   "cell_type": "code",
   "execution_count": 154,
   "id": "106f96bb",
   "metadata": {},
   "outputs": [],
   "source": [
    "# >>>>>>>>>> GIVE THE NAME TO THE SERIES <<<<<<<"
   ]
  },
  {
   "cell_type": "code",
   "execution_count": 155,
   "id": "c59e6363",
   "metadata": {},
   "outputs": [
    {
     "data": {
      "text/plain": [
       "a    1\n",
       "b    2\n",
       "c    3\n",
       "d    4\n",
       "e    5\n",
       "f    6\n",
       "Name: KALYANI, dtype: int64"
      ]
     },
     "execution_count": 155,
     "metadata": {},
     "output_type": "execute_result"
    }
   ],
   "source": [
    "s=pd.Series({'a':1,'b':2,'c':3,'d':4,'e':5,'f':6},name='KALYANI')\n",
    "s"
   ]
  },
  {
   "cell_type": "code",
   "execution_count": 156,
   "id": "00a9dcd7",
   "metadata": {},
   "outputs": [
    {
     "data": {
      "text/plain": [
       "'KALYANI'"
      ]
     },
     "execution_count": 156,
     "metadata": {},
     "output_type": "execute_result"
    }
   ],
   "source": [
    "s.name"
   ]
  },
  {
   "cell_type": "code",
   "execution_count": 157,
   "id": "f00ec578",
   "metadata": {},
   "outputs": [],
   "source": [
    "# >>>>>>> GIVING SPECIFIC INDEX TO THE SERIES  <<<<<<<<<<"
   ]
  },
  {
   "cell_type": "code",
   "execution_count": 158,
   "id": "ee90db22",
   "metadata": {},
   "outputs": [],
   "source": [
    "# >>>>>>>>> GENERATING THE INEDEX <<<<<<<<<<"
   ]
  },
  {
   "cell_type": "code",
   "execution_count": 159,
   "id": "7412c07e",
   "metadata": {},
   "outputs": [],
   "source": [
    "lst_index=[f\"Label_{i}\" for i in 'abcdefghijklmnopqrstuvwxyz']"
   ]
  },
  {
   "cell_type": "code",
   "execution_count": 160,
   "id": "2781d671",
   "metadata": {},
   "outputs": [],
   "source": [
    "# >>>>>>>>>> GENERATING ELEMENTS FOR THE 1ST <<<<<<<<"
   ]
  },
  {
   "cell_type": "code",
   "execution_count": 161,
   "id": "37aca994",
   "metadata": {},
   "outputs": [],
   "source": [
    "lst=[i for i in range(1,27)]"
   ]
  },
  {
   "cell_type": "code",
   "execution_count": 162,
   "id": "a97298d9",
   "metadata": {},
   "outputs": [],
   "source": [
    "# >>>>>>>>>>> CREATING SERIES FROM IT <<<<<<<"
   ]
  },
  {
   "cell_type": "code",
   "execution_count": 163,
   "id": "6d08acf5",
   "metadata": {},
   "outputs": [
    {
     "data": {
      "text/plain": [
       "Label_a     1\n",
       "Label_b     2\n",
       "Label_c     3\n",
       "Label_d     4\n",
       "Label_e     5\n",
       "Label_f     6\n",
       "Label_g     7\n",
       "Label_h     8\n",
       "Label_i     9\n",
       "Label_j    10\n",
       "Label_k    11\n",
       "Label_l    12\n",
       "Label_m    13\n",
       "Label_n    14\n",
       "Label_o    15\n",
       "Label_p    16\n",
       "Label_q    17\n",
       "Label_r    18\n",
       "Label_s    19\n",
       "Label_t    20\n",
       "Label_u    21\n",
       "Label_v    22\n",
       "Label_w    23\n",
       "Label_x    24\n",
       "Label_y    25\n",
       "Label_z    26\n",
       "Name: alphabets and index, dtype: int64"
      ]
     },
     "execution_count": 163,
     "metadata": {},
     "output_type": "execute_result"
    }
   ],
   "source": [
    "series = pd.Series(lst,index=lst_index,name=\"alphabets and index\")\n",
    "\n",
    "series"
   ]
  },
  {
   "cell_type": "code",
   "execution_count": 164,
   "id": "f75684f1",
   "metadata": {},
   "outputs": [],
   "source": [
    "# >>>>>>>>>> SIZE OF SERIES <<<<<<<<"
   ]
  },
  {
   "cell_type": "code",
   "execution_count": 165,
   "id": "5d33e0b5",
   "metadata": {},
   "outputs": [
    {
     "data": {
      "text/plain": [
       "26"
      ]
     },
     "execution_count": 165,
     "metadata": {},
     "output_type": "execute_result"
    }
   ],
   "source": [
    "series.size"
   ]
  },
  {
   "cell_type": "code",
   "execution_count": 166,
   "id": "c6b79ba0",
   "metadata": {},
   "outputs": [
    {
     "data": {
      "text/plain": [
       "1"
      ]
     },
     "execution_count": 166,
     "metadata": {},
     "output_type": "execute_result"
    }
   ],
   "source": [
    "s.iloc[0]"
   ]
  },
  {
   "cell_type": "code",
   "execution_count": 169,
   "id": "520b9b56",
   "metadata": {},
   "outputs": [
    {
     "name": "stdout",
     "output_type": "stream",
     "text": [
      "1 True\n",
      "2 False\n",
      "3 True\n",
      "4 False\n",
      "5 True\n",
      "6 False\n",
      "7 True\n",
      "8 False\n",
      "9 True\n",
      "10 False\n",
      "11 True\n",
      "12 False\n",
      "13 True\n",
      "14 False\n",
      "15 True\n",
      "16 False\n",
      "17 True\n",
      "18 False\n",
      "19 True\n",
      "20 False\n",
      "21 True\n",
      "22 False\n",
      "23 True\n",
      "24 False\n",
      "25 True\n",
      "26 False\n"
     ]
    }
   ],
   "source": [
    "boolean_masks = [True if i%2==0 else False for i in range(0,26) ]\n",
    "for i,j in enumerate(boolean_masks):\n",
    "    print(i+1,j)"
   ]
  },
  {
   "cell_type": "code",
   "execution_count": 170,
   "id": "5d22c39a",
   "metadata": {},
   "outputs": [
    {
     "data": {
      "text/plain": [
       "Label_a     1\n",
       "Label_c     3\n",
       "Label_e     5\n",
       "Label_g     7\n",
       "Label_i     9\n",
       "Label_k    11\n",
       "Label_m    13\n",
       "Label_o    15\n",
       "Label_q    17\n",
       "Label_s    19\n",
       "Label_u    21\n",
       "Label_w    23\n",
       "Label_y    25\n",
       "Name: alphabets and index, dtype: int64"
      ]
     },
     "execution_count": 170,
     "metadata": {},
     "output_type": "execute_result"
    }
   ],
   "source": [
    "series[boolean_masks]"
   ]
  },
  {
   "cell_type": "code",
   "execution_count": 171,
   "id": "7a3df00b",
   "metadata": {},
   "outputs": [
    {
     "data": {
      "text/html": [
       "<div>\n",
       "<style scoped>\n",
       "    .dataframe tbody tr th:only-of-type {\n",
       "        vertical-align: middle;\n",
       "    }\n",
       "\n",
       "    .dataframe tbody tr th {\n",
       "        vertical-align: top;\n",
       "    }\n",
       "\n",
       "    .dataframe thead th {\n",
       "        text-align: right;\n",
       "    }\n",
       "</style>\n",
       "<table border=\"1\" class=\"dataframe\">\n",
       "  <thead>\n",
       "    <tr style=\"text-align: right;\">\n",
       "      <th></th>\n",
       "      <th>show_id</th>\n",
       "      <th>type</th>\n",
       "      <th>title</th>\n",
       "      <th>director</th>\n",
       "      <th>cast</th>\n",
       "      <th>country</th>\n",
       "      <th>date_added</th>\n",
       "      <th>release_year</th>\n",
       "      <th>rating</th>\n",
       "      <th>duration</th>\n",
       "      <th>listed_in</th>\n",
       "      <th>description</th>\n",
       "    </tr>\n",
       "  </thead>\n",
       "  <tbody>\n",
       "    <tr>\n",
       "      <th>0</th>\n",
       "      <td>s3</td>\n",
       "      <td>Movie</td>\n",
       "      <td>Ice Age: A Mammoth Christmas</td>\n",
       "      <td>Karen Disher</td>\n",
       "      <td>Raymond Albert Romano, John Leguizamo, Denis L...</td>\n",
       "      <td>United States</td>\n",
       "      <td>November 26, 2021</td>\n",
       "      <td>2011</td>\n",
       "      <td>TV-G</td>\n",
       "      <td>23 min</td>\n",
       "      <td>Animation, Comedy, Family</td>\n",
       "      <td>Sid the Sloth is on Santa's naughty list.</td>\n",
       "    </tr>\n",
       "    <tr>\n",
       "      <th>1</th>\n",
       "      <td>s6</td>\n",
       "      <td>Movie</td>\n",
       "      <td>Becoming Cousteau</td>\n",
       "      <td>Liz Garbus</td>\n",
       "      <td>Jacques Yves Cousteau, Vincent Cassel</td>\n",
       "      <td>United States</td>\n",
       "      <td>November 24, 2021</td>\n",
       "      <td>2021</td>\n",
       "      <td>PG-13</td>\n",
       "      <td>94 min</td>\n",
       "      <td>Biographical, Documentary</td>\n",
       "      <td>An inside look at the legendary life of advent...</td>\n",
       "    </tr>\n",
       "    <tr>\n",
       "      <th>2</th>\n",
       "      <td>s8</td>\n",
       "      <td>TV Show</td>\n",
       "      <td>Port Protection Alaska</td>\n",
       "      <td>NaN</td>\n",
       "      <td>Gary Muehlberger, Mary Miller, Curly Leach, Sa...</td>\n",
       "      <td>United States</td>\n",
       "      <td>November 24, 2021</td>\n",
       "      <td>2015</td>\n",
       "      <td>TV-14</td>\n",
       "      <td>2 Seasons</td>\n",
       "      <td>Docuseries, Reality, Survival</td>\n",
       "      <td>Residents of Port Protection must combat volat...</td>\n",
       "    </tr>\n",
       "    <tr>\n",
       "      <th>3</th>\n",
       "      <td>s9</td>\n",
       "      <td>TV Show</td>\n",
       "      <td>Secrets of the Zoo: Tampa</td>\n",
       "      <td>NaN</td>\n",
       "      <td>Dr. Ray Ball, Dr. Lauren Smith, Chris Massaro,...</td>\n",
       "      <td>United States</td>\n",
       "      <td>November 24, 2021</td>\n",
       "      <td>2019</td>\n",
       "      <td>TV-PG</td>\n",
       "      <td>2 Seasons</td>\n",
       "      <td>Animals &amp; Nature, Docuseries, Family</td>\n",
       "      <td>A day in the life at ZooTampa is anything but ...</td>\n",
       "    </tr>\n",
       "    <tr>\n",
       "      <th>4</th>\n",
       "      <td>s10</td>\n",
       "      <td>Movie</td>\n",
       "      <td>A Muppets Christmas: Letters To Santa</td>\n",
       "      <td>Kirk R. Thatcher</td>\n",
       "      <td>Steve Whitmire, Dave Goelz, Bill Barretta, Eri...</td>\n",
       "      <td>United States</td>\n",
       "      <td>November 19, 2021</td>\n",
       "      <td>2008</td>\n",
       "      <td>G</td>\n",
       "      <td>45 min</td>\n",
       "      <td>Comedy, Family, Musical</td>\n",
       "      <td>Celebrate the holiday season with all your fav...</td>\n",
       "    </tr>\n",
       "    <tr>\n",
       "      <th>...</th>\n",
       "      <td>...</td>\n",
       "      <td>...</td>\n",
       "      <td>...</td>\n",
       "      <td>...</td>\n",
       "      <td>...</td>\n",
       "      <td>...</td>\n",
       "      <td>...</td>\n",
       "      <td>...</td>\n",
       "      <td>...</td>\n",
       "      <td>...</td>\n",
       "      <td>...</td>\n",
       "      <td>...</td>\n",
       "    </tr>\n",
       "    <tr>\n",
       "      <th>1226</th>\n",
       "      <td>s1446</td>\n",
       "      <td>Movie</td>\n",
       "      <td>X-Men Origins: Wolverine</td>\n",
       "      <td>Gavin Hood</td>\n",
       "      <td>Hugh Jackman, Liev Schreiber, Danny Huston, wi...</td>\n",
       "      <td>United States, United Kingdom</td>\n",
       "      <td>June 4, 2021</td>\n",
       "      <td>2009</td>\n",
       "      <td>PG-13</td>\n",
       "      <td>108 min</td>\n",
       "      <td>Action-Adventure, Family, Science Fiction</td>\n",
       "      <td>Wolverine unites with legendary X-Men to fight...</td>\n",
       "    </tr>\n",
       "    <tr>\n",
       "      <th>1227</th>\n",
       "      <td>s1447</td>\n",
       "      <td>Movie</td>\n",
       "      <td>Night at the Museum: Battle of the Smithsonian</td>\n",
       "      <td>Shawn Levy</td>\n",
       "      <td>Ben Stiller, Amy Adams, Owen Wilson, Hank Azar...</td>\n",
       "      <td>United States, Canada</td>\n",
       "      <td>April 2, 2021</td>\n",
       "      <td>2009</td>\n",
       "      <td>PG</td>\n",
       "      <td>106 min</td>\n",
       "      <td>Action-Adventure, Comedy, Family</td>\n",
       "      <td>Larry Daley returns to rescue some old friends...</td>\n",
       "    </tr>\n",
       "    <tr>\n",
       "      <th>1228</th>\n",
       "      <td>s1448</td>\n",
       "      <td>Movie</td>\n",
       "      <td>Eddie the Eagle</td>\n",
       "      <td>Dexter Fletcher</td>\n",
       "      <td>Tom Costello, Jo Hartley, Keith Allen, Dickon ...</td>\n",
       "      <td>United Kingdom, Germany, United States</td>\n",
       "      <td>December 18, 2020</td>\n",
       "      <td>2016</td>\n",
       "      <td>PG-13</td>\n",
       "      <td>107 min</td>\n",
       "      <td>Biographical, Comedy, Drama</td>\n",
       "      <td>True story of Eddie Edwards, a British ski-jum...</td>\n",
       "    </tr>\n",
       "    <tr>\n",
       "      <th>1229</th>\n",
       "      <td>s1449</td>\n",
       "      <td>Movie</td>\n",
       "      <td>Bend It Like Beckham</td>\n",
       "      <td>Gurinder Chadha</td>\n",
       "      <td>Parminder Nagra, Keira Knightley, Jonathan Rhy...</td>\n",
       "      <td>United Kingdom, Germany, United States</td>\n",
       "      <td>September 18, 2020</td>\n",
       "      <td>2003</td>\n",
       "      <td>PG-13</td>\n",
       "      <td>112 min</td>\n",
       "      <td>Buddy, Comedy, Coming of Age</td>\n",
       "      <td>Despite the wishes of their traditional famili...</td>\n",
       "    </tr>\n",
       "    <tr>\n",
       "      <th>1230</th>\n",
       "      <td>s1450</td>\n",
       "      <td>Movie</td>\n",
       "      <td>Captain Sparky vs. The Flying Saucers</td>\n",
       "      <td>Mark Waring</td>\n",
       "      <td>Charlie Tahan</td>\n",
       "      <td>United States</td>\n",
       "      <td>April 1, 2020</td>\n",
       "      <td>2012</td>\n",
       "      <td>TV-G</td>\n",
       "      <td>2 min</td>\n",
       "      <td>Action-Adventure, Animals &amp; Nature, Animation</td>\n",
       "      <td>View one of Sparky's favorite home movies.</td>\n",
       "    </tr>\n",
       "  </tbody>\n",
       "</table>\n",
       "<p>1231 rows × 12 columns</p>\n",
       "</div>"
      ],
      "text/plain": [
       "     show_id     type                                           title  \\\n",
       "0         s3    Movie                    Ice Age: A Mammoth Christmas   \n",
       "1         s6    Movie                               Becoming Cousteau   \n",
       "2         s8  TV Show                          Port Protection Alaska   \n",
       "3         s9  TV Show                       Secrets of the Zoo: Tampa   \n",
       "4        s10    Movie           A Muppets Christmas: Letters To Santa   \n",
       "...      ...      ...                                             ...   \n",
       "1226   s1446    Movie                        X-Men Origins: Wolverine   \n",
       "1227   s1447    Movie  Night at the Museum: Battle of the Smithsonian   \n",
       "1228   s1448    Movie                                 Eddie the Eagle   \n",
       "1229   s1449    Movie                            Bend It Like Beckham   \n",
       "1230   s1450    Movie           Captain Sparky vs. The Flying Saucers   \n",
       "\n",
       "              director                                               cast  \\\n",
       "0         Karen Disher  Raymond Albert Romano, John Leguizamo, Denis L...   \n",
       "1           Liz Garbus              Jacques Yves Cousteau, Vincent Cassel   \n",
       "2                  NaN  Gary Muehlberger, Mary Miller, Curly Leach, Sa...   \n",
       "3                  NaN  Dr. Ray Ball, Dr. Lauren Smith, Chris Massaro,...   \n",
       "4     Kirk R. Thatcher  Steve Whitmire, Dave Goelz, Bill Barretta, Eri...   \n",
       "...                ...                                                ...   \n",
       "1226        Gavin Hood  Hugh Jackman, Liev Schreiber, Danny Huston, wi...   \n",
       "1227        Shawn Levy  Ben Stiller, Amy Adams, Owen Wilson, Hank Azar...   \n",
       "1228   Dexter Fletcher  Tom Costello, Jo Hartley, Keith Allen, Dickon ...   \n",
       "1229   Gurinder Chadha  Parminder Nagra, Keira Knightley, Jonathan Rhy...   \n",
       "1230       Mark Waring                                      Charlie Tahan   \n",
       "\n",
       "                                     country          date_added  \\\n",
       "0                              United States   November 26, 2021   \n",
       "1                              United States   November 24, 2021   \n",
       "2                              United States   November 24, 2021   \n",
       "3                              United States   November 24, 2021   \n",
       "4                              United States   November 19, 2021   \n",
       "...                                      ...                 ...   \n",
       "1226           United States, United Kingdom        June 4, 2021   \n",
       "1227                   United States, Canada       April 2, 2021   \n",
       "1228  United Kingdom, Germany, United States   December 18, 2020   \n",
       "1229  United Kingdom, Germany, United States  September 18, 2020   \n",
       "1230                           United States       April 1, 2020   \n",
       "\n",
       "      release_year rating   duration  \\\n",
       "0             2011   TV-G     23 min   \n",
       "1             2021  PG-13     94 min   \n",
       "2             2015  TV-14  2 Seasons   \n",
       "3             2019  TV-PG  2 Seasons   \n",
       "4             2008      G     45 min   \n",
       "...            ...    ...        ...   \n",
       "1226          2009  PG-13    108 min   \n",
       "1227          2009     PG    106 min   \n",
       "1228          2016  PG-13    107 min   \n",
       "1229          2003  PG-13    112 min   \n",
       "1230          2012   TV-G      2 min   \n",
       "\n",
       "                                          listed_in  \\\n",
       "0                         Animation, Comedy, Family   \n",
       "1                         Biographical, Documentary   \n",
       "2                     Docuseries, Reality, Survival   \n",
       "3              Animals & Nature, Docuseries, Family   \n",
       "4                           Comedy, Family, Musical   \n",
       "...                                             ...   \n",
       "1226      Action-Adventure, Family, Science Fiction   \n",
       "1227               Action-Adventure, Comedy, Family   \n",
       "1228                    Biographical, Comedy, Drama   \n",
       "1229                   Buddy, Comedy, Coming of Age   \n",
       "1230  Action-Adventure, Animals & Nature, Animation   \n",
       "\n",
       "                                            description  \n",
       "0             Sid the Sloth is on Santa's naughty list.  \n",
       "1     An inside look at the legendary life of advent...  \n",
       "2     Residents of Port Protection must combat volat...  \n",
       "3     A day in the life at ZooTampa is anything but ...  \n",
       "4     Celebrate the holiday season with all your fav...  \n",
       "...                                                 ...  \n",
       "1226  Wolverine unites with legendary X-Men to fight...  \n",
       "1227  Larry Daley returns to rescue some old friends...  \n",
       "1228  True story of Eddie Edwards, a British ski-jum...  \n",
       "1229  Despite the wishes of their traditional famili...  \n",
       "1230         View one of Sparky's favorite home movies.  \n",
       "\n",
       "[1231 rows x 12 columns]"
      ]
     },
     "execution_count": 171,
     "metadata": {},
     "output_type": "execute_result"
    }
   ],
   "source": [
    "series=pd.read_csv(r\"C:\\Users\\kalya\\OneDrive\\Desktop\\Data Workshop\\disney_plus_titles.csv\")\n",
    "series"
   ]
  },
  {
   "cell_type": "code",
   "execution_count": 172,
   "id": "8d984333",
   "metadata": {},
   "outputs": [
    {
     "data": {
      "text/plain": [
       "pandas.core.frame.DataFrame"
      ]
     },
     "execution_count": 172,
     "metadata": {},
     "output_type": "execute_result"
    }
   ],
   "source": [
    "type(series)"
   ]
  },
  {
   "cell_type": "code",
   "execution_count": null,
   "id": "f47f947c",
   "metadata": {},
   "outputs": [],
   "source": [
    "# >>>>>>>>>>> USECOLS PARAMETER <<<<<<<"
   ]
  },
  {
   "cell_type": "code",
   "execution_count": 174,
   "id": "6b67d8c5",
   "metadata": {},
   "outputs": [
    {
     "data": {
      "text/html": [
       "<div>\n",
       "<style scoped>\n",
       "    .dataframe tbody tr th:only-of-type {\n",
       "        vertical-align: middle;\n",
       "    }\n",
       "\n",
       "    .dataframe tbody tr th {\n",
       "        vertical-align: top;\n",
       "    }\n",
       "\n",
       "    .dataframe thead th {\n",
       "        text-align: right;\n",
       "    }\n",
       "</style>\n",
       "<table border=\"1\" class=\"dataframe\">\n",
       "  <thead>\n",
       "    <tr style=\"text-align: right;\">\n",
       "      <th></th>\n",
       "      <th>director</th>\n",
       "      <th>rating</th>\n",
       "    </tr>\n",
       "  </thead>\n",
       "  <tbody>\n",
       "    <tr>\n",
       "      <th>0</th>\n",
       "      <td>Karen Disher</td>\n",
       "      <td>TV-G</td>\n",
       "    </tr>\n",
       "    <tr>\n",
       "      <th>1</th>\n",
       "      <td>Liz Garbus</td>\n",
       "      <td>PG-13</td>\n",
       "    </tr>\n",
       "    <tr>\n",
       "      <th>2</th>\n",
       "      <td>NaN</td>\n",
       "      <td>TV-14</td>\n",
       "    </tr>\n",
       "    <tr>\n",
       "      <th>3</th>\n",
       "      <td>NaN</td>\n",
       "      <td>TV-PG</td>\n",
       "    </tr>\n",
       "    <tr>\n",
       "      <th>4</th>\n",
       "      <td>Kirk R. Thatcher</td>\n",
       "      <td>G</td>\n",
       "    </tr>\n",
       "    <tr>\n",
       "      <th>...</th>\n",
       "      <td>...</td>\n",
       "      <td>...</td>\n",
       "    </tr>\n",
       "    <tr>\n",
       "      <th>1226</th>\n",
       "      <td>Gavin Hood</td>\n",
       "      <td>PG-13</td>\n",
       "    </tr>\n",
       "    <tr>\n",
       "      <th>1227</th>\n",
       "      <td>Shawn Levy</td>\n",
       "      <td>PG</td>\n",
       "    </tr>\n",
       "    <tr>\n",
       "      <th>1228</th>\n",
       "      <td>Dexter Fletcher</td>\n",
       "      <td>PG-13</td>\n",
       "    </tr>\n",
       "    <tr>\n",
       "      <th>1229</th>\n",
       "      <td>Gurinder Chadha</td>\n",
       "      <td>PG-13</td>\n",
       "    </tr>\n",
       "    <tr>\n",
       "      <th>1230</th>\n",
       "      <td>Mark Waring</td>\n",
       "      <td>TV-G</td>\n",
       "    </tr>\n",
       "  </tbody>\n",
       "</table>\n",
       "<p>1231 rows × 2 columns</p>\n",
       "</div>"
      ],
      "text/plain": [
       "              director rating\n",
       "0         Karen Disher   TV-G\n",
       "1           Liz Garbus  PG-13\n",
       "2                  NaN  TV-14\n",
       "3                  NaN  TV-PG\n",
       "4     Kirk R. Thatcher      G\n",
       "...                ...    ...\n",
       "1226        Gavin Hood  PG-13\n",
       "1227        Shawn Levy     PG\n",
       "1228   Dexter Fletcher  PG-13\n",
       "1229   Gurinder Chadha  PG-13\n",
       "1230       Mark Waring   TV-G\n",
       "\n",
       "[1231 rows x 2 columns]"
      ]
     },
     "execution_count": 174,
     "metadata": {},
     "output_type": "execute_result"
    }
   ],
   "source": [
    "series=pd.read_csv(r\"C:\\Users\\kalya\\OneDrive\\Desktop\\Data Workshop\\disney_plus_titles.csv\",usecols=['director','rating'])\n",
    "series"
   ]
  },
  {
   "cell_type": "code",
   "execution_count": null,
   "id": "5ce87f08",
   "metadata": {},
   "outputs": [],
   "source": [
    "# >>>>>> INDEX PARAMETER <<<<<<<"
   ]
  },
  {
   "cell_type": "code",
   "execution_count": 178,
   "id": "a45b387f",
   "metadata": {},
   "outputs": [
    {
     "data": {
      "text/html": [
       "<div>\n",
       "<style scoped>\n",
       "    .dataframe tbody tr th:only-of-type {\n",
       "        vertical-align: middle;\n",
       "    }\n",
       "\n",
       "    .dataframe tbody tr th {\n",
       "        vertical-align: top;\n",
       "    }\n",
       "\n",
       "    .dataframe thead th {\n",
       "        text-align: right;\n",
       "    }\n",
       "</style>\n",
       "<table border=\"1\" class=\"dataframe\">\n",
       "  <thead>\n",
       "    <tr style=\"text-align: right;\">\n",
       "      <th></th>\n",
       "      <th>rating</th>\n",
       "    </tr>\n",
       "    <tr>\n",
       "      <th>director</th>\n",
       "      <th></th>\n",
       "    </tr>\n",
       "  </thead>\n",
       "  <tbody>\n",
       "    <tr>\n",
       "      <th>Karen Disher</th>\n",
       "      <td>TV-G</td>\n",
       "    </tr>\n",
       "    <tr>\n",
       "      <th>Liz Garbus</th>\n",
       "      <td>PG-13</td>\n",
       "    </tr>\n",
       "    <tr>\n",
       "      <th>NaN</th>\n",
       "      <td>TV-14</td>\n",
       "    </tr>\n",
       "    <tr>\n",
       "      <th>NaN</th>\n",
       "      <td>TV-PG</td>\n",
       "    </tr>\n",
       "    <tr>\n",
       "      <th>Kirk R. Thatcher</th>\n",
       "      <td>G</td>\n",
       "    </tr>\n",
       "    <tr>\n",
       "      <th>...</th>\n",
       "      <td>...</td>\n",
       "    </tr>\n",
       "    <tr>\n",
       "      <th>Gavin Hood</th>\n",
       "      <td>PG-13</td>\n",
       "    </tr>\n",
       "    <tr>\n",
       "      <th>Shawn Levy</th>\n",
       "      <td>PG</td>\n",
       "    </tr>\n",
       "    <tr>\n",
       "      <th>Dexter Fletcher</th>\n",
       "      <td>PG-13</td>\n",
       "    </tr>\n",
       "    <tr>\n",
       "      <th>Gurinder Chadha</th>\n",
       "      <td>PG-13</td>\n",
       "    </tr>\n",
       "    <tr>\n",
       "      <th>Mark Waring</th>\n",
       "      <td>TV-G</td>\n",
       "    </tr>\n",
       "  </tbody>\n",
       "</table>\n",
       "<p>1231 rows × 1 columns</p>\n",
       "</div>"
      ],
      "text/plain": [
       "                 rating\n",
       "director               \n",
       "Karen Disher       TV-G\n",
       "Liz Garbus        PG-13\n",
       "NaN               TV-14\n",
       "NaN               TV-PG\n",
       "Kirk R. Thatcher      G\n",
       "...                 ...\n",
       "Gavin Hood        PG-13\n",
       "Shawn Levy           PG\n",
       "Dexter Fletcher   PG-13\n",
       "Gurinder Chadha   PG-13\n",
       "Mark Waring        TV-G\n",
       "\n",
       "[1231 rows x 1 columns]"
      ]
     },
     "execution_count": 178,
     "metadata": {},
     "output_type": "execute_result"
    }
   ],
   "source": [
    "series=pd.read_csv(r\"C:\\Users\\kalya\\OneDrive\\Desktop\\Data Workshop\\disney_plus_titles.csv\",usecols=['director','rating'],index_col='director')\n",
    "series"
   ]
  },
  {
   "cell_type": "code",
   "execution_count": null,
   "id": "2d34071a",
   "metadata": {},
   "outputs": [],
   "source": [
    " # >>>>>> CHECKING WEATHER OBTAINED STRUCTURE IS SERIES OR NOT <<<<<<<<"
   ]
  },
  {
   "cell_type": "code",
   "execution_count": 179,
   "id": "9838650a",
   "metadata": {},
   "outputs": [
    {
     "data": {
      "text/plain": [
       "pandas.core.frame.DataFrame"
      ]
     },
     "execution_count": 179,
     "metadata": {},
     "output_type": "execute_result"
    }
   ],
   "source": [
    "type(series)"
   ]
  },
  {
   "cell_type": "code",
   "execution_count": null,
   "id": "de068ad5",
   "metadata": {},
   "outputs": [],
   "source": [
    "# >>>>>>> SQUEEZ PARAMETER <<<<<<"
   ]
  },
  {
   "cell_type": "code",
   "execution_count": 180,
   "id": "285be4a5",
   "metadata": {},
   "outputs": [
    {
     "name": "stderr",
     "output_type": "stream",
     "text": [
      "C:\\Users\\kalya\\AppData\\Local\\Temp\\ipykernel_124\\3320072953.py:1: FutureWarning: The squeeze argument has been deprecated and will be removed in a future version. Append .squeeze(\"columns\") to the call to squeeze.\n",
      "\n",
      "\n",
      "  series=pd.read_csv(r\"C:\\Users\\kalya\\OneDrive\\Desktop\\Data Workshop\\disney_plus_titles.csv\",usecols=['director','rating'],index_col='director',squeeze=True)\n"
     ]
    },
    {
     "data": {
      "text/plain": [
       "director\n",
       "Karen Disher         TV-G\n",
       "Liz Garbus          PG-13\n",
       "NaN                 TV-14\n",
       "NaN                 TV-PG\n",
       "Kirk R. Thatcher        G\n",
       "                    ...  \n",
       "Gavin Hood          PG-13\n",
       "Shawn Levy             PG\n",
       "Dexter Fletcher     PG-13\n",
       "Gurinder Chadha     PG-13\n",
       "Mark Waring          TV-G\n",
       "Name: rating, Length: 1231, dtype: object"
      ]
     },
     "execution_count": 180,
     "metadata": {},
     "output_type": "execute_result"
    }
   ],
   "source": [
    "series=pd.read_csv(r\"C:\\Users\\kalya\\OneDrive\\Desktop\\Data Workshop\\disney_plus_titles.csv\",usecols=['director','rating'],index_col='director',squeeze=True)\n",
    "series"
   ]
  },
  {
   "cell_type": "code",
   "execution_count": null,
   "id": "df906375",
   "metadata": {},
   "outputs": [],
   "source": [
    "# >>>>>>>>>>> CHANGING NAME OF SERIES <<<<<<<<"
   ]
  },
  {
   "cell_type": "code",
   "execution_count": 181,
   "id": "ecbf563f",
   "metadata": {},
   "outputs": [
    {
     "data": {
      "text/plain": [
       "director\n",
       "Karen Disher         TV-G\n",
       "Liz Garbus          PG-13\n",
       "NaN                 TV-14\n",
       "NaN                 TV-PG\n",
       "Kirk R. Thatcher        G\n",
       "                    ...  \n",
       "Gavin Hood          PG-13\n",
       "Shawn Levy             PG\n",
       "Dexter Fletcher     PG-13\n",
       "Gurinder Chadha     PG-13\n",
       "Mark Waring          TV-G\n",
       "Name: FAMOUS MOVIES ON IMDB, Length: 1231, dtype: object"
      ]
     },
     "execution_count": 181,
     "metadata": {},
     "output_type": "execute_result"
    }
   ],
   "source": [
    "series.name='FAMOUS MOVIES ON IMDB'\n",
    "series"
   ]
  },
  {
   "cell_type": "code",
   "execution_count": 182,
   "id": "f5276a64",
   "metadata": {},
   "outputs": [
    {
     "data": {
      "text/plain": [
       "'FAMOUS MOVIES ON IMDB'"
      ]
     },
     "execution_count": 182,
     "metadata": {},
     "output_type": "execute_result"
    }
   ],
   "source": [
    "series.name"
   ]
  },
  {
   "cell_type": "code",
   "execution_count": 185,
   "id": "1d1fb6c2",
   "metadata": {},
   "outputs": [
    {
     "data": {
      "text/plain": [
       "'PG-13'"
      ]
     },
     "execution_count": 185,
     "metadata": {},
     "output_type": "execute_result"
    }
   ],
   "source": [
    "series.iloc[1]"
   ]
  },
  {
   "cell_type": "code",
   "execution_count": null,
   "id": "9d345678",
   "metadata": {},
   "outputs": [],
   "source": [
    "# >>>>>>>>> SLICING <<<<<<<"
   ]
  },
  {
   "cell_type": "code",
   "execution_count": 186,
   "id": "ba407c52",
   "metadata": {},
   "outputs": [
    {
     "data": {
      "text/plain": [
       "director\n",
       "Karen Disher     TV-G\n",
       "Liz Garbus      PG-13\n",
       "NaN             TV-14\n",
       "NaN             TV-PG\n",
       "Name: FAMOUS MOVIES ON IMDB, dtype: object"
      ]
     },
     "execution_count": 186,
     "metadata": {},
     "output_type": "execute_result"
    }
   ],
   "source": [
    "series.iloc[0:4]"
   ]
  },
  {
   "cell_type": "code",
   "execution_count": 187,
   "id": "d86cb3da",
   "metadata": {},
   "outputs": [
    {
     "data": {
      "text/plain": [
       "'PG-13'"
      ]
     },
     "execution_count": 187,
     "metadata": {},
     "output_type": "execute_result"
    }
   ],
   "source": [
    "series.get(1)"
   ]
  },
  {
   "cell_type": "code",
   "execution_count": null,
   "id": "5dacee7c",
   "metadata": {},
   "outputs": [],
   "source": [
    "# >>>>>>>> CHECK WHETHER SERIES UNIQUE OR NOT <<<<<<<<<<"
   ]
  },
  {
   "cell_type": "code",
   "execution_count": 188,
   "id": "5ec02add",
   "metadata": {},
   "outputs": [
    {
     "data": {
      "text/plain": [
       "False"
      ]
     },
     "execution_count": 188,
     "metadata": {},
     "output_type": "execute_result"
    }
   ],
   "source": [
    "series.is_unique"
   ]
  },
  {
   "cell_type": "code",
   "execution_count": null,
   "id": "dbc06781",
   "metadata": {},
   "outputs": [],
   "source": [
    "# >>>>>>ACCESS UNUNIQUE VALUES IN SERIES <<<<<<<<<<<"
   ]
  },
  {
   "cell_type": "code",
   "execution_count": 189,
   "id": "672cb98a",
   "metadata": {},
   "outputs": [
    {
     "data": {
      "text/plain": [
       "<bound method IndexOpsMixin.nunique of director\n",
       "Karen Disher         TV-G\n",
       "Liz Garbus          PG-13\n",
       "NaN                 TV-14\n",
       "NaN                 TV-PG\n",
       "Kirk R. Thatcher        G\n",
       "                    ...  \n",
       "Gavin Hood          PG-13\n",
       "Shawn Levy             PG\n",
       "Dexter Fletcher     PG-13\n",
       "Gurinder Chadha     PG-13\n",
       "Mark Waring          TV-G\n",
       "Name: FAMOUS MOVIES ON IMDB, Length: 1231, dtype: object>"
      ]
     },
     "execution_count": 189,
     "metadata": {},
     "output_type": "execute_result"
    }
   ],
   "source": [
    "series.nunique"
   ]
  },
  {
   "cell_type": "code",
   "execution_count": 190,
   "id": "caccc768",
   "metadata": {},
   "outputs": [
    {
     "data": {
      "text/plain": [
       "director\n",
       "Karen Disher         TV-G\n",
       "Liz Garbus          PG-13\n",
       "NaN                 TV-14\n",
       "NaN                 TV-PG\n",
       "Kirk R. Thatcher        G\n",
       "Name: FAMOUS MOVIES ON IMDB, dtype: object"
      ]
     },
     "execution_count": 190,
     "metadata": {},
     "output_type": "execute_result"
    }
   ],
   "source": [
    "series.head() "
   ]
  },
  {
   "cell_type": "code",
   "execution_count": 191,
   "id": "d401de29",
   "metadata": {},
   "outputs": [
    {
     "data": {
      "text/plain": [
       "director\n",
       "Karen Disher                 TV-G\n",
       "Liz Garbus                  PG-13\n",
       "NaN                         TV-14\n",
       "NaN                         TV-PG\n",
       "Kirk R. Thatcher                G\n",
       "Leslie Iwerks                   G\n",
       "NaN                         TV-PG\n",
       "NaN                         TV-PG\n",
       "Kevin Lima                     PG\n",
       "Patrick Osborne                 G\n",
       "Chris Buck, Jennifer Lee        G\n",
       "Lauren MacMullan                G\n",
       "Name: FAMOUS MOVIES ON IMDB, dtype: object"
      ]
     },
     "execution_count": 191,
     "metadata": {},
     "output_type": "execute_result"
    }
   ],
   "source": [
    "series.head(n=12)"
   ]
  },
  {
   "cell_type": "code",
   "execution_count": 192,
   "id": "7e214161",
   "metadata": {},
   "outputs": [
    {
     "data": {
      "text/plain": [
       "director\n",
       "Gavin Hood         PG-13\n",
       "Shawn Levy            PG\n",
       "Dexter Fletcher    PG-13\n",
       "Gurinder Chadha    PG-13\n",
       "Mark Waring         TV-G\n",
       "Name: FAMOUS MOVIES ON IMDB, dtype: object"
      ]
     },
     "execution_count": 192,
     "metadata": {},
     "output_type": "execute_result"
    }
   ],
   "source": [
    "series.tail()"
   ]
  },
  {
   "cell_type": "code",
   "execution_count": 193,
   "id": "f330e8fb",
   "metadata": {},
   "outputs": [
    {
     "data": {
      "text/plain": [
       "False"
      ]
     },
     "execution_count": 193,
     "metadata": {},
     "output_type": "execute_result"
    }
   ],
   "source": [
    "series.hasnans"
   ]
  },
  {
   "cell_type": "code",
   "execution_count": 195,
   "id": "14dcd4ae",
   "metadata": {},
   "outputs": [
    {
     "data": {
      "text/plain": [
       "1231"
      ]
     },
     "execution_count": 195,
     "metadata": {},
     "output_type": "execute_result"
    }
   ],
   "source": [
    "series.count()"
   ]
  },
  {
   "cell_type": "code",
   "execution_count": null,
   "id": "1e3c9abb",
   "metadata": {},
   "outputs": [],
   "source": [
    "# >>>>>>> NAME OF NOT NULL COLUMNS <<<<<<<"
   ]
  },
  {
   "cell_type": "code",
   "execution_count": 196,
   "id": "da467f43",
   "metadata": {},
   "outputs": [
    {
     "data": {
      "text/plain": [
       "director\n",
       "Karen Disher         TV-G\n",
       "Liz Garbus          PG-13\n",
       "NaN                 TV-14\n",
       "NaN                 TV-PG\n",
       "Kirk R. Thatcher        G\n",
       "                    ...  \n",
       "Gavin Hood          PG-13\n",
       "Shawn Levy             PG\n",
       "Dexter Fletcher     PG-13\n",
       "Gurinder Chadha     PG-13\n",
       "Mark Waring          TV-G\n",
       "Name: FAMOUS MOVIES ON IMDB, Length: 1231, dtype: object"
      ]
     },
     "execution_count": 196,
     "metadata": {},
     "output_type": "execute_result"
    }
   ],
   "source": [
    "series[series.notnull()]"
   ]
  },
  {
   "cell_type": "code",
   "execution_count": null,
   "id": "2fd6892f",
   "metadata": {},
   "outputs": [],
   "source": [
    "# >>>>>>>> NAME OF COLUMNS HAVING NULL VALUES <<<<<<<<<<"
   ]
  },
  {
   "cell_type": "code",
   "execution_count": 197,
   "id": "160f2868",
   "metadata": {},
   "outputs": [
    {
     "data": {
      "text/plain": [
       "Series([], Name: FAMOUS MOVIES ON IMDB, dtype: object)"
      ]
     },
     "execution_count": 197,
     "metadata": {},
     "output_type": "execute_result"
    }
   ],
   "source": [
    "series[series.isnull()]"
   ]
  },
  {
   "cell_type": "code",
   "execution_count": 198,
   "id": "2c1aae3e",
   "metadata": {},
   "outputs": [
    {
     "name": "stdout",
     "output_type": "stream",
     "text": [
      "1231\n",
      "0\n",
      "1231\n"
     ]
    }
   ],
   "source": [
    "print(series[series.notnull()].size)\n",
    "print(series[series.isnull()].size)\n",
    "print(series.size)"
   ]
  },
  {
   "cell_type": "code",
   "execution_count": null,
   "id": "d92b985b",
   "metadata": {},
   "outputs": [],
   "source": [
    "# >>>>>>>>>> FIND THE NUMBER OF NANS IN COLUMNS <<<<<<<<"
   ]
  },
  {
   "cell_type": "code",
   "execution_count": 199,
   "id": "0208c0d8",
   "metadata": {},
   "outputs": [
    {
     "data": {
      "text/plain": [
       "0"
      ]
     },
     "execution_count": 199,
     "metadata": {},
     "output_type": "execute_result"
    }
   ],
   "source": [
    "series.isnull().sum()"
   ]
  },
  {
   "cell_type": "code",
   "execution_count": null,
   "id": "5f96a5f8",
   "metadata": {},
   "outputs": [],
   "source": [
    "# >>>>>>>>  DROP ALL THE VALUES OF SERIES AND RETURN THE COPY OF SERIES <<<<<<<<<<<\n"
   ]
  },
  {
   "cell_type": "code",
   "execution_count": 200,
   "id": "081153d5",
   "metadata": {},
   "outputs": [
    {
     "data": {
      "text/plain": [
       "director\n",
       "Karen Disher         TV-G\n",
       "Liz Garbus          PG-13\n",
       "NaN                 TV-14\n",
       "NaN                 TV-PG\n",
       "Kirk R. Thatcher        G\n",
       "                    ...  \n",
       "Gavin Hood          PG-13\n",
       "Shawn Levy             PG\n",
       "Dexter Fletcher     PG-13\n",
       "Gurinder Chadha     PG-13\n",
       "Mark Waring          TV-G\n",
       "Name: FAMOUS MOVIES ON IMDB, Length: 1231, dtype: object"
      ]
     },
     "execution_count": 200,
     "metadata": {},
     "output_type": "execute_result"
    }
   ],
   "source": [
    "series.dropna()"
   ]
  },
  {
   "cell_type": "code",
   "execution_count": 201,
   "id": "3787039d",
   "metadata": {},
   "outputs": [
    {
     "data": {
      "text/plain": [
       "director\n",
       "Karen Disher         TV-G\n",
       "Liz Garbus          PG-13\n",
       "NaN                 TV-14\n",
       "NaN                 TV-PG\n",
       "Kirk R. Thatcher        G\n",
       "                    ...  \n",
       "Gavin Hood          PG-13\n",
       "Shawn Levy             PG\n",
       "Dexter Fletcher     PG-13\n",
       "Gurinder Chadha     PG-13\n",
       "Mark Waring          TV-G\n",
       "Name: FAMOUS MOVIES ON IMDB, Length: 1231, dtype: object"
      ]
     },
     "execution_count": 201,
     "metadata": {},
     "output_type": "execute_result"
    }
   ],
   "source": [
    "series"
   ]
  },
  {
   "cell_type": "code",
   "execution_count": null,
   "id": "869666e6",
   "metadata": {},
   "outputs": [],
   "source": [
    "# >>>>>>>>> DROP THR ALL NULL VALUES <<<<<<<<<"
   ]
  },
  {
   "cell_type": "code",
   "execution_count": 202,
   "id": "719094ce",
   "metadata": {},
   "outputs": [
    {
     "data": {
      "text/plain": [
       "director\n",
       "Karen Disher         TV-G\n",
       "Liz Garbus          PG-13\n",
       "NaN                 TV-14\n",
       "NaN                 TV-PG\n",
       "Kirk R. Thatcher        G\n",
       "                    ...  \n",
       "Gavin Hood          PG-13\n",
       "Shawn Levy             PG\n",
       "Dexter Fletcher     PG-13\n",
       "Gurinder Chadha     PG-13\n",
       "Mark Waring          TV-G\n",
       "Name: FAMOUS MOVIES ON IMDB, Length: 1231, dtype: object"
      ]
     },
     "execution_count": 202,
     "metadata": {},
     "output_type": "execute_result"
    }
   ],
   "source": [
    "series.dropna(inplace=True)\n",
    "series"
   ]
  },
  {
   "cell_type": "code",
   "execution_count": 203,
   "id": "0fd8f922",
   "metadata": {},
   "outputs": [
    {
     "data": {
      "text/plain": [
       "False"
      ]
     },
     "execution_count": 203,
     "metadata": {},
     "output_type": "execute_result"
    }
   ],
   "source": [
    "series.hasnans"
   ]
  },
  {
   "cell_type": "code",
   "execution_count": 205,
   "id": "d7e7bda1",
   "metadata": {},
   "outputs": [
    {
     "data": {
      "text/plain": [
       "count     1231\n",
       "unique       9\n",
       "top       TV-G\n",
       "freq       282\n",
       "Name: FAMOUS MOVIES ON IMDB, dtype: object"
      ]
     },
     "execution_count": 205,
     "metadata": {},
     "output_type": "execute_result"
    }
   ],
   "source": [
    "series.describe()"
   ]
  },
  {
   "cell_type": "code",
   "execution_count": null,
   "id": "990f6d70",
   "metadata": {},
   "outputs": [],
   "source": [
    "# >>>>>> TO COUNT THE OCCURENCES OF VALUES <<<<<< "
   ]
  },
  {
   "cell_type": "code",
   "execution_count": 206,
   "id": "aca6d527",
   "metadata": {},
   "outputs": [
    {
     "data": {
      "text/plain": [
       "TV-G        282\n",
       "G           245\n",
       "PG          229\n",
       "TV-PG       215\n",
       "TV-Y7       109\n",
       "PG-13        66\n",
       "TV-14        45\n",
       "TV-Y         33\n",
       "TV-Y7-FV      7\n",
       "Name: FAMOUS MOVIES ON IMDB, dtype: int64"
      ]
     },
     "execution_count": 206,
     "metadata": {},
     "output_type": "execute_result"
    }
   ],
   "source": [
    "series.value_counts()"
   ]
  },
  {
   "cell_type": "code",
   "execution_count": 207,
   "id": "5999daa5",
   "metadata": {},
   "outputs": [
    {
     "data": {
      "text/plain": [
       "TV-G        282\n",
       "G           245\n",
       "PG          229\n",
       "TV-PG       215\n",
       "TV-Y7       109\n",
       "PG-13        66\n",
       "TV-14        45\n",
       "TV-Y         33\n",
       "TV-Y7-FV      7\n",
       "Name: FAMOUS MOVIES ON IMDB, dtype: int64"
      ]
     },
     "execution_count": 207,
     "metadata": {},
     "output_type": "execute_result"
    }
   ],
   "source": [
    "series.value_counts(sort=True)"
   ]
  },
  {
   "cell_type": "code",
   "execution_count": 208,
   "id": "48130e95",
   "metadata": {},
   "outputs": [
    {
     "data": {
      "text/plain": [
       "TV-G        282\n",
       "PG-13        66\n",
       "TV-14        45\n",
       "TV-PG       215\n",
       "G           245\n",
       "PG          229\n",
       "TV-Y7       109\n",
       "TV-Y         33\n",
       "TV-Y7-FV      7\n",
       "Name: FAMOUS MOVIES ON IMDB, dtype: int64"
      ]
     },
     "execution_count": 208,
     "metadata": {},
     "output_type": "execute_result"
    }
   ],
   "source": [
    "series.value_counts(sort=False,ascending=True)"
   ]
  },
  {
   "cell_type": "code",
   "execution_count": 209,
   "id": "c38daf9b",
   "metadata": {},
   "outputs": [
    {
     "data": {
      "text/plain": [
       "TV-G        282\n",
       "PG-13        66\n",
       "TV-14        45\n",
       "TV-PG       215\n",
       "G           245\n",
       "PG          229\n",
       "TV-Y7       109\n",
       "TV-Y         33\n",
       "TV-Y7-FV      7\n",
       "Name: FAMOUS MOVIES ON IMDB, dtype: int64"
      ]
     },
     "execution_count": 209,
     "metadata": {},
     "output_type": "execute_result"
    }
   ],
   "source": [
    "series.value_counts(sort=False,ascending=True,dropna=False)"
   ]
  },
  {
   "cell_type": "code",
   "execution_count": 210,
   "id": "4ea732bc",
   "metadata": {},
   "outputs": [
    {
     "data": {
      "text/plain": [
       "TV-G        0.229082\n",
       "PG-13       0.053615\n",
       "TV-14       0.036556\n",
       "TV-PG       0.174655\n",
       "G           0.199025\n",
       "PG          0.186028\n",
       "TV-Y7       0.088546\n",
       "TV-Y        0.026807\n",
       "TV-Y7-FV    0.005686\n",
       "Name: FAMOUS MOVIES ON IMDB, dtype: float64"
      ]
     },
     "execution_count": 210,
     "metadata": {},
     "output_type": "execute_result"
    }
   ],
   "source": [
    "series.value_counts(sort=False,ascending=True,dropna=False,normalize=True)"
   ]
  },
  {
   "cell_type": "code",
   "execution_count": 211,
   "id": "385c8ea2",
   "metadata": {},
   "outputs": [
    {
     "data": {
      "text/plain": [
       "TV-G        0.229082\n",
       "PG-13       0.053615\n",
       "TV-14       0.036556\n",
       "TV-PG       0.174655\n",
       "G           0.199025\n",
       "PG          0.186028\n",
       "TV-Y7       0.088546\n",
       "TV-Y        0.026807\n",
       "TV-Y7-FV    0.005686\n",
       "Name: FAMOUS MOVIES ON IMDB, dtype: float64"
      ]
     },
     "execution_count": 211,
     "metadata": {},
     "output_type": "execute_result"
    }
   ],
   "source": [
    "series.value_counts(sort=False)/series.count()"
   ]
  },
  {
   "cell_type": "code",
   "execution_count": null,
   "id": "04c6b96a",
   "metadata": {},
   "outputs": [],
   "source": [
    "# >>>>>>>>> TO GET MAX AND MIN VALUES <<<<<<"
   ]
  },
  {
   "cell_type": "code",
   "execution_count": 212,
   "id": "7ae32d80",
   "metadata": {},
   "outputs": [
    {
     "data": {
      "text/plain": [
       "'TV-Y7-FV'"
      ]
     },
     "execution_count": 212,
     "metadata": {},
     "output_type": "execute_result"
    }
   ],
   "source": [
    "series.max()"
   ]
  },
  {
   "cell_type": "code",
   "execution_count": 213,
   "id": "b6a9a659",
   "metadata": {},
   "outputs": [
    {
     "data": {
      "text/plain": [
       "'G'"
      ]
     },
     "execution_count": 213,
     "metadata": {},
     "output_type": "execute_result"
    }
   ],
   "source": [
    "series.min()"
   ]
  },
  {
   "cell_type": "code",
   "execution_count": 216,
   "id": "3eab72fe",
   "metadata": {},
   "outputs": [],
   "source": [
    "#>>>>>>> GET THE INDEX ASSOCIATED WITH MAX AND MIN WITH INDEX METHOD <<<<<<<<"
   ]
  },
  {
   "cell_type": "code",
   "execution_count": 217,
   "id": "9bbb01c7",
   "metadata": {},
   "outputs": [
    {
     "data": {
      "text/plain": [
       "nan"
      ]
     },
     "execution_count": 217,
     "metadata": {},
     "output_type": "execute_result"
    }
   ],
   "source": [
    "series[series==series.max()].index[0]"
   ]
  },
  {
   "cell_type": "code",
   "execution_count": null,
   "id": "7f503639",
   "metadata": {},
   "outputs": [],
   "source": [
    "# >>>>>>> SORTING SERIES BY VALUE AND INDEX <<<<<<<<<<"
   ]
  },
  {
   "cell_type": "code",
   "execution_count": 221,
   "id": "b4ff905f",
   "metadata": {},
   "outputs": [
    {
     "data": {
      "text/plain": [
       "director\n",
       "Teddy Newton                               G\n",
       "Robert Vince                               G\n",
       "Keith Scholey                              G\n",
       "Keith Scholey                              G\n",
       "Alastair Fothergill, Jeff Wilson           G\n",
       "                                      ...   \n",
       "NaN                                 TV-Y7-FV\n",
       "NaN                                 TV-Y7-FV\n",
       "NaN                                 TV-Y7-FV\n",
       "Thomas Astruc                       TV-Y7-FV\n",
       "Alfred Gimeno                       TV-Y7-FV\n",
       "Name: FAMOUS MOVIES ON IMDB, Length: 1231, dtype: object"
      ]
     },
     "execution_count": 221,
     "metadata": {},
     "output_type": "execute_result"
    }
   ],
   "source": [
    "series.sort_values() "
   ]
  },
  {
   "cell_type": "code",
   "execution_count": 225,
   "id": "88957563",
   "metadata": {},
   "outputs": [],
   "source": [
    "# >>>>>>>>>> TO SORT THE VALUES BY INDEXES <<<<<<<"
   ]
  },
  {
   "cell_type": "code",
   "execution_count": 224,
   "id": "9ad135f9",
   "metadata": {},
   "outputs": [
    {
     "data": {
      "text/plain": [
       "director\n",
       "Aaron Blaise, Robert Walker        G\n",
       "Adam Shankman                     PG\n",
       "Adam Shankman                     PG\n",
       "Adam Shankman                     PG\n",
       "Adam Stein, Zach Lipovsky       TV-G\n",
       "                               ...  \n",
       "NaN                            TV-Y7\n",
       "NaN                             TV-G\n",
       "NaN                            TV-Y7\n",
       "NaN                            TV-Y7\n",
       "NaN                             TV-Y\n",
       "Name: FAMOUS MOVIES ON IMDB, Length: 1231, dtype: object"
      ]
     },
     "execution_count": 224,
     "metadata": {},
     "output_type": "execute_result"
    }
   ],
   "source": [
    "series.sort_index()"
   ]
  },
  {
   "cell_type": "markdown",
   "id": "e22c9670",
   "metadata": {},
   "source": [
    "#  FILLING NULL VALUE TO DATASET ......"
   ]
  },
  {
   "cell_type": "code",
   "execution_count": 231,
   "id": "4cf0f1ff",
   "metadata": {},
   "outputs": [
    {
     "data": {
      "text/html": [
       "<div>\n",
       "<style scoped>\n",
       "    .dataframe tbody tr th:only-of-type {\n",
       "        vertical-align: middle;\n",
       "    }\n",
       "\n",
       "    .dataframe tbody tr th {\n",
       "        vertical-align: top;\n",
       "    }\n",
       "\n",
       "    .dataframe thead th {\n",
       "        text-align: right;\n",
       "    }\n",
       "</style>\n",
       "<table border=\"1\" class=\"dataframe\">\n",
       "  <thead>\n",
       "    <tr style=\"text-align: right;\">\n",
       "      <th></th>\n",
       "      <th>show_id</th>\n",
       "      <th>type</th>\n",
       "      <th>title</th>\n",
       "      <th>director</th>\n",
       "      <th>cast</th>\n",
       "      <th>country</th>\n",
       "      <th>date_added</th>\n",
       "      <th>release_year</th>\n",
       "      <th>rating</th>\n",
       "      <th>duration</th>\n",
       "      <th>listed_in</th>\n",
       "      <th>description</th>\n",
       "    </tr>\n",
       "  </thead>\n",
       "  <tbody>\n",
       "    <tr>\n",
       "      <th>0</th>\n",
       "      <td>s3</td>\n",
       "      <td>Movie</td>\n",
       "      <td>Ice Age: A Mammoth Christmas</td>\n",
       "      <td>Karen Disher</td>\n",
       "      <td>Raymond Albert Romano, John Leguizamo, Denis L...</td>\n",
       "      <td>United States</td>\n",
       "      <td>November 26, 2021</td>\n",
       "      <td>2011</td>\n",
       "      <td>TV-G</td>\n",
       "      <td>23 min</td>\n",
       "      <td>Animation, Comedy, Family</td>\n",
       "      <td>Sid the Sloth is on Santa's naughty list.</td>\n",
       "    </tr>\n",
       "    <tr>\n",
       "      <th>1</th>\n",
       "      <td>s6</td>\n",
       "      <td>Movie</td>\n",
       "      <td>Becoming Cousteau</td>\n",
       "      <td>Liz Garbus</td>\n",
       "      <td>Jacques Yves Cousteau, Vincent Cassel</td>\n",
       "      <td>United States</td>\n",
       "      <td>November 24, 2021</td>\n",
       "      <td>2021</td>\n",
       "      <td>PG-13</td>\n",
       "      <td>94 min</td>\n",
       "      <td>Biographical, Documentary</td>\n",
       "      <td>An inside look at the legendary life of advent...</td>\n",
       "    </tr>\n",
       "    <tr>\n",
       "      <th>2</th>\n",
       "      <td>s8</td>\n",
       "      <td>TV Show</td>\n",
       "      <td>Port Protection Alaska</td>\n",
       "      <td>0</td>\n",
       "      <td>Gary Muehlberger, Mary Miller, Curly Leach, Sa...</td>\n",
       "      <td>United States</td>\n",
       "      <td>November 24, 2021</td>\n",
       "      <td>2015</td>\n",
       "      <td>TV-14</td>\n",
       "      <td>2 Seasons</td>\n",
       "      <td>Docuseries, Reality, Survival</td>\n",
       "      <td>Residents of Port Protection must combat volat...</td>\n",
       "    </tr>\n",
       "    <tr>\n",
       "      <th>3</th>\n",
       "      <td>s9</td>\n",
       "      <td>TV Show</td>\n",
       "      <td>Secrets of the Zoo: Tampa</td>\n",
       "      <td>0</td>\n",
       "      <td>Dr. Ray Ball, Dr. Lauren Smith, Chris Massaro,...</td>\n",
       "      <td>United States</td>\n",
       "      <td>November 24, 2021</td>\n",
       "      <td>2019</td>\n",
       "      <td>TV-PG</td>\n",
       "      <td>2 Seasons</td>\n",
       "      <td>Animals &amp; Nature, Docuseries, Family</td>\n",
       "      <td>A day in the life at ZooTampa is anything but ...</td>\n",
       "    </tr>\n",
       "    <tr>\n",
       "      <th>4</th>\n",
       "      <td>s10</td>\n",
       "      <td>Movie</td>\n",
       "      <td>A Muppets Christmas: Letters To Santa</td>\n",
       "      <td>Kirk R. Thatcher</td>\n",
       "      <td>Steve Whitmire, Dave Goelz, Bill Barretta, Eri...</td>\n",
       "      <td>United States</td>\n",
       "      <td>November 19, 2021</td>\n",
       "      <td>2008</td>\n",
       "      <td>G</td>\n",
       "      <td>45 min</td>\n",
       "      <td>Comedy, Family, Musical</td>\n",
       "      <td>Celebrate the holiday season with all your fav...</td>\n",
       "    </tr>\n",
       "    <tr>\n",
       "      <th>...</th>\n",
       "      <td>...</td>\n",
       "      <td>...</td>\n",
       "      <td>...</td>\n",
       "      <td>...</td>\n",
       "      <td>...</td>\n",
       "      <td>...</td>\n",
       "      <td>...</td>\n",
       "      <td>...</td>\n",
       "      <td>...</td>\n",
       "      <td>...</td>\n",
       "      <td>...</td>\n",
       "      <td>...</td>\n",
       "    </tr>\n",
       "    <tr>\n",
       "      <th>1226</th>\n",
       "      <td>s1446</td>\n",
       "      <td>Movie</td>\n",
       "      <td>X-Men Origins: Wolverine</td>\n",
       "      <td>Gavin Hood</td>\n",
       "      <td>Hugh Jackman, Liev Schreiber, Danny Huston, wi...</td>\n",
       "      <td>United States, United Kingdom</td>\n",
       "      <td>June 4, 2021</td>\n",
       "      <td>2009</td>\n",
       "      <td>PG-13</td>\n",
       "      <td>108 min</td>\n",
       "      <td>Action-Adventure, Family, Science Fiction</td>\n",
       "      <td>Wolverine unites with legendary X-Men to fight...</td>\n",
       "    </tr>\n",
       "    <tr>\n",
       "      <th>1227</th>\n",
       "      <td>s1447</td>\n",
       "      <td>Movie</td>\n",
       "      <td>Night at the Museum: Battle of the Smithsonian</td>\n",
       "      <td>Shawn Levy</td>\n",
       "      <td>Ben Stiller, Amy Adams, Owen Wilson, Hank Azar...</td>\n",
       "      <td>United States, Canada</td>\n",
       "      <td>April 2, 2021</td>\n",
       "      <td>2009</td>\n",
       "      <td>PG</td>\n",
       "      <td>106 min</td>\n",
       "      <td>Action-Adventure, Comedy, Family</td>\n",
       "      <td>Larry Daley returns to rescue some old friends...</td>\n",
       "    </tr>\n",
       "    <tr>\n",
       "      <th>1228</th>\n",
       "      <td>s1448</td>\n",
       "      <td>Movie</td>\n",
       "      <td>Eddie the Eagle</td>\n",
       "      <td>Dexter Fletcher</td>\n",
       "      <td>Tom Costello, Jo Hartley, Keith Allen, Dickon ...</td>\n",
       "      <td>United Kingdom, Germany, United States</td>\n",
       "      <td>December 18, 2020</td>\n",
       "      <td>2016</td>\n",
       "      <td>PG-13</td>\n",
       "      <td>107 min</td>\n",
       "      <td>Biographical, Comedy, Drama</td>\n",
       "      <td>True story of Eddie Edwards, a British ski-jum...</td>\n",
       "    </tr>\n",
       "    <tr>\n",
       "      <th>1229</th>\n",
       "      <td>s1449</td>\n",
       "      <td>Movie</td>\n",
       "      <td>Bend It Like Beckham</td>\n",
       "      <td>Gurinder Chadha</td>\n",
       "      <td>Parminder Nagra, Keira Knightley, Jonathan Rhy...</td>\n",
       "      <td>United Kingdom, Germany, United States</td>\n",
       "      <td>September 18, 2020</td>\n",
       "      <td>2003</td>\n",
       "      <td>PG-13</td>\n",
       "      <td>112 min</td>\n",
       "      <td>Buddy, Comedy, Coming of Age</td>\n",
       "      <td>Despite the wishes of their traditional famili...</td>\n",
       "    </tr>\n",
       "    <tr>\n",
       "      <th>1230</th>\n",
       "      <td>s1450</td>\n",
       "      <td>Movie</td>\n",
       "      <td>Captain Sparky vs. The Flying Saucers</td>\n",
       "      <td>Mark Waring</td>\n",
       "      <td>Charlie Tahan</td>\n",
       "      <td>United States</td>\n",
       "      <td>April 1, 2020</td>\n",
       "      <td>2012</td>\n",
       "      <td>TV-G</td>\n",
       "      <td>2 min</td>\n",
       "      <td>Action-Adventure, Animals &amp; Nature, Animation</td>\n",
       "      <td>View one of Sparky's favorite home movies.</td>\n",
       "    </tr>\n",
       "  </tbody>\n",
       "</table>\n",
       "<p>1231 rows × 12 columns</p>\n",
       "</div>"
      ],
      "text/plain": [
       "     show_id     type                                           title  \\\n",
       "0         s3    Movie                    Ice Age: A Mammoth Christmas   \n",
       "1         s6    Movie                               Becoming Cousteau   \n",
       "2         s8  TV Show                          Port Protection Alaska   \n",
       "3         s9  TV Show                       Secrets of the Zoo: Tampa   \n",
       "4        s10    Movie           A Muppets Christmas: Letters To Santa   \n",
       "...      ...      ...                                             ...   \n",
       "1226   s1446    Movie                        X-Men Origins: Wolverine   \n",
       "1227   s1447    Movie  Night at the Museum: Battle of the Smithsonian   \n",
       "1228   s1448    Movie                                 Eddie the Eagle   \n",
       "1229   s1449    Movie                            Bend It Like Beckham   \n",
       "1230   s1450    Movie           Captain Sparky vs. The Flying Saucers   \n",
       "\n",
       "              director                                               cast  \\\n",
       "0         Karen Disher  Raymond Albert Romano, John Leguizamo, Denis L...   \n",
       "1           Liz Garbus              Jacques Yves Cousteau, Vincent Cassel   \n",
       "2                    0  Gary Muehlberger, Mary Miller, Curly Leach, Sa...   \n",
       "3                    0  Dr. Ray Ball, Dr. Lauren Smith, Chris Massaro,...   \n",
       "4     Kirk R. Thatcher  Steve Whitmire, Dave Goelz, Bill Barretta, Eri...   \n",
       "...                ...                                                ...   \n",
       "1226        Gavin Hood  Hugh Jackman, Liev Schreiber, Danny Huston, wi...   \n",
       "1227        Shawn Levy  Ben Stiller, Amy Adams, Owen Wilson, Hank Azar...   \n",
       "1228   Dexter Fletcher  Tom Costello, Jo Hartley, Keith Allen, Dickon ...   \n",
       "1229   Gurinder Chadha  Parminder Nagra, Keira Knightley, Jonathan Rhy...   \n",
       "1230       Mark Waring                                      Charlie Tahan   \n",
       "\n",
       "                                     country          date_added  \\\n",
       "0                              United States   November 26, 2021   \n",
       "1                              United States   November 24, 2021   \n",
       "2                              United States   November 24, 2021   \n",
       "3                              United States   November 24, 2021   \n",
       "4                              United States   November 19, 2021   \n",
       "...                                      ...                 ...   \n",
       "1226           United States, United Kingdom        June 4, 2021   \n",
       "1227                   United States, Canada       April 2, 2021   \n",
       "1228  United Kingdom, Germany, United States   December 18, 2020   \n",
       "1229  United Kingdom, Germany, United States  September 18, 2020   \n",
       "1230                           United States       April 1, 2020   \n",
       "\n",
       "      release_year rating   duration  \\\n",
       "0             2011   TV-G     23 min   \n",
       "1             2021  PG-13     94 min   \n",
       "2             2015  TV-14  2 Seasons   \n",
       "3             2019  TV-PG  2 Seasons   \n",
       "4             2008      G     45 min   \n",
       "...            ...    ...        ...   \n",
       "1226          2009  PG-13    108 min   \n",
       "1227          2009     PG    106 min   \n",
       "1228          2016  PG-13    107 min   \n",
       "1229          2003  PG-13    112 min   \n",
       "1230          2012   TV-G      2 min   \n",
       "\n",
       "                                          listed_in  \\\n",
       "0                         Animation, Comedy, Family   \n",
       "1                         Biographical, Documentary   \n",
       "2                     Docuseries, Reality, Survival   \n",
       "3              Animals & Nature, Docuseries, Family   \n",
       "4                           Comedy, Family, Musical   \n",
       "...                                             ...   \n",
       "1226      Action-Adventure, Family, Science Fiction   \n",
       "1227               Action-Adventure, Comedy, Family   \n",
       "1228                    Biographical, Comedy, Drama   \n",
       "1229                   Buddy, Comedy, Coming of Age   \n",
       "1230  Action-Adventure, Animals & Nature, Animation   \n",
       "\n",
       "                                            description  \n",
       "0             Sid the Sloth is on Santa's naughty list.  \n",
       "1     An inside look at the legendary life of advent...  \n",
       "2     Residents of Port Protection must combat volat...  \n",
       "3     A day in the life at ZooTampa is anything but ...  \n",
       "4     Celebrate the holiday season with all your fav...  \n",
       "...                                                 ...  \n",
       "1226  Wolverine unites with legendary X-Men to fight...  \n",
       "1227  Larry Daley returns to rescue some old friends...  \n",
       "1228  True story of Eddie Edwards, a British ski-jum...  \n",
       "1229  Despite the wishes of their traditional famili...  \n",
       "1230         View one of Sparky's favorite home movies.  \n",
       "\n",
       "[1231 rows x 12 columns]"
      ]
     },
     "execution_count": 231,
     "metadata": {},
     "output_type": "execute_result"
    }
   ],
   "source": [
    "movie2 = movie.fillna(value = 0)\n",
    "movie2"
   ]
  },
  {
   "cell_type": "code",
   "execution_count": 234,
   "id": "35830b5c",
   "metadata": {},
   "outputs": [
    {
     "data": {
      "text/plain": [
       "0"
      ]
     },
     "execution_count": 234,
     "metadata": {},
     "output_type": "execute_result"
    }
   ],
   "source": [
    "movie2.isnull().sum().sum()"
   ]
  },
  {
   "cell_type": "code",
   "execution_count": 236,
   "id": "c408577d",
   "metadata": {},
   "outputs": [
    {
     "data": {
      "text/html": [
       "<div>\n",
       "<style scoped>\n",
       "    .dataframe tbody tr th:only-of-type {\n",
       "        vertical-align: middle;\n",
       "    }\n",
       "\n",
       "    .dataframe tbody tr th {\n",
       "        vertical-align: top;\n",
       "    }\n",
       "\n",
       "    .dataframe thead th {\n",
       "        text-align: right;\n",
       "    }\n",
       "</style>\n",
       "<table border=\"1\" class=\"dataframe\">\n",
       "  <thead>\n",
       "    <tr style=\"text-align: right;\">\n",
       "      <th></th>\n",
       "      <th>show_id</th>\n",
       "      <th>type</th>\n",
       "      <th>title</th>\n",
       "      <th>director</th>\n",
       "      <th>cast</th>\n",
       "      <th>country</th>\n",
       "      <th>date_added</th>\n",
       "      <th>release_year</th>\n",
       "      <th>rating</th>\n",
       "      <th>duration</th>\n",
       "      <th>listed_in</th>\n",
       "      <th>description</th>\n",
       "    </tr>\n",
       "  </thead>\n",
       "  <tbody>\n",
       "    <tr>\n",
       "      <th>0</th>\n",
       "      <td>s3</td>\n",
       "      <td>Movie</td>\n",
       "      <td>Ice Age: A Mammoth Christmas</td>\n",
       "      <td>Karen Disher</td>\n",
       "      <td>Raymond Albert Romano, John Leguizamo, Denis L...</td>\n",
       "      <td>United States</td>\n",
       "      <td>November 26, 2021</td>\n",
       "      <td>2011</td>\n",
       "      <td>TV-G</td>\n",
       "      <td>23 min</td>\n",
       "      <td>Animation, Comedy, Family</td>\n",
       "      <td>Sid the Sloth is on Santa's naughty list.</td>\n",
       "    </tr>\n",
       "    <tr>\n",
       "      <th>1</th>\n",
       "      <td>s6</td>\n",
       "      <td>Movie</td>\n",
       "      <td>Becoming Cousteau</td>\n",
       "      <td>Liz Garbus</td>\n",
       "      <td>Jacques Yves Cousteau, Vincent Cassel</td>\n",
       "      <td>United States</td>\n",
       "      <td>November 24, 2021</td>\n",
       "      <td>2021</td>\n",
       "      <td>PG-13</td>\n",
       "      <td>94 min</td>\n",
       "      <td>Biographical, Documentary</td>\n",
       "      <td>An inside look at the legendary life of advent...</td>\n",
       "    </tr>\n",
       "    <tr>\n",
       "      <th>2</th>\n",
       "      <td>s8</td>\n",
       "      <td>TV Show</td>\n",
       "      <td>Port Protection Alaska</td>\n",
       "      <td>3</td>\n",
       "      <td>Gary Muehlberger, Mary Miller, Curly Leach, Sa...</td>\n",
       "      <td>United States</td>\n",
       "      <td>November 24, 2021</td>\n",
       "      <td>2015</td>\n",
       "      <td>TV-14</td>\n",
       "      <td>2 Seasons</td>\n",
       "      <td>Docuseries, Reality, Survival</td>\n",
       "      <td>Residents of Port Protection must combat volat...</td>\n",
       "    </tr>\n",
       "    <tr>\n",
       "      <th>3</th>\n",
       "      <td>s9</td>\n",
       "      <td>TV Show</td>\n",
       "      <td>Secrets of the Zoo: Tampa</td>\n",
       "      <td>3</td>\n",
       "      <td>Dr. Ray Ball, Dr. Lauren Smith, Chris Massaro,...</td>\n",
       "      <td>United States</td>\n",
       "      <td>November 24, 2021</td>\n",
       "      <td>2019</td>\n",
       "      <td>TV-PG</td>\n",
       "      <td>2 Seasons</td>\n",
       "      <td>Animals &amp; Nature, Docuseries, Family</td>\n",
       "      <td>A day in the life at ZooTampa is anything but ...</td>\n",
       "    </tr>\n",
       "    <tr>\n",
       "      <th>4</th>\n",
       "      <td>s10</td>\n",
       "      <td>Movie</td>\n",
       "      <td>A Muppets Christmas: Letters To Santa</td>\n",
       "      <td>Kirk R. Thatcher</td>\n",
       "      <td>Steve Whitmire, Dave Goelz, Bill Barretta, Eri...</td>\n",
       "      <td>United States</td>\n",
       "      <td>November 19, 2021</td>\n",
       "      <td>2008</td>\n",
       "      <td>G</td>\n",
       "      <td>45 min</td>\n",
       "      <td>Comedy, Family, Musical</td>\n",
       "      <td>Celebrate the holiday season with all your fav...</td>\n",
       "    </tr>\n",
       "    <tr>\n",
       "      <th>...</th>\n",
       "      <td>...</td>\n",
       "      <td>...</td>\n",
       "      <td>...</td>\n",
       "      <td>...</td>\n",
       "      <td>...</td>\n",
       "      <td>...</td>\n",
       "      <td>...</td>\n",
       "      <td>...</td>\n",
       "      <td>...</td>\n",
       "      <td>...</td>\n",
       "      <td>...</td>\n",
       "      <td>...</td>\n",
       "    </tr>\n",
       "    <tr>\n",
       "      <th>1226</th>\n",
       "      <td>s1446</td>\n",
       "      <td>Movie</td>\n",
       "      <td>X-Men Origins: Wolverine</td>\n",
       "      <td>Gavin Hood</td>\n",
       "      <td>Hugh Jackman, Liev Schreiber, Danny Huston, wi...</td>\n",
       "      <td>United States, United Kingdom</td>\n",
       "      <td>June 4, 2021</td>\n",
       "      <td>2009</td>\n",
       "      <td>PG-13</td>\n",
       "      <td>108 min</td>\n",
       "      <td>Action-Adventure, Family, Science Fiction</td>\n",
       "      <td>Wolverine unites with legendary X-Men to fight...</td>\n",
       "    </tr>\n",
       "    <tr>\n",
       "      <th>1227</th>\n",
       "      <td>s1447</td>\n",
       "      <td>Movie</td>\n",
       "      <td>Night at the Museum: Battle of the Smithsonian</td>\n",
       "      <td>Shawn Levy</td>\n",
       "      <td>Ben Stiller, Amy Adams, Owen Wilson, Hank Azar...</td>\n",
       "      <td>United States, Canada</td>\n",
       "      <td>April 2, 2021</td>\n",
       "      <td>2009</td>\n",
       "      <td>PG</td>\n",
       "      <td>106 min</td>\n",
       "      <td>Action-Adventure, Comedy, Family</td>\n",
       "      <td>Larry Daley returns to rescue some old friends...</td>\n",
       "    </tr>\n",
       "    <tr>\n",
       "      <th>1228</th>\n",
       "      <td>s1448</td>\n",
       "      <td>Movie</td>\n",
       "      <td>Eddie the Eagle</td>\n",
       "      <td>Dexter Fletcher</td>\n",
       "      <td>Tom Costello, Jo Hartley, Keith Allen, Dickon ...</td>\n",
       "      <td>United Kingdom, Germany, United States</td>\n",
       "      <td>December 18, 2020</td>\n",
       "      <td>2016</td>\n",
       "      <td>PG-13</td>\n",
       "      <td>107 min</td>\n",
       "      <td>Biographical, Comedy, Drama</td>\n",
       "      <td>True story of Eddie Edwards, a British ski-jum...</td>\n",
       "    </tr>\n",
       "    <tr>\n",
       "      <th>1229</th>\n",
       "      <td>s1449</td>\n",
       "      <td>Movie</td>\n",
       "      <td>Bend It Like Beckham</td>\n",
       "      <td>Gurinder Chadha</td>\n",
       "      <td>Parminder Nagra, Keira Knightley, Jonathan Rhy...</td>\n",
       "      <td>United Kingdom, Germany, United States</td>\n",
       "      <td>September 18, 2020</td>\n",
       "      <td>2003</td>\n",
       "      <td>PG-13</td>\n",
       "      <td>112 min</td>\n",
       "      <td>Buddy, Comedy, Coming of Age</td>\n",
       "      <td>Despite the wishes of their traditional famili...</td>\n",
       "    </tr>\n",
       "    <tr>\n",
       "      <th>1230</th>\n",
       "      <td>s1450</td>\n",
       "      <td>Movie</td>\n",
       "      <td>Captain Sparky vs. The Flying Saucers</td>\n",
       "      <td>Mark Waring</td>\n",
       "      <td>Charlie Tahan</td>\n",
       "      <td>United States</td>\n",
       "      <td>April 1, 2020</td>\n",
       "      <td>2012</td>\n",
       "      <td>TV-G</td>\n",
       "      <td>2 min</td>\n",
       "      <td>Action-Adventure, Animals &amp; Nature, Animation</td>\n",
       "      <td>View one of Sparky's favorite home movies.</td>\n",
       "    </tr>\n",
       "  </tbody>\n",
       "</table>\n",
       "<p>1231 rows × 12 columns</p>\n",
       "</div>"
      ],
      "text/plain": [
       "     show_id     type                                           title  \\\n",
       "0         s3    Movie                    Ice Age: A Mammoth Christmas   \n",
       "1         s6    Movie                               Becoming Cousteau   \n",
       "2         s8  TV Show                          Port Protection Alaska   \n",
       "3         s9  TV Show                       Secrets of the Zoo: Tampa   \n",
       "4        s10    Movie           A Muppets Christmas: Letters To Santa   \n",
       "...      ...      ...                                             ...   \n",
       "1226   s1446    Movie                        X-Men Origins: Wolverine   \n",
       "1227   s1447    Movie  Night at the Museum: Battle of the Smithsonian   \n",
       "1228   s1448    Movie                                 Eddie the Eagle   \n",
       "1229   s1449    Movie                            Bend It Like Beckham   \n",
       "1230   s1450    Movie           Captain Sparky vs. The Flying Saucers   \n",
       "\n",
       "              director                                               cast  \\\n",
       "0         Karen Disher  Raymond Albert Romano, John Leguizamo, Denis L...   \n",
       "1           Liz Garbus              Jacques Yves Cousteau, Vincent Cassel   \n",
       "2                    3  Gary Muehlberger, Mary Miller, Curly Leach, Sa...   \n",
       "3                    3  Dr. Ray Ball, Dr. Lauren Smith, Chris Massaro,...   \n",
       "4     Kirk R. Thatcher  Steve Whitmire, Dave Goelz, Bill Barretta, Eri...   \n",
       "...                ...                                                ...   \n",
       "1226        Gavin Hood  Hugh Jackman, Liev Schreiber, Danny Huston, wi...   \n",
       "1227        Shawn Levy  Ben Stiller, Amy Adams, Owen Wilson, Hank Azar...   \n",
       "1228   Dexter Fletcher  Tom Costello, Jo Hartley, Keith Allen, Dickon ...   \n",
       "1229   Gurinder Chadha  Parminder Nagra, Keira Knightley, Jonathan Rhy...   \n",
       "1230       Mark Waring                                      Charlie Tahan   \n",
       "\n",
       "                                     country          date_added  \\\n",
       "0                              United States   November 26, 2021   \n",
       "1                              United States   November 24, 2021   \n",
       "2                              United States   November 24, 2021   \n",
       "3                              United States   November 24, 2021   \n",
       "4                              United States   November 19, 2021   \n",
       "...                                      ...                 ...   \n",
       "1226           United States, United Kingdom        June 4, 2021   \n",
       "1227                   United States, Canada       April 2, 2021   \n",
       "1228  United Kingdom, Germany, United States   December 18, 2020   \n",
       "1229  United Kingdom, Germany, United States  September 18, 2020   \n",
       "1230                           United States       April 1, 2020   \n",
       "\n",
       "      release_year rating   duration  \\\n",
       "0             2011   TV-G     23 min   \n",
       "1             2021  PG-13     94 min   \n",
       "2             2015  TV-14  2 Seasons   \n",
       "3             2019  TV-PG  2 Seasons   \n",
       "4             2008      G     45 min   \n",
       "...            ...    ...        ...   \n",
       "1226          2009  PG-13    108 min   \n",
       "1227          2009     PG    106 min   \n",
       "1228          2016  PG-13    107 min   \n",
       "1229          2003  PG-13    112 min   \n",
       "1230          2012   TV-G      2 min   \n",
       "\n",
       "                                          listed_in  \\\n",
       "0                         Animation, Comedy, Family   \n",
       "1                         Biographical, Documentary   \n",
       "2                     Docuseries, Reality, Survival   \n",
       "3              Animals & Nature, Docuseries, Family   \n",
       "4                           Comedy, Family, Musical   \n",
       "...                                             ...   \n",
       "1226      Action-Adventure, Family, Science Fiction   \n",
       "1227               Action-Adventure, Comedy, Family   \n",
       "1228                    Biographical, Comedy, Drama   \n",
       "1229                   Buddy, Comedy, Coming of Age   \n",
       "1230  Action-Adventure, Animals & Nature, Animation   \n",
       "\n",
       "                                            description  \n",
       "0             Sid the Sloth is on Santa's naughty list.  \n",
       "1     An inside look at the legendary life of advent...  \n",
       "2     Residents of Port Protection must combat volat...  \n",
       "3     A day in the life at ZooTampa is anything but ...  \n",
       "4     Celebrate the holiday season with all your fav...  \n",
       "...                                                 ...  \n",
       "1226  Wolverine unites with legendary X-Men to fight...  \n",
       "1227  Larry Daley returns to rescue some old friends...  \n",
       "1228  True story of Eddie Edwards, a British ski-jum...  \n",
       "1229  Despite the wishes of their traditional famili...  \n",
       "1230         View one of Sparky's favorite home movies.  \n",
       "\n",
       "[1231 rows x 12 columns]"
      ]
     },
     "execution_count": 236,
     "metadata": {},
     "output_type": "execute_result"
    }
   ],
   "source": [
    "movie3 = movie.fillna(value = 3)\n",
    "movie3"
   ]
  },
  {
   "cell_type": "code",
   "execution_count": null,
   "id": "f8e24715",
   "metadata": {},
   "outputs": [],
   "source": [
    "# >>>>>> FILLING NULL VALUES WITH PREVIOUS VALUES <<<<<<<"
   ]
  },
  {
   "cell_type": "code",
   "execution_count": 239,
   "id": "2424a6b7",
   "metadata": {},
   "outputs": [
    {
     "data": {
      "text/html": [
       "<div>\n",
       "<style scoped>\n",
       "    .dataframe tbody tr th:only-of-type {\n",
       "        vertical-align: middle;\n",
       "    }\n",
       "\n",
       "    .dataframe tbody tr th {\n",
       "        vertical-align: top;\n",
       "    }\n",
       "\n",
       "    .dataframe thead th {\n",
       "        text-align: right;\n",
       "    }\n",
       "</style>\n",
       "<table border=\"1\" class=\"dataframe\">\n",
       "  <thead>\n",
       "    <tr style=\"text-align: right;\">\n",
       "      <th></th>\n",
       "      <th>show_id</th>\n",
       "      <th>type</th>\n",
       "      <th>title</th>\n",
       "      <th>director</th>\n",
       "      <th>cast</th>\n",
       "      <th>country</th>\n",
       "      <th>date_added</th>\n",
       "      <th>release_year</th>\n",
       "      <th>rating</th>\n",
       "      <th>duration</th>\n",
       "      <th>listed_in</th>\n",
       "      <th>description</th>\n",
       "    </tr>\n",
       "  </thead>\n",
       "  <tbody>\n",
       "    <tr>\n",
       "      <th>0</th>\n",
       "      <td>s3</td>\n",
       "      <td>Movie</td>\n",
       "      <td>Ice Age: A Mammoth Christmas</td>\n",
       "      <td>Karen Disher</td>\n",
       "      <td>Raymond Albert Romano, John Leguizamo, Denis L...</td>\n",
       "      <td>United States</td>\n",
       "      <td>November 26, 2021</td>\n",
       "      <td>2011</td>\n",
       "      <td>TV-G</td>\n",
       "      <td>23 min</td>\n",
       "      <td>Animation, Comedy, Family</td>\n",
       "      <td>Sid the Sloth is on Santa's naughty list.</td>\n",
       "    </tr>\n",
       "    <tr>\n",
       "      <th>1</th>\n",
       "      <td>s6</td>\n",
       "      <td>Movie</td>\n",
       "      <td>Becoming Cousteau</td>\n",
       "      <td>Liz Garbus</td>\n",
       "      <td>Jacques Yves Cousteau, Vincent Cassel</td>\n",
       "      <td>United States</td>\n",
       "      <td>November 24, 2021</td>\n",
       "      <td>2021</td>\n",
       "      <td>PG-13</td>\n",
       "      <td>94 min</td>\n",
       "      <td>Biographical, Documentary</td>\n",
       "      <td>An inside look at the legendary life of advent...</td>\n",
       "    </tr>\n",
       "    <tr>\n",
       "      <th>2</th>\n",
       "      <td>s8</td>\n",
       "      <td>TV Show</td>\n",
       "      <td>Port Protection Alaska</td>\n",
       "      <td>Liz Garbus</td>\n",
       "      <td>Gary Muehlberger, Mary Miller, Curly Leach, Sa...</td>\n",
       "      <td>United States</td>\n",
       "      <td>November 24, 2021</td>\n",
       "      <td>2015</td>\n",
       "      <td>TV-14</td>\n",
       "      <td>2 Seasons</td>\n",
       "      <td>Docuseries, Reality, Survival</td>\n",
       "      <td>Residents of Port Protection must combat volat...</td>\n",
       "    </tr>\n",
       "    <tr>\n",
       "      <th>3</th>\n",
       "      <td>s9</td>\n",
       "      <td>TV Show</td>\n",
       "      <td>Secrets of the Zoo: Tampa</td>\n",
       "      <td>Liz Garbus</td>\n",
       "      <td>Dr. Ray Ball, Dr. Lauren Smith, Chris Massaro,...</td>\n",
       "      <td>United States</td>\n",
       "      <td>November 24, 2021</td>\n",
       "      <td>2019</td>\n",
       "      <td>TV-PG</td>\n",
       "      <td>2 Seasons</td>\n",
       "      <td>Animals &amp; Nature, Docuseries, Family</td>\n",
       "      <td>A day in the life at ZooTampa is anything but ...</td>\n",
       "    </tr>\n",
       "    <tr>\n",
       "      <th>4</th>\n",
       "      <td>s10</td>\n",
       "      <td>Movie</td>\n",
       "      <td>A Muppets Christmas: Letters To Santa</td>\n",
       "      <td>Kirk R. Thatcher</td>\n",
       "      <td>Steve Whitmire, Dave Goelz, Bill Barretta, Eri...</td>\n",
       "      <td>United States</td>\n",
       "      <td>November 19, 2021</td>\n",
       "      <td>2008</td>\n",
       "      <td>G</td>\n",
       "      <td>45 min</td>\n",
       "      <td>Comedy, Family, Musical</td>\n",
       "      <td>Celebrate the holiday season with all your fav...</td>\n",
       "    </tr>\n",
       "    <tr>\n",
       "      <th>...</th>\n",
       "      <td>...</td>\n",
       "      <td>...</td>\n",
       "      <td>...</td>\n",
       "      <td>...</td>\n",
       "      <td>...</td>\n",
       "      <td>...</td>\n",
       "      <td>...</td>\n",
       "      <td>...</td>\n",
       "      <td>...</td>\n",
       "      <td>...</td>\n",
       "      <td>...</td>\n",
       "      <td>...</td>\n",
       "    </tr>\n",
       "    <tr>\n",
       "      <th>1226</th>\n",
       "      <td>s1446</td>\n",
       "      <td>Movie</td>\n",
       "      <td>X-Men Origins: Wolverine</td>\n",
       "      <td>Gavin Hood</td>\n",
       "      <td>Hugh Jackman, Liev Schreiber, Danny Huston, wi...</td>\n",
       "      <td>United States, United Kingdom</td>\n",
       "      <td>June 4, 2021</td>\n",
       "      <td>2009</td>\n",
       "      <td>PG-13</td>\n",
       "      <td>108 min</td>\n",
       "      <td>Action-Adventure, Family, Science Fiction</td>\n",
       "      <td>Wolverine unites with legendary X-Men to fight...</td>\n",
       "    </tr>\n",
       "    <tr>\n",
       "      <th>1227</th>\n",
       "      <td>s1447</td>\n",
       "      <td>Movie</td>\n",
       "      <td>Night at the Museum: Battle of the Smithsonian</td>\n",
       "      <td>Shawn Levy</td>\n",
       "      <td>Ben Stiller, Amy Adams, Owen Wilson, Hank Azar...</td>\n",
       "      <td>United States, Canada</td>\n",
       "      <td>April 2, 2021</td>\n",
       "      <td>2009</td>\n",
       "      <td>PG</td>\n",
       "      <td>106 min</td>\n",
       "      <td>Action-Adventure, Comedy, Family</td>\n",
       "      <td>Larry Daley returns to rescue some old friends...</td>\n",
       "    </tr>\n",
       "    <tr>\n",
       "      <th>1228</th>\n",
       "      <td>s1448</td>\n",
       "      <td>Movie</td>\n",
       "      <td>Eddie the Eagle</td>\n",
       "      <td>Dexter Fletcher</td>\n",
       "      <td>Tom Costello, Jo Hartley, Keith Allen, Dickon ...</td>\n",
       "      <td>United Kingdom, Germany, United States</td>\n",
       "      <td>December 18, 2020</td>\n",
       "      <td>2016</td>\n",
       "      <td>PG-13</td>\n",
       "      <td>107 min</td>\n",
       "      <td>Biographical, Comedy, Drama</td>\n",
       "      <td>True story of Eddie Edwards, a British ski-jum...</td>\n",
       "    </tr>\n",
       "    <tr>\n",
       "      <th>1229</th>\n",
       "      <td>s1449</td>\n",
       "      <td>Movie</td>\n",
       "      <td>Bend It Like Beckham</td>\n",
       "      <td>Gurinder Chadha</td>\n",
       "      <td>Parminder Nagra, Keira Knightley, Jonathan Rhy...</td>\n",
       "      <td>United Kingdom, Germany, United States</td>\n",
       "      <td>September 18, 2020</td>\n",
       "      <td>2003</td>\n",
       "      <td>PG-13</td>\n",
       "      <td>112 min</td>\n",
       "      <td>Buddy, Comedy, Coming of Age</td>\n",
       "      <td>Despite the wishes of their traditional famili...</td>\n",
       "    </tr>\n",
       "    <tr>\n",
       "      <th>1230</th>\n",
       "      <td>s1450</td>\n",
       "      <td>Movie</td>\n",
       "      <td>Captain Sparky vs. The Flying Saucers</td>\n",
       "      <td>Mark Waring</td>\n",
       "      <td>Charlie Tahan</td>\n",
       "      <td>United States</td>\n",
       "      <td>April 1, 2020</td>\n",
       "      <td>2012</td>\n",
       "      <td>TV-G</td>\n",
       "      <td>2 min</td>\n",
       "      <td>Action-Adventure, Animals &amp; Nature, Animation</td>\n",
       "      <td>View one of Sparky's favorite home movies.</td>\n",
       "    </tr>\n",
       "  </tbody>\n",
       "</table>\n",
       "<p>1231 rows × 12 columns</p>\n",
       "</div>"
      ],
      "text/plain": [
       "     show_id     type                                           title  \\\n",
       "0         s3    Movie                    Ice Age: A Mammoth Christmas   \n",
       "1         s6    Movie                               Becoming Cousteau   \n",
       "2         s8  TV Show                          Port Protection Alaska   \n",
       "3         s9  TV Show                       Secrets of the Zoo: Tampa   \n",
       "4        s10    Movie           A Muppets Christmas: Letters To Santa   \n",
       "...      ...      ...                                             ...   \n",
       "1226   s1446    Movie                        X-Men Origins: Wolverine   \n",
       "1227   s1447    Movie  Night at the Museum: Battle of the Smithsonian   \n",
       "1228   s1448    Movie                                 Eddie the Eagle   \n",
       "1229   s1449    Movie                            Bend It Like Beckham   \n",
       "1230   s1450    Movie           Captain Sparky vs. The Flying Saucers   \n",
       "\n",
       "              director                                               cast  \\\n",
       "0         Karen Disher  Raymond Albert Romano, John Leguizamo, Denis L...   \n",
       "1           Liz Garbus              Jacques Yves Cousteau, Vincent Cassel   \n",
       "2           Liz Garbus  Gary Muehlberger, Mary Miller, Curly Leach, Sa...   \n",
       "3           Liz Garbus  Dr. Ray Ball, Dr. Lauren Smith, Chris Massaro,...   \n",
       "4     Kirk R. Thatcher  Steve Whitmire, Dave Goelz, Bill Barretta, Eri...   \n",
       "...                ...                                                ...   \n",
       "1226        Gavin Hood  Hugh Jackman, Liev Schreiber, Danny Huston, wi...   \n",
       "1227        Shawn Levy  Ben Stiller, Amy Adams, Owen Wilson, Hank Azar...   \n",
       "1228   Dexter Fletcher  Tom Costello, Jo Hartley, Keith Allen, Dickon ...   \n",
       "1229   Gurinder Chadha  Parminder Nagra, Keira Knightley, Jonathan Rhy...   \n",
       "1230       Mark Waring                                      Charlie Tahan   \n",
       "\n",
       "                                     country          date_added  \\\n",
       "0                              United States   November 26, 2021   \n",
       "1                              United States   November 24, 2021   \n",
       "2                              United States   November 24, 2021   \n",
       "3                              United States   November 24, 2021   \n",
       "4                              United States   November 19, 2021   \n",
       "...                                      ...                 ...   \n",
       "1226           United States, United Kingdom        June 4, 2021   \n",
       "1227                   United States, Canada       April 2, 2021   \n",
       "1228  United Kingdom, Germany, United States   December 18, 2020   \n",
       "1229  United Kingdom, Germany, United States  September 18, 2020   \n",
       "1230                           United States       April 1, 2020   \n",
       "\n",
       "      release_year rating   duration  \\\n",
       "0             2011   TV-G     23 min   \n",
       "1             2021  PG-13     94 min   \n",
       "2             2015  TV-14  2 Seasons   \n",
       "3             2019  TV-PG  2 Seasons   \n",
       "4             2008      G     45 min   \n",
       "...            ...    ...        ...   \n",
       "1226          2009  PG-13    108 min   \n",
       "1227          2009     PG    106 min   \n",
       "1228          2016  PG-13    107 min   \n",
       "1229          2003  PG-13    112 min   \n",
       "1230          2012   TV-G      2 min   \n",
       "\n",
       "                                          listed_in  \\\n",
       "0                         Animation, Comedy, Family   \n",
       "1                         Biographical, Documentary   \n",
       "2                     Docuseries, Reality, Survival   \n",
       "3              Animals & Nature, Docuseries, Family   \n",
       "4                           Comedy, Family, Musical   \n",
       "...                                             ...   \n",
       "1226      Action-Adventure, Family, Science Fiction   \n",
       "1227               Action-Adventure, Comedy, Family   \n",
       "1228                    Biographical, Comedy, Drama   \n",
       "1229                   Buddy, Comedy, Coming of Age   \n",
       "1230  Action-Adventure, Animals & Nature, Animation   \n",
       "\n",
       "                                            description  \n",
       "0             Sid the Sloth is on Santa's naughty list.  \n",
       "1     An inside look at the legendary life of advent...  \n",
       "2     Residents of Port Protection must combat volat...  \n",
       "3     A day in the life at ZooTampa is anything but ...  \n",
       "4     Celebrate the holiday season with all your fav...  \n",
       "...                                                 ...  \n",
       "1226  Wolverine unites with legendary X-Men to fight...  \n",
       "1227  Larry Daley returns to rescue some old friends...  \n",
       "1228  True story of Eddie Edwards, a British ski-jum...  \n",
       "1229  Despite the wishes of their traditional famili...  \n",
       "1230         View one of Sparky's favorite home movies.  \n",
       "\n",
       "[1231 rows x 12 columns]"
      ]
     },
     "execution_count": 239,
     "metadata": {},
     "output_type": "execute_result"
    }
   ],
   "source": [
    "movie4 = movie.fillna(method = 'pad')\n",
    "movie4"
   ]
  },
  {
   "cell_type": "code",
   "execution_count": 240,
   "id": "c4c1a954",
   "metadata": {},
   "outputs": [
    {
     "data": {
      "text/plain": [
       "show_id         0\n",
       "type            0\n",
       "title           0\n",
       "director        0\n",
       "cast            0\n",
       "country         0\n",
       "date_added      0\n",
       "release_year    0\n",
       "rating          0\n",
       "duration        0\n",
       "listed_in       0\n",
       "description     0\n",
       "dtype: int64"
      ]
     },
     "execution_count": 240,
     "metadata": {},
     "output_type": "execute_result"
    }
   ],
   "source": [
    "movie4.isnull().sum()"
   ]
  },
  {
   "cell_type": "code",
   "execution_count": null,
   "id": "1112115b",
   "metadata": {},
   "outputs": [],
   "source": [
    "#>>>>>>>>>> FILLING VALUE WITH BACKWARD FILL <<<<<<<<<<<"
   ]
  },
  {
   "cell_type": "code",
   "execution_count": 242,
   "id": "ea3e3301",
   "metadata": {},
   "outputs": [
    {
     "data": {
      "text/html": [
       "<div>\n",
       "<style scoped>\n",
       "    .dataframe tbody tr th:only-of-type {\n",
       "        vertical-align: middle;\n",
       "    }\n",
       "\n",
       "    .dataframe tbody tr th {\n",
       "        vertical-align: top;\n",
       "    }\n",
       "\n",
       "    .dataframe thead th {\n",
       "        text-align: right;\n",
       "    }\n",
       "</style>\n",
       "<table border=\"1\" class=\"dataframe\">\n",
       "  <thead>\n",
       "    <tr style=\"text-align: right;\">\n",
       "      <th></th>\n",
       "      <th>show_id</th>\n",
       "      <th>type</th>\n",
       "      <th>title</th>\n",
       "      <th>director</th>\n",
       "      <th>cast</th>\n",
       "      <th>country</th>\n",
       "      <th>date_added</th>\n",
       "      <th>release_year</th>\n",
       "      <th>rating</th>\n",
       "      <th>duration</th>\n",
       "      <th>listed_in</th>\n",
       "      <th>description</th>\n",
       "    </tr>\n",
       "  </thead>\n",
       "  <tbody>\n",
       "    <tr>\n",
       "      <th>0</th>\n",
       "      <td>s3</td>\n",
       "      <td>Movie</td>\n",
       "      <td>Ice Age: A Mammoth Christmas</td>\n",
       "      <td>Karen Disher</td>\n",
       "      <td>Raymond Albert Romano, John Leguizamo, Denis L...</td>\n",
       "      <td>United States</td>\n",
       "      <td>November 26, 2021</td>\n",
       "      <td>2011</td>\n",
       "      <td>TV-G</td>\n",
       "      <td>23 min</td>\n",
       "      <td>Animation, Comedy, Family</td>\n",
       "      <td>Sid the Sloth is on Santa's naughty list.</td>\n",
       "    </tr>\n",
       "    <tr>\n",
       "      <th>1</th>\n",
       "      <td>s6</td>\n",
       "      <td>Movie</td>\n",
       "      <td>Becoming Cousteau</td>\n",
       "      <td>Liz Garbus</td>\n",
       "      <td>Jacques Yves Cousteau, Vincent Cassel</td>\n",
       "      <td>United States</td>\n",
       "      <td>November 24, 2021</td>\n",
       "      <td>2021</td>\n",
       "      <td>PG-13</td>\n",
       "      <td>94 min</td>\n",
       "      <td>Biographical, Documentary</td>\n",
       "      <td>An inside look at the legendary life of advent...</td>\n",
       "    </tr>\n",
       "    <tr>\n",
       "      <th>2</th>\n",
       "      <td>s8</td>\n",
       "      <td>TV Show</td>\n",
       "      <td>Port Protection Alaska</td>\n",
       "      <td>Kirk R. Thatcher</td>\n",
       "      <td>Gary Muehlberger, Mary Miller, Curly Leach, Sa...</td>\n",
       "      <td>United States</td>\n",
       "      <td>November 24, 2021</td>\n",
       "      <td>2015</td>\n",
       "      <td>TV-14</td>\n",
       "      <td>2 Seasons</td>\n",
       "      <td>Docuseries, Reality, Survival</td>\n",
       "      <td>Residents of Port Protection must combat volat...</td>\n",
       "    </tr>\n",
       "    <tr>\n",
       "      <th>3</th>\n",
       "      <td>s9</td>\n",
       "      <td>TV Show</td>\n",
       "      <td>Secrets of the Zoo: Tampa</td>\n",
       "      <td>Kirk R. Thatcher</td>\n",
       "      <td>Dr. Ray Ball, Dr. Lauren Smith, Chris Massaro,...</td>\n",
       "      <td>United States</td>\n",
       "      <td>November 24, 2021</td>\n",
       "      <td>2019</td>\n",
       "      <td>TV-PG</td>\n",
       "      <td>2 Seasons</td>\n",
       "      <td>Animals &amp; Nature, Docuseries, Family</td>\n",
       "      <td>A day in the life at ZooTampa is anything but ...</td>\n",
       "    </tr>\n",
       "    <tr>\n",
       "      <th>4</th>\n",
       "      <td>s10</td>\n",
       "      <td>Movie</td>\n",
       "      <td>A Muppets Christmas: Letters To Santa</td>\n",
       "      <td>Kirk R. Thatcher</td>\n",
       "      <td>Steve Whitmire, Dave Goelz, Bill Barretta, Eri...</td>\n",
       "      <td>United States</td>\n",
       "      <td>November 19, 2021</td>\n",
       "      <td>2008</td>\n",
       "      <td>G</td>\n",
       "      <td>45 min</td>\n",
       "      <td>Comedy, Family, Musical</td>\n",
       "      <td>Celebrate the holiday season with all your fav...</td>\n",
       "    </tr>\n",
       "    <tr>\n",
       "      <th>...</th>\n",
       "      <td>...</td>\n",
       "      <td>...</td>\n",
       "      <td>...</td>\n",
       "      <td>...</td>\n",
       "      <td>...</td>\n",
       "      <td>...</td>\n",
       "      <td>...</td>\n",
       "      <td>...</td>\n",
       "      <td>...</td>\n",
       "      <td>...</td>\n",
       "      <td>...</td>\n",
       "      <td>...</td>\n",
       "    </tr>\n",
       "    <tr>\n",
       "      <th>1226</th>\n",
       "      <td>s1446</td>\n",
       "      <td>Movie</td>\n",
       "      <td>X-Men Origins: Wolverine</td>\n",
       "      <td>Gavin Hood</td>\n",
       "      <td>Hugh Jackman, Liev Schreiber, Danny Huston, wi...</td>\n",
       "      <td>United States, United Kingdom</td>\n",
       "      <td>June 4, 2021</td>\n",
       "      <td>2009</td>\n",
       "      <td>PG-13</td>\n",
       "      <td>108 min</td>\n",
       "      <td>Action-Adventure, Family, Science Fiction</td>\n",
       "      <td>Wolverine unites with legendary X-Men to fight...</td>\n",
       "    </tr>\n",
       "    <tr>\n",
       "      <th>1227</th>\n",
       "      <td>s1447</td>\n",
       "      <td>Movie</td>\n",
       "      <td>Night at the Museum: Battle of the Smithsonian</td>\n",
       "      <td>Shawn Levy</td>\n",
       "      <td>Ben Stiller, Amy Adams, Owen Wilson, Hank Azar...</td>\n",
       "      <td>United States, Canada</td>\n",
       "      <td>April 2, 2021</td>\n",
       "      <td>2009</td>\n",
       "      <td>PG</td>\n",
       "      <td>106 min</td>\n",
       "      <td>Action-Adventure, Comedy, Family</td>\n",
       "      <td>Larry Daley returns to rescue some old friends...</td>\n",
       "    </tr>\n",
       "    <tr>\n",
       "      <th>1228</th>\n",
       "      <td>s1448</td>\n",
       "      <td>Movie</td>\n",
       "      <td>Eddie the Eagle</td>\n",
       "      <td>Dexter Fletcher</td>\n",
       "      <td>Tom Costello, Jo Hartley, Keith Allen, Dickon ...</td>\n",
       "      <td>United Kingdom, Germany, United States</td>\n",
       "      <td>December 18, 2020</td>\n",
       "      <td>2016</td>\n",
       "      <td>PG-13</td>\n",
       "      <td>107 min</td>\n",
       "      <td>Biographical, Comedy, Drama</td>\n",
       "      <td>True story of Eddie Edwards, a British ski-jum...</td>\n",
       "    </tr>\n",
       "    <tr>\n",
       "      <th>1229</th>\n",
       "      <td>s1449</td>\n",
       "      <td>Movie</td>\n",
       "      <td>Bend It Like Beckham</td>\n",
       "      <td>Gurinder Chadha</td>\n",
       "      <td>Parminder Nagra, Keira Knightley, Jonathan Rhy...</td>\n",
       "      <td>United Kingdom, Germany, United States</td>\n",
       "      <td>September 18, 2020</td>\n",
       "      <td>2003</td>\n",
       "      <td>PG-13</td>\n",
       "      <td>112 min</td>\n",
       "      <td>Buddy, Comedy, Coming of Age</td>\n",
       "      <td>Despite the wishes of their traditional famili...</td>\n",
       "    </tr>\n",
       "    <tr>\n",
       "      <th>1230</th>\n",
       "      <td>s1450</td>\n",
       "      <td>Movie</td>\n",
       "      <td>Captain Sparky vs. The Flying Saucers</td>\n",
       "      <td>Mark Waring</td>\n",
       "      <td>Charlie Tahan</td>\n",
       "      <td>United States</td>\n",
       "      <td>April 1, 2020</td>\n",
       "      <td>2012</td>\n",
       "      <td>TV-G</td>\n",
       "      <td>2 min</td>\n",
       "      <td>Action-Adventure, Animals &amp; Nature, Animation</td>\n",
       "      <td>View one of Sparky's favorite home movies.</td>\n",
       "    </tr>\n",
       "  </tbody>\n",
       "</table>\n",
       "<p>1231 rows × 12 columns</p>\n",
       "</div>"
      ],
      "text/plain": [
       "     show_id     type                                           title  \\\n",
       "0         s3    Movie                    Ice Age: A Mammoth Christmas   \n",
       "1         s6    Movie                               Becoming Cousteau   \n",
       "2         s8  TV Show                          Port Protection Alaska   \n",
       "3         s9  TV Show                       Secrets of the Zoo: Tampa   \n",
       "4        s10    Movie           A Muppets Christmas: Letters To Santa   \n",
       "...      ...      ...                                             ...   \n",
       "1226   s1446    Movie                        X-Men Origins: Wolverine   \n",
       "1227   s1447    Movie  Night at the Museum: Battle of the Smithsonian   \n",
       "1228   s1448    Movie                                 Eddie the Eagle   \n",
       "1229   s1449    Movie                            Bend It Like Beckham   \n",
       "1230   s1450    Movie           Captain Sparky vs. The Flying Saucers   \n",
       "\n",
       "              director                                               cast  \\\n",
       "0         Karen Disher  Raymond Albert Romano, John Leguizamo, Denis L...   \n",
       "1           Liz Garbus              Jacques Yves Cousteau, Vincent Cassel   \n",
       "2     Kirk R. Thatcher  Gary Muehlberger, Mary Miller, Curly Leach, Sa...   \n",
       "3     Kirk R. Thatcher  Dr. Ray Ball, Dr. Lauren Smith, Chris Massaro,...   \n",
       "4     Kirk R. Thatcher  Steve Whitmire, Dave Goelz, Bill Barretta, Eri...   \n",
       "...                ...                                                ...   \n",
       "1226        Gavin Hood  Hugh Jackman, Liev Schreiber, Danny Huston, wi...   \n",
       "1227        Shawn Levy  Ben Stiller, Amy Adams, Owen Wilson, Hank Azar...   \n",
       "1228   Dexter Fletcher  Tom Costello, Jo Hartley, Keith Allen, Dickon ...   \n",
       "1229   Gurinder Chadha  Parminder Nagra, Keira Knightley, Jonathan Rhy...   \n",
       "1230       Mark Waring                                      Charlie Tahan   \n",
       "\n",
       "                                     country          date_added  \\\n",
       "0                              United States   November 26, 2021   \n",
       "1                              United States   November 24, 2021   \n",
       "2                              United States   November 24, 2021   \n",
       "3                              United States   November 24, 2021   \n",
       "4                              United States   November 19, 2021   \n",
       "...                                      ...                 ...   \n",
       "1226           United States, United Kingdom        June 4, 2021   \n",
       "1227                   United States, Canada       April 2, 2021   \n",
       "1228  United Kingdom, Germany, United States   December 18, 2020   \n",
       "1229  United Kingdom, Germany, United States  September 18, 2020   \n",
       "1230                           United States       April 1, 2020   \n",
       "\n",
       "      release_year rating   duration  \\\n",
       "0             2011   TV-G     23 min   \n",
       "1             2021  PG-13     94 min   \n",
       "2             2015  TV-14  2 Seasons   \n",
       "3             2019  TV-PG  2 Seasons   \n",
       "4             2008      G     45 min   \n",
       "...            ...    ...        ...   \n",
       "1226          2009  PG-13    108 min   \n",
       "1227          2009     PG    106 min   \n",
       "1228          2016  PG-13    107 min   \n",
       "1229          2003  PG-13    112 min   \n",
       "1230          2012   TV-G      2 min   \n",
       "\n",
       "                                          listed_in  \\\n",
       "0                         Animation, Comedy, Family   \n",
       "1                         Biographical, Documentary   \n",
       "2                     Docuseries, Reality, Survival   \n",
       "3              Animals & Nature, Docuseries, Family   \n",
       "4                           Comedy, Family, Musical   \n",
       "...                                             ...   \n",
       "1226      Action-Adventure, Family, Science Fiction   \n",
       "1227               Action-Adventure, Comedy, Family   \n",
       "1228                    Biographical, Comedy, Drama   \n",
       "1229                   Buddy, Comedy, Coming of Age   \n",
       "1230  Action-Adventure, Animals & Nature, Animation   \n",
       "\n",
       "                                            description  \n",
       "0             Sid the Sloth is on Santa's naughty list.  \n",
       "1     An inside look at the legendary life of advent...  \n",
       "2     Residents of Port Protection must combat volat...  \n",
       "3     A day in the life at ZooTampa is anything but ...  \n",
       "4     Celebrate the holiday season with all your fav...  \n",
       "...                                                 ...  \n",
       "1226  Wolverine unites with legendary X-Men to fight...  \n",
       "1227  Larry Daley returns to rescue some old friends...  \n",
       "1228  True story of Eddie Edwards, a British ski-jum...  \n",
       "1229  Despite the wishes of their traditional famili...  \n",
       "1230         View one of Sparky's favorite home movies.  \n",
       "\n",
       "[1231 rows x 12 columns]"
      ]
     },
     "execution_count": 242,
     "metadata": {},
     "output_type": "execute_result"
    }
   ],
   "source": [
    "movie5 = movie.fillna(method = 'bfill')\n",
    "movie5"
   ]
  },
  {
   "cell_type": "code",
   "execution_count": null,
   "id": "3bf38510",
   "metadata": {},
   "outputs": [],
   "source": [
    "# >>>>>>>>> CHANGE THE VALUE WITH COLUMN WISE 6TH <<<<<<<"
   ]
  },
  {
   "cell_type": "code",
   "execution_count": 244,
   "id": "97f8b8c7",
   "metadata": {},
   "outputs": [
    {
     "data": {
      "text/html": [
       "<div>\n",
       "<style scoped>\n",
       "    .dataframe tbody tr th:only-of-type {\n",
       "        vertical-align: middle;\n",
       "    }\n",
       "\n",
       "    .dataframe tbody tr th {\n",
       "        vertical-align: top;\n",
       "    }\n",
       "\n",
       "    .dataframe thead th {\n",
       "        text-align: right;\n",
       "    }\n",
       "</style>\n",
       "<table border=\"1\" class=\"dataframe\">\n",
       "  <thead>\n",
       "    <tr style=\"text-align: right;\">\n",
       "      <th></th>\n",
       "      <th>show_id</th>\n",
       "      <th>type</th>\n",
       "      <th>title</th>\n",
       "      <th>director</th>\n",
       "      <th>cast</th>\n",
       "      <th>country</th>\n",
       "      <th>date_added</th>\n",
       "      <th>release_year</th>\n",
       "      <th>rating</th>\n",
       "      <th>duration</th>\n",
       "      <th>listed_in</th>\n",
       "      <th>description</th>\n",
       "    </tr>\n",
       "  </thead>\n",
       "  <tbody>\n",
       "    <tr>\n",
       "      <th>0</th>\n",
       "      <td>s3</td>\n",
       "      <td>Movie</td>\n",
       "      <td>Ice Age: A Mammoth Christmas</td>\n",
       "      <td>Karen Disher</td>\n",
       "      <td>Raymond Albert Romano, John Leguizamo, Denis L...</td>\n",
       "      <td>United States</td>\n",
       "      <td>November 26, 2021</td>\n",
       "      <td>2011</td>\n",
       "      <td>TV-G</td>\n",
       "      <td>23 min</td>\n",
       "      <td>Animation, Comedy, Family</td>\n",
       "      <td>Sid the Sloth is on Santa's naughty list.</td>\n",
       "    </tr>\n",
       "    <tr>\n",
       "      <th>1</th>\n",
       "      <td>s6</td>\n",
       "      <td>Movie</td>\n",
       "      <td>Becoming Cousteau</td>\n",
       "      <td>Liz Garbus</td>\n",
       "      <td>Jacques Yves Cousteau, Vincent Cassel</td>\n",
       "      <td>United States</td>\n",
       "      <td>November 24, 2021</td>\n",
       "      <td>2021</td>\n",
       "      <td>PG-13</td>\n",
       "      <td>94 min</td>\n",
       "      <td>Biographical, Documentary</td>\n",
       "      <td>An inside look at the legendary life of advent...</td>\n",
       "    </tr>\n",
       "    <tr>\n",
       "      <th>2</th>\n",
       "      <td>s8</td>\n",
       "      <td>TV Show</td>\n",
       "      <td>Port Protection Alaska</td>\n",
       "      <td>Port Protection Alaska</td>\n",
       "      <td>Gary Muehlberger, Mary Miller, Curly Leach, Sa...</td>\n",
       "      <td>United States</td>\n",
       "      <td>November 24, 2021</td>\n",
       "      <td>2015</td>\n",
       "      <td>TV-14</td>\n",
       "      <td>2 Seasons</td>\n",
       "      <td>Docuseries, Reality, Survival</td>\n",
       "      <td>Residents of Port Protection must combat volat...</td>\n",
       "    </tr>\n",
       "    <tr>\n",
       "      <th>3</th>\n",
       "      <td>s9</td>\n",
       "      <td>TV Show</td>\n",
       "      <td>Secrets of the Zoo: Tampa</td>\n",
       "      <td>Secrets of the Zoo: Tampa</td>\n",
       "      <td>Dr. Ray Ball, Dr. Lauren Smith, Chris Massaro,...</td>\n",
       "      <td>United States</td>\n",
       "      <td>November 24, 2021</td>\n",
       "      <td>2019</td>\n",
       "      <td>TV-PG</td>\n",
       "      <td>2 Seasons</td>\n",
       "      <td>Animals &amp; Nature, Docuseries, Family</td>\n",
       "      <td>A day in the life at ZooTampa is anything but ...</td>\n",
       "    </tr>\n",
       "    <tr>\n",
       "      <th>4</th>\n",
       "      <td>s10</td>\n",
       "      <td>Movie</td>\n",
       "      <td>A Muppets Christmas: Letters To Santa</td>\n",
       "      <td>Kirk R. Thatcher</td>\n",
       "      <td>Steve Whitmire, Dave Goelz, Bill Barretta, Eri...</td>\n",
       "      <td>United States</td>\n",
       "      <td>November 19, 2021</td>\n",
       "      <td>2008</td>\n",
       "      <td>G</td>\n",
       "      <td>45 min</td>\n",
       "      <td>Comedy, Family, Musical</td>\n",
       "      <td>Celebrate the holiday season with all your fav...</td>\n",
       "    </tr>\n",
       "    <tr>\n",
       "      <th>...</th>\n",
       "      <td>...</td>\n",
       "      <td>...</td>\n",
       "      <td>...</td>\n",
       "      <td>...</td>\n",
       "      <td>...</td>\n",
       "      <td>...</td>\n",
       "      <td>...</td>\n",
       "      <td>...</td>\n",
       "      <td>...</td>\n",
       "      <td>...</td>\n",
       "      <td>...</td>\n",
       "      <td>...</td>\n",
       "    </tr>\n",
       "    <tr>\n",
       "      <th>1226</th>\n",
       "      <td>s1446</td>\n",
       "      <td>Movie</td>\n",
       "      <td>X-Men Origins: Wolverine</td>\n",
       "      <td>Gavin Hood</td>\n",
       "      <td>Hugh Jackman, Liev Schreiber, Danny Huston, wi...</td>\n",
       "      <td>United States, United Kingdom</td>\n",
       "      <td>June 4, 2021</td>\n",
       "      <td>2009</td>\n",
       "      <td>PG-13</td>\n",
       "      <td>108 min</td>\n",
       "      <td>Action-Adventure, Family, Science Fiction</td>\n",
       "      <td>Wolverine unites with legendary X-Men to fight...</td>\n",
       "    </tr>\n",
       "    <tr>\n",
       "      <th>1227</th>\n",
       "      <td>s1447</td>\n",
       "      <td>Movie</td>\n",
       "      <td>Night at the Museum: Battle of the Smithsonian</td>\n",
       "      <td>Shawn Levy</td>\n",
       "      <td>Ben Stiller, Amy Adams, Owen Wilson, Hank Azar...</td>\n",
       "      <td>United States, Canada</td>\n",
       "      <td>April 2, 2021</td>\n",
       "      <td>2009</td>\n",
       "      <td>PG</td>\n",
       "      <td>106 min</td>\n",
       "      <td>Action-Adventure, Comedy, Family</td>\n",
       "      <td>Larry Daley returns to rescue some old friends...</td>\n",
       "    </tr>\n",
       "    <tr>\n",
       "      <th>1228</th>\n",
       "      <td>s1448</td>\n",
       "      <td>Movie</td>\n",
       "      <td>Eddie the Eagle</td>\n",
       "      <td>Dexter Fletcher</td>\n",
       "      <td>Tom Costello, Jo Hartley, Keith Allen, Dickon ...</td>\n",
       "      <td>United Kingdom, Germany, United States</td>\n",
       "      <td>December 18, 2020</td>\n",
       "      <td>2016</td>\n",
       "      <td>PG-13</td>\n",
       "      <td>107 min</td>\n",
       "      <td>Biographical, Comedy, Drama</td>\n",
       "      <td>True story of Eddie Edwards, a British ski-jum...</td>\n",
       "    </tr>\n",
       "    <tr>\n",
       "      <th>1229</th>\n",
       "      <td>s1449</td>\n",
       "      <td>Movie</td>\n",
       "      <td>Bend It Like Beckham</td>\n",
       "      <td>Gurinder Chadha</td>\n",
       "      <td>Parminder Nagra, Keira Knightley, Jonathan Rhy...</td>\n",
       "      <td>United Kingdom, Germany, United States</td>\n",
       "      <td>September 18, 2020</td>\n",
       "      <td>2003</td>\n",
       "      <td>PG-13</td>\n",
       "      <td>112 min</td>\n",
       "      <td>Buddy, Comedy, Coming of Age</td>\n",
       "      <td>Despite the wishes of their traditional famili...</td>\n",
       "    </tr>\n",
       "    <tr>\n",
       "      <th>1230</th>\n",
       "      <td>s1450</td>\n",
       "      <td>Movie</td>\n",
       "      <td>Captain Sparky vs. The Flying Saucers</td>\n",
       "      <td>Mark Waring</td>\n",
       "      <td>Charlie Tahan</td>\n",
       "      <td>United States</td>\n",
       "      <td>April 1, 2020</td>\n",
       "      <td>2012</td>\n",
       "      <td>TV-G</td>\n",
       "      <td>2 min</td>\n",
       "      <td>Action-Adventure, Animals &amp; Nature, Animation</td>\n",
       "      <td>View one of Sparky's favorite home movies.</td>\n",
       "    </tr>\n",
       "  </tbody>\n",
       "</table>\n",
       "<p>1231 rows × 12 columns</p>\n",
       "</div>"
      ],
      "text/plain": [
       "     show_id     type                                           title  \\\n",
       "0         s3    Movie                    Ice Age: A Mammoth Christmas   \n",
       "1         s6    Movie                               Becoming Cousteau   \n",
       "2         s8  TV Show                          Port Protection Alaska   \n",
       "3         s9  TV Show                       Secrets of the Zoo: Tampa   \n",
       "4        s10    Movie           A Muppets Christmas: Letters To Santa   \n",
       "...      ...      ...                                             ...   \n",
       "1226   s1446    Movie                        X-Men Origins: Wolverine   \n",
       "1227   s1447    Movie  Night at the Museum: Battle of the Smithsonian   \n",
       "1228   s1448    Movie                                 Eddie the Eagle   \n",
       "1229   s1449    Movie                            Bend It Like Beckham   \n",
       "1230   s1450    Movie           Captain Sparky vs. The Flying Saucers   \n",
       "\n",
       "                       director  \\\n",
       "0                  Karen Disher   \n",
       "1                    Liz Garbus   \n",
       "2        Port Protection Alaska   \n",
       "3     Secrets of the Zoo: Tampa   \n",
       "4              Kirk R. Thatcher   \n",
       "...                         ...   \n",
       "1226                 Gavin Hood   \n",
       "1227                 Shawn Levy   \n",
       "1228            Dexter Fletcher   \n",
       "1229            Gurinder Chadha   \n",
       "1230                Mark Waring   \n",
       "\n",
       "                                                   cast  \\\n",
       "0     Raymond Albert Romano, John Leguizamo, Denis L...   \n",
       "1                 Jacques Yves Cousteau, Vincent Cassel   \n",
       "2     Gary Muehlberger, Mary Miller, Curly Leach, Sa...   \n",
       "3     Dr. Ray Ball, Dr. Lauren Smith, Chris Massaro,...   \n",
       "4     Steve Whitmire, Dave Goelz, Bill Barretta, Eri...   \n",
       "...                                                 ...   \n",
       "1226  Hugh Jackman, Liev Schreiber, Danny Huston, wi...   \n",
       "1227  Ben Stiller, Amy Adams, Owen Wilson, Hank Azar...   \n",
       "1228  Tom Costello, Jo Hartley, Keith Allen, Dickon ...   \n",
       "1229  Parminder Nagra, Keira Knightley, Jonathan Rhy...   \n",
       "1230                                      Charlie Tahan   \n",
       "\n",
       "                                     country          date_added release_year  \\\n",
       "0                              United States   November 26, 2021         2011   \n",
       "1                              United States   November 24, 2021         2021   \n",
       "2                              United States   November 24, 2021         2015   \n",
       "3                              United States   November 24, 2021         2019   \n",
       "4                              United States   November 19, 2021         2008   \n",
       "...                                      ...                 ...          ...   \n",
       "1226           United States, United Kingdom        June 4, 2021         2009   \n",
       "1227                   United States, Canada       April 2, 2021         2009   \n",
       "1228  United Kingdom, Germany, United States   December 18, 2020         2016   \n",
       "1229  United Kingdom, Germany, United States  September 18, 2020         2003   \n",
       "1230                           United States       April 1, 2020         2012   \n",
       "\n",
       "     rating   duration                                      listed_in  \\\n",
       "0      TV-G     23 min                      Animation, Comedy, Family   \n",
       "1     PG-13     94 min                      Biographical, Documentary   \n",
       "2     TV-14  2 Seasons                  Docuseries, Reality, Survival   \n",
       "3     TV-PG  2 Seasons           Animals & Nature, Docuseries, Family   \n",
       "4         G     45 min                        Comedy, Family, Musical   \n",
       "...     ...        ...                                            ...   \n",
       "1226  PG-13    108 min      Action-Adventure, Family, Science Fiction   \n",
       "1227     PG    106 min               Action-Adventure, Comedy, Family   \n",
       "1228  PG-13    107 min                    Biographical, Comedy, Drama   \n",
       "1229  PG-13    112 min                   Buddy, Comedy, Coming of Age   \n",
       "1230   TV-G      2 min  Action-Adventure, Animals & Nature, Animation   \n",
       "\n",
       "                                            description  \n",
       "0             Sid the Sloth is on Santa's naughty list.  \n",
       "1     An inside look at the legendary life of advent...  \n",
       "2     Residents of Port Protection must combat volat...  \n",
       "3     A day in the life at ZooTampa is anything but ...  \n",
       "4     Celebrate the holiday season with all your fav...  \n",
       "...                                                 ...  \n",
       "1226  Wolverine unites with legendary X-Men to fight...  \n",
       "1227  Larry Daley returns to rescue some old friends...  \n",
       "1228  True story of Eddie Edwards, a British ski-jum...  \n",
       "1229  Despite the wishes of their traditional famili...  \n",
       "1230         View one of Sparky's favorite home movies.  \n",
       "\n",
       "[1231 rows x 12 columns]"
      ]
     },
     "execution_count": 244,
     "metadata": {},
     "output_type": "execute_result"
    }
   ],
   "source": [
    "movie6 = movie.fillna(method = 'pad' ,axis = 1)\n",
    "movie6"
   ]
  },
  {
   "cell_type": "code",
   "execution_count": null,
   "id": "ea912360",
   "metadata": {},
   "outputs": [],
   "source": [
    "# >>>>>>>>>> DROPNA() METHOD <<<<<<<<<<<"
   ]
  },
  {
   "cell_type": "code",
   "execution_count": 246,
   "id": "29c5f913",
   "metadata": {},
   "outputs": [
    {
     "data": {
      "text/html": [
       "<div>\n",
       "<style scoped>\n",
       "    .dataframe tbody tr th:only-of-type {\n",
       "        vertical-align: middle;\n",
       "    }\n",
       "\n",
       "    .dataframe tbody tr th {\n",
       "        vertical-align: top;\n",
       "    }\n",
       "\n",
       "    .dataframe thead th {\n",
       "        text-align: right;\n",
       "    }\n",
       "</style>\n",
       "<table border=\"1\" class=\"dataframe\">\n",
       "  <thead>\n",
       "    <tr style=\"text-align: right;\">\n",
       "      <th></th>\n",
       "      <th>show_id</th>\n",
       "      <th>type</th>\n",
       "      <th>title</th>\n",
       "      <th>director</th>\n",
       "      <th>cast</th>\n",
       "      <th>country</th>\n",
       "      <th>date_added</th>\n",
       "      <th>release_year</th>\n",
       "      <th>rating</th>\n",
       "      <th>duration</th>\n",
       "      <th>listed_in</th>\n",
       "      <th>description</th>\n",
       "    </tr>\n",
       "  </thead>\n",
       "  <tbody>\n",
       "    <tr>\n",
       "      <th>0</th>\n",
       "      <td>s3</td>\n",
       "      <td>Movie</td>\n",
       "      <td>Ice Age: A Mammoth Christmas</td>\n",
       "      <td>Karen Disher</td>\n",
       "      <td>Raymond Albert Romano, John Leguizamo, Denis L...</td>\n",
       "      <td>United States</td>\n",
       "      <td>November 26, 2021</td>\n",
       "      <td>2011</td>\n",
       "      <td>TV-G</td>\n",
       "      <td>23 min</td>\n",
       "      <td>Animation, Comedy, Family</td>\n",
       "      <td>Sid the Sloth is on Santa's naughty list.</td>\n",
       "    </tr>\n",
       "    <tr>\n",
       "      <th>1</th>\n",
       "      <td>s6</td>\n",
       "      <td>Movie</td>\n",
       "      <td>Becoming Cousteau</td>\n",
       "      <td>Liz Garbus</td>\n",
       "      <td>Jacques Yves Cousteau, Vincent Cassel</td>\n",
       "      <td>United States</td>\n",
       "      <td>November 24, 2021</td>\n",
       "      <td>2021</td>\n",
       "      <td>PG-13</td>\n",
       "      <td>94 min</td>\n",
       "      <td>Biographical, Documentary</td>\n",
       "      <td>An inside look at the legendary life of advent...</td>\n",
       "    </tr>\n",
       "    <tr>\n",
       "      <th>4</th>\n",
       "      <td>s10</td>\n",
       "      <td>Movie</td>\n",
       "      <td>A Muppets Christmas: Letters To Santa</td>\n",
       "      <td>Kirk R. Thatcher</td>\n",
       "      <td>Steve Whitmire, Dave Goelz, Bill Barretta, Eri...</td>\n",
       "      <td>United States</td>\n",
       "      <td>November 19, 2021</td>\n",
       "      <td>2008</td>\n",
       "      <td>G</td>\n",
       "      <td>45 min</td>\n",
       "      <td>Comedy, Family, Musical</td>\n",
       "      <td>Celebrate the holiday season with all your fav...</td>\n",
       "    </tr>\n",
       "    <tr>\n",
       "      <th>5</th>\n",
       "      <td>s13</td>\n",
       "      <td>Movie</td>\n",
       "      <td>The Pixar Story</td>\n",
       "      <td>Leslie Iwerks</td>\n",
       "      <td>Stacy Keach, John Lasseter, Brad Bird, John Mu...</td>\n",
       "      <td>United States</td>\n",
       "      <td>November 19, 2021</td>\n",
       "      <td>2007</td>\n",
       "      <td>G</td>\n",
       "      <td>91 min</td>\n",
       "      <td>Documentary, Family</td>\n",
       "      <td>A groundbreaking company forever changes the f...</td>\n",
       "    </tr>\n",
       "    <tr>\n",
       "      <th>8</th>\n",
       "      <td>s20</td>\n",
       "      <td>Movie</td>\n",
       "      <td>Enchanted</td>\n",
       "      <td>Kevin Lima</td>\n",
       "      <td>Amy Adams, Patrick Dempsey, James Marsden, Tim...</td>\n",
       "      <td>United States</td>\n",
       "      <td>November 12, 2021</td>\n",
       "      <td>2007</td>\n",
       "      <td>PG</td>\n",
       "      <td>110 min</td>\n",
       "      <td>Comedy, Family, Fantasy</td>\n",
       "      <td>An animated princess winds up in the real worl...</td>\n",
       "    </tr>\n",
       "    <tr>\n",
       "      <th>...</th>\n",
       "      <td>...</td>\n",
       "      <td>...</td>\n",
       "      <td>...</td>\n",
       "      <td>...</td>\n",
       "      <td>...</td>\n",
       "      <td>...</td>\n",
       "      <td>...</td>\n",
       "      <td>...</td>\n",
       "      <td>...</td>\n",
       "      <td>...</td>\n",
       "      <td>...</td>\n",
       "      <td>...</td>\n",
       "    </tr>\n",
       "    <tr>\n",
       "      <th>1226</th>\n",
       "      <td>s1446</td>\n",
       "      <td>Movie</td>\n",
       "      <td>X-Men Origins: Wolverine</td>\n",
       "      <td>Gavin Hood</td>\n",
       "      <td>Hugh Jackman, Liev Schreiber, Danny Huston, wi...</td>\n",
       "      <td>United States, United Kingdom</td>\n",
       "      <td>June 4, 2021</td>\n",
       "      <td>2009</td>\n",
       "      <td>PG-13</td>\n",
       "      <td>108 min</td>\n",
       "      <td>Action-Adventure, Family, Science Fiction</td>\n",
       "      <td>Wolverine unites with legendary X-Men to fight...</td>\n",
       "    </tr>\n",
       "    <tr>\n",
       "      <th>1227</th>\n",
       "      <td>s1447</td>\n",
       "      <td>Movie</td>\n",
       "      <td>Night at the Museum: Battle of the Smithsonian</td>\n",
       "      <td>Shawn Levy</td>\n",
       "      <td>Ben Stiller, Amy Adams, Owen Wilson, Hank Azar...</td>\n",
       "      <td>United States, Canada</td>\n",
       "      <td>April 2, 2021</td>\n",
       "      <td>2009</td>\n",
       "      <td>PG</td>\n",
       "      <td>106 min</td>\n",
       "      <td>Action-Adventure, Comedy, Family</td>\n",
       "      <td>Larry Daley returns to rescue some old friends...</td>\n",
       "    </tr>\n",
       "    <tr>\n",
       "      <th>1228</th>\n",
       "      <td>s1448</td>\n",
       "      <td>Movie</td>\n",
       "      <td>Eddie the Eagle</td>\n",
       "      <td>Dexter Fletcher</td>\n",
       "      <td>Tom Costello, Jo Hartley, Keith Allen, Dickon ...</td>\n",
       "      <td>United Kingdom, Germany, United States</td>\n",
       "      <td>December 18, 2020</td>\n",
       "      <td>2016</td>\n",
       "      <td>PG-13</td>\n",
       "      <td>107 min</td>\n",
       "      <td>Biographical, Comedy, Drama</td>\n",
       "      <td>True story of Eddie Edwards, a British ski-jum...</td>\n",
       "    </tr>\n",
       "    <tr>\n",
       "      <th>1229</th>\n",
       "      <td>s1449</td>\n",
       "      <td>Movie</td>\n",
       "      <td>Bend It Like Beckham</td>\n",
       "      <td>Gurinder Chadha</td>\n",
       "      <td>Parminder Nagra, Keira Knightley, Jonathan Rhy...</td>\n",
       "      <td>United Kingdom, Germany, United States</td>\n",
       "      <td>September 18, 2020</td>\n",
       "      <td>2003</td>\n",
       "      <td>PG-13</td>\n",
       "      <td>112 min</td>\n",
       "      <td>Buddy, Comedy, Coming of Age</td>\n",
       "      <td>Despite the wishes of their traditional famili...</td>\n",
       "    </tr>\n",
       "    <tr>\n",
       "      <th>1230</th>\n",
       "      <td>s1450</td>\n",
       "      <td>Movie</td>\n",
       "      <td>Captain Sparky vs. The Flying Saucers</td>\n",
       "      <td>Mark Waring</td>\n",
       "      <td>Charlie Tahan</td>\n",
       "      <td>United States</td>\n",
       "      <td>April 1, 2020</td>\n",
       "      <td>2012</td>\n",
       "      <td>TV-G</td>\n",
       "      <td>2 min</td>\n",
       "      <td>Action-Adventure, Animals &amp; Nature, Animation</td>\n",
       "      <td>View one of Sparky's favorite home movies.</td>\n",
       "    </tr>\n",
       "  </tbody>\n",
       "</table>\n",
       "<p>818 rows × 12 columns</p>\n",
       "</div>"
      ],
      "text/plain": [
       "     show_id   type                                           title  \\\n",
       "0         s3  Movie                    Ice Age: A Mammoth Christmas   \n",
       "1         s6  Movie                               Becoming Cousteau   \n",
       "4        s10  Movie           A Muppets Christmas: Letters To Santa   \n",
       "5        s13  Movie                                 The Pixar Story   \n",
       "8        s20  Movie                                       Enchanted   \n",
       "...      ...    ...                                             ...   \n",
       "1226   s1446  Movie                        X-Men Origins: Wolverine   \n",
       "1227   s1447  Movie  Night at the Museum: Battle of the Smithsonian   \n",
       "1228   s1448  Movie                                 Eddie the Eagle   \n",
       "1229   s1449  Movie                            Bend It Like Beckham   \n",
       "1230   s1450  Movie           Captain Sparky vs. The Flying Saucers   \n",
       "\n",
       "              director                                               cast  \\\n",
       "0         Karen Disher  Raymond Albert Romano, John Leguizamo, Denis L...   \n",
       "1           Liz Garbus              Jacques Yves Cousteau, Vincent Cassel   \n",
       "4     Kirk R. Thatcher  Steve Whitmire, Dave Goelz, Bill Barretta, Eri...   \n",
       "5        Leslie Iwerks  Stacy Keach, John Lasseter, Brad Bird, John Mu...   \n",
       "8           Kevin Lima  Amy Adams, Patrick Dempsey, James Marsden, Tim...   \n",
       "...                ...                                                ...   \n",
       "1226        Gavin Hood  Hugh Jackman, Liev Schreiber, Danny Huston, wi...   \n",
       "1227        Shawn Levy  Ben Stiller, Amy Adams, Owen Wilson, Hank Azar...   \n",
       "1228   Dexter Fletcher  Tom Costello, Jo Hartley, Keith Allen, Dickon ...   \n",
       "1229   Gurinder Chadha  Parminder Nagra, Keira Knightley, Jonathan Rhy...   \n",
       "1230       Mark Waring                                      Charlie Tahan   \n",
       "\n",
       "                                     country          date_added  \\\n",
       "0                              United States   November 26, 2021   \n",
       "1                              United States   November 24, 2021   \n",
       "4                              United States   November 19, 2021   \n",
       "5                              United States   November 19, 2021   \n",
       "8                              United States   November 12, 2021   \n",
       "...                                      ...                 ...   \n",
       "1226           United States, United Kingdom        June 4, 2021   \n",
       "1227                   United States, Canada       April 2, 2021   \n",
       "1228  United Kingdom, Germany, United States   December 18, 2020   \n",
       "1229  United Kingdom, Germany, United States  September 18, 2020   \n",
       "1230                           United States       April 1, 2020   \n",
       "\n",
       "      release_year rating duration  \\\n",
       "0             2011   TV-G   23 min   \n",
       "1             2021  PG-13   94 min   \n",
       "4             2008      G   45 min   \n",
       "5             2007      G   91 min   \n",
       "8             2007     PG  110 min   \n",
       "...            ...    ...      ...   \n",
       "1226          2009  PG-13  108 min   \n",
       "1227          2009     PG  106 min   \n",
       "1228          2016  PG-13  107 min   \n",
       "1229          2003  PG-13  112 min   \n",
       "1230          2012   TV-G    2 min   \n",
       "\n",
       "                                          listed_in  \\\n",
       "0                         Animation, Comedy, Family   \n",
       "1                         Biographical, Documentary   \n",
       "4                           Comedy, Family, Musical   \n",
       "5                               Documentary, Family   \n",
       "8                           Comedy, Family, Fantasy   \n",
       "...                                             ...   \n",
       "1226      Action-Adventure, Family, Science Fiction   \n",
       "1227               Action-Adventure, Comedy, Family   \n",
       "1228                    Biographical, Comedy, Drama   \n",
       "1229                   Buddy, Comedy, Coming of Age   \n",
       "1230  Action-Adventure, Animals & Nature, Animation   \n",
       "\n",
       "                                            description  \n",
       "0             Sid the Sloth is on Santa's naughty list.  \n",
       "1     An inside look at the legendary life of advent...  \n",
       "4     Celebrate the holiday season with all your fav...  \n",
       "5     A groundbreaking company forever changes the f...  \n",
       "8     An animated princess winds up in the real worl...  \n",
       "...                                                 ...  \n",
       "1226  Wolverine unites with legendary X-Men to fight...  \n",
       "1227  Larry Daley returns to rescue some old friends...  \n",
       "1228  True story of Eddie Edwards, a British ski-jum...  \n",
       "1229  Despite the wishes of their traditional famili...  \n",
       "1230         View one of Sparky's favorite home movies.  \n",
       "\n",
       "[818 rows x 12 columns]"
      ]
     },
     "execution_count": 246,
     "metadata": {},
     "output_type": "execute_result"
    }
   ],
   "source": [
    "movie7 = movie.dropna()\n",
    "movie7"
   ]
  },
  {
   "cell_type": "code",
   "execution_count": 247,
   "id": "80f43b03",
   "metadata": {},
   "outputs": [
    {
     "data": {
      "text/html": [
       "<div>\n",
       "<style scoped>\n",
       "    .dataframe tbody tr th:only-of-type {\n",
       "        vertical-align: middle;\n",
       "    }\n",
       "\n",
       "    .dataframe tbody tr th {\n",
       "        vertical-align: top;\n",
       "    }\n",
       "\n",
       "    .dataframe thead th {\n",
       "        text-align: right;\n",
       "    }\n",
       "</style>\n",
       "<table border=\"1\" class=\"dataframe\">\n",
       "  <thead>\n",
       "    <tr style=\"text-align: right;\">\n",
       "      <th></th>\n",
       "      <th>show_id</th>\n",
       "      <th>type</th>\n",
       "      <th>title</th>\n",
       "      <th>director</th>\n",
       "      <th>cast</th>\n",
       "      <th>country</th>\n",
       "      <th>date_added</th>\n",
       "      <th>release_year</th>\n",
       "      <th>rating</th>\n",
       "      <th>duration</th>\n",
       "      <th>listed_in</th>\n",
       "      <th>description</th>\n",
       "    </tr>\n",
       "  </thead>\n",
       "  <tbody>\n",
       "    <tr>\n",
       "      <th>0</th>\n",
       "      <td>s3</td>\n",
       "      <td>Movie</td>\n",
       "      <td>Ice Age: A Mammoth Christmas</td>\n",
       "      <td>Karen Disher</td>\n",
       "      <td>Raymond Albert Romano, John Leguizamo, Denis L...</td>\n",
       "      <td>United States</td>\n",
       "      <td>November 26, 2021</td>\n",
       "      <td>2011</td>\n",
       "      <td>TV-G</td>\n",
       "      <td>23 min</td>\n",
       "      <td>Animation, Comedy, Family</td>\n",
       "      <td>Sid the Sloth is on Santa's naughty list.</td>\n",
       "    </tr>\n",
       "    <tr>\n",
       "      <th>1</th>\n",
       "      <td>s6</td>\n",
       "      <td>Movie</td>\n",
       "      <td>Becoming Cousteau</td>\n",
       "      <td>Liz Garbus</td>\n",
       "      <td>Jacques Yves Cousteau, Vincent Cassel</td>\n",
       "      <td>United States</td>\n",
       "      <td>November 24, 2021</td>\n",
       "      <td>2021</td>\n",
       "      <td>PG-13</td>\n",
       "      <td>94 min</td>\n",
       "      <td>Biographical, Documentary</td>\n",
       "      <td>An inside look at the legendary life of advent...</td>\n",
       "    </tr>\n",
       "    <tr>\n",
       "      <th>2</th>\n",
       "      <td>s8</td>\n",
       "      <td>TV Show</td>\n",
       "      <td>Port Protection Alaska</td>\n",
       "      <td>NaN</td>\n",
       "      <td>Gary Muehlberger, Mary Miller, Curly Leach, Sa...</td>\n",
       "      <td>United States</td>\n",
       "      <td>November 24, 2021</td>\n",
       "      <td>2015</td>\n",
       "      <td>TV-14</td>\n",
       "      <td>2 Seasons</td>\n",
       "      <td>Docuseries, Reality, Survival</td>\n",
       "      <td>Residents of Port Protection must combat volat...</td>\n",
       "    </tr>\n",
       "    <tr>\n",
       "      <th>3</th>\n",
       "      <td>s9</td>\n",
       "      <td>TV Show</td>\n",
       "      <td>Secrets of the Zoo: Tampa</td>\n",
       "      <td>NaN</td>\n",
       "      <td>Dr. Ray Ball, Dr. Lauren Smith, Chris Massaro,...</td>\n",
       "      <td>United States</td>\n",
       "      <td>November 24, 2021</td>\n",
       "      <td>2019</td>\n",
       "      <td>TV-PG</td>\n",
       "      <td>2 Seasons</td>\n",
       "      <td>Animals &amp; Nature, Docuseries, Family</td>\n",
       "      <td>A day in the life at ZooTampa is anything but ...</td>\n",
       "    </tr>\n",
       "    <tr>\n",
       "      <th>4</th>\n",
       "      <td>s10</td>\n",
       "      <td>Movie</td>\n",
       "      <td>A Muppets Christmas: Letters To Santa</td>\n",
       "      <td>Kirk R. Thatcher</td>\n",
       "      <td>Steve Whitmire, Dave Goelz, Bill Barretta, Eri...</td>\n",
       "      <td>United States</td>\n",
       "      <td>November 19, 2021</td>\n",
       "      <td>2008</td>\n",
       "      <td>G</td>\n",
       "      <td>45 min</td>\n",
       "      <td>Comedy, Family, Musical</td>\n",
       "      <td>Celebrate the holiday season with all your fav...</td>\n",
       "    </tr>\n",
       "    <tr>\n",
       "      <th>...</th>\n",
       "      <td>...</td>\n",
       "      <td>...</td>\n",
       "      <td>...</td>\n",
       "      <td>...</td>\n",
       "      <td>...</td>\n",
       "      <td>...</td>\n",
       "      <td>...</td>\n",
       "      <td>...</td>\n",
       "      <td>...</td>\n",
       "      <td>...</td>\n",
       "      <td>...</td>\n",
       "      <td>...</td>\n",
       "    </tr>\n",
       "    <tr>\n",
       "      <th>1226</th>\n",
       "      <td>s1446</td>\n",
       "      <td>Movie</td>\n",
       "      <td>X-Men Origins: Wolverine</td>\n",
       "      <td>Gavin Hood</td>\n",
       "      <td>Hugh Jackman, Liev Schreiber, Danny Huston, wi...</td>\n",
       "      <td>United States, United Kingdom</td>\n",
       "      <td>June 4, 2021</td>\n",
       "      <td>2009</td>\n",
       "      <td>PG-13</td>\n",
       "      <td>108 min</td>\n",
       "      <td>Action-Adventure, Family, Science Fiction</td>\n",
       "      <td>Wolverine unites with legendary X-Men to fight...</td>\n",
       "    </tr>\n",
       "    <tr>\n",
       "      <th>1227</th>\n",
       "      <td>s1447</td>\n",
       "      <td>Movie</td>\n",
       "      <td>Night at the Museum: Battle of the Smithsonian</td>\n",
       "      <td>Shawn Levy</td>\n",
       "      <td>Ben Stiller, Amy Adams, Owen Wilson, Hank Azar...</td>\n",
       "      <td>United States, Canada</td>\n",
       "      <td>April 2, 2021</td>\n",
       "      <td>2009</td>\n",
       "      <td>PG</td>\n",
       "      <td>106 min</td>\n",
       "      <td>Action-Adventure, Comedy, Family</td>\n",
       "      <td>Larry Daley returns to rescue some old friends...</td>\n",
       "    </tr>\n",
       "    <tr>\n",
       "      <th>1228</th>\n",
       "      <td>s1448</td>\n",
       "      <td>Movie</td>\n",
       "      <td>Eddie the Eagle</td>\n",
       "      <td>Dexter Fletcher</td>\n",
       "      <td>Tom Costello, Jo Hartley, Keith Allen, Dickon ...</td>\n",
       "      <td>United Kingdom, Germany, United States</td>\n",
       "      <td>December 18, 2020</td>\n",
       "      <td>2016</td>\n",
       "      <td>PG-13</td>\n",
       "      <td>107 min</td>\n",
       "      <td>Biographical, Comedy, Drama</td>\n",
       "      <td>True story of Eddie Edwards, a British ski-jum...</td>\n",
       "    </tr>\n",
       "    <tr>\n",
       "      <th>1229</th>\n",
       "      <td>s1449</td>\n",
       "      <td>Movie</td>\n",
       "      <td>Bend It Like Beckham</td>\n",
       "      <td>Gurinder Chadha</td>\n",
       "      <td>Parminder Nagra, Keira Knightley, Jonathan Rhy...</td>\n",
       "      <td>United Kingdom, Germany, United States</td>\n",
       "      <td>September 18, 2020</td>\n",
       "      <td>2003</td>\n",
       "      <td>PG-13</td>\n",
       "      <td>112 min</td>\n",
       "      <td>Buddy, Comedy, Coming of Age</td>\n",
       "      <td>Despite the wishes of their traditional famili...</td>\n",
       "    </tr>\n",
       "    <tr>\n",
       "      <th>1230</th>\n",
       "      <td>s1450</td>\n",
       "      <td>Movie</td>\n",
       "      <td>Captain Sparky vs. The Flying Saucers</td>\n",
       "      <td>Mark Waring</td>\n",
       "      <td>Charlie Tahan</td>\n",
       "      <td>United States</td>\n",
       "      <td>April 1, 2020</td>\n",
       "      <td>2012</td>\n",
       "      <td>TV-G</td>\n",
       "      <td>2 min</td>\n",
       "      <td>Action-Adventure, Animals &amp; Nature, Animation</td>\n",
       "      <td>View one of Sparky's favorite home movies.</td>\n",
       "    </tr>\n",
       "  </tbody>\n",
       "</table>\n",
       "<p>1231 rows × 12 columns</p>\n",
       "</div>"
      ],
      "text/plain": [
       "     show_id     type                                           title  \\\n",
       "0         s3    Movie                    Ice Age: A Mammoth Christmas   \n",
       "1         s6    Movie                               Becoming Cousteau   \n",
       "2         s8  TV Show                          Port Protection Alaska   \n",
       "3         s9  TV Show                       Secrets of the Zoo: Tampa   \n",
       "4        s10    Movie           A Muppets Christmas: Letters To Santa   \n",
       "...      ...      ...                                             ...   \n",
       "1226   s1446    Movie                        X-Men Origins: Wolverine   \n",
       "1227   s1447    Movie  Night at the Museum: Battle of the Smithsonian   \n",
       "1228   s1448    Movie                                 Eddie the Eagle   \n",
       "1229   s1449    Movie                            Bend It Like Beckham   \n",
       "1230   s1450    Movie           Captain Sparky vs. The Flying Saucers   \n",
       "\n",
       "              director                                               cast  \\\n",
       "0         Karen Disher  Raymond Albert Romano, John Leguizamo, Denis L...   \n",
       "1           Liz Garbus              Jacques Yves Cousteau, Vincent Cassel   \n",
       "2                  NaN  Gary Muehlberger, Mary Miller, Curly Leach, Sa...   \n",
       "3                  NaN  Dr. Ray Ball, Dr. Lauren Smith, Chris Massaro,...   \n",
       "4     Kirk R. Thatcher  Steve Whitmire, Dave Goelz, Bill Barretta, Eri...   \n",
       "...                ...                                                ...   \n",
       "1226        Gavin Hood  Hugh Jackman, Liev Schreiber, Danny Huston, wi...   \n",
       "1227        Shawn Levy  Ben Stiller, Amy Adams, Owen Wilson, Hank Azar...   \n",
       "1228   Dexter Fletcher  Tom Costello, Jo Hartley, Keith Allen, Dickon ...   \n",
       "1229   Gurinder Chadha  Parminder Nagra, Keira Knightley, Jonathan Rhy...   \n",
       "1230       Mark Waring                                      Charlie Tahan   \n",
       "\n",
       "                                     country          date_added  \\\n",
       "0                              United States   November 26, 2021   \n",
       "1                              United States   November 24, 2021   \n",
       "2                              United States   November 24, 2021   \n",
       "3                              United States   November 24, 2021   \n",
       "4                              United States   November 19, 2021   \n",
       "...                                      ...                 ...   \n",
       "1226           United States, United Kingdom        June 4, 2021   \n",
       "1227                   United States, Canada       April 2, 2021   \n",
       "1228  United Kingdom, Germany, United States   December 18, 2020   \n",
       "1229  United Kingdom, Germany, United States  September 18, 2020   \n",
       "1230                           United States       April 1, 2020   \n",
       "\n",
       "      release_year rating   duration  \\\n",
       "0             2011   TV-G     23 min   \n",
       "1             2021  PG-13     94 min   \n",
       "2             2015  TV-14  2 Seasons   \n",
       "3             2019  TV-PG  2 Seasons   \n",
       "4             2008      G     45 min   \n",
       "...            ...    ...        ...   \n",
       "1226          2009  PG-13    108 min   \n",
       "1227          2009     PG    106 min   \n",
       "1228          2016  PG-13    107 min   \n",
       "1229          2003  PG-13    112 min   \n",
       "1230          2012   TV-G      2 min   \n",
       "\n",
       "                                          listed_in  \\\n",
       "0                         Animation, Comedy, Family   \n",
       "1                         Biographical, Documentary   \n",
       "2                     Docuseries, Reality, Survival   \n",
       "3              Animals & Nature, Docuseries, Family   \n",
       "4                           Comedy, Family, Musical   \n",
       "...                                             ...   \n",
       "1226      Action-Adventure, Family, Science Fiction   \n",
       "1227               Action-Adventure, Comedy, Family   \n",
       "1228                    Biographical, Comedy, Drama   \n",
       "1229                   Buddy, Comedy, Coming of Age   \n",
       "1230  Action-Adventure, Animals & Nature, Animation   \n",
       "\n",
       "                                            description  \n",
       "0             Sid the Sloth is on Santa's naughty list.  \n",
       "1     An inside look at the legendary life of advent...  \n",
       "2     Residents of Port Protection must combat volat...  \n",
       "3     A day in the life at ZooTampa is anything but ...  \n",
       "4     Celebrate the holiday season with all your fav...  \n",
       "...                                                 ...  \n",
       "1226  Wolverine unites with legendary X-Men to fight...  \n",
       "1227  Larry Daley returns to rescue some old friends...  \n",
       "1228  True story of Eddie Edwards, a British ski-jum...  \n",
       "1229  Despite the wishes of their traditional famili...  \n",
       "1230         View one of Sparky's favorite home movies.  \n",
       "\n",
       "[1231 rows x 12 columns]"
      ]
     },
     "execution_count": 247,
     "metadata": {},
     "output_type": "execute_result"
    }
   ],
   "source": [
    "movie8 = movie.dropna(how='all')\n",
    "movie8"
   ]
  },
  {
   "cell_type": "code",
   "execution_count": 248,
   "id": "ea1a3b38",
   "metadata": {},
   "outputs": [
    {
     "data": {
      "text/html": [
       "<div>\n",
       "<style scoped>\n",
       "    .dataframe tbody tr th:only-of-type {\n",
       "        vertical-align: middle;\n",
       "    }\n",
       "\n",
       "    .dataframe tbody tr th {\n",
       "        vertical-align: top;\n",
       "    }\n",
       "\n",
       "    .dataframe thead th {\n",
       "        text-align: right;\n",
       "    }\n",
       "</style>\n",
       "<table border=\"1\" class=\"dataframe\">\n",
       "  <thead>\n",
       "    <tr style=\"text-align: right;\">\n",
       "      <th></th>\n",
       "      <th>show_id</th>\n",
       "      <th>type</th>\n",
       "      <th>title</th>\n",
       "      <th>director</th>\n",
       "      <th>cast</th>\n",
       "      <th>country</th>\n",
       "      <th>date_added</th>\n",
       "      <th>release_year</th>\n",
       "      <th>rating</th>\n",
       "      <th>duration</th>\n",
       "      <th>listed_in</th>\n",
       "      <th>description</th>\n",
       "    </tr>\n",
       "  </thead>\n",
       "  <tbody>\n",
       "    <tr>\n",
       "      <th>0</th>\n",
       "      <td>s3</td>\n",
       "      <td>Movie</td>\n",
       "      <td>Ice Age: A Mammoth Christmas</td>\n",
       "      <td>Karen Disher</td>\n",
       "      <td>Raymond Albert Romano, John Leguizamo, Denis L...</td>\n",
       "      <td>United States</td>\n",
       "      <td>November 26, 2021</td>\n",
       "      <td>2011</td>\n",
       "      <td>TV-G</td>\n",
       "      <td>23 min</td>\n",
       "      <td>Animation, Comedy, Family</td>\n",
       "      <td>Sid the Sloth is on Santa's naughty list.</td>\n",
       "    </tr>\n",
       "    <tr>\n",
       "      <th>1</th>\n",
       "      <td>s6</td>\n",
       "      <td>Movie</td>\n",
       "      <td>Becoming Cousteau</td>\n",
       "      <td>Liz Garbus</td>\n",
       "      <td>Jacques Yves Cousteau, Vincent Cassel</td>\n",
       "      <td>United States</td>\n",
       "      <td>November 24, 2021</td>\n",
       "      <td>2021</td>\n",
       "      <td>PG-13</td>\n",
       "      <td>94 min</td>\n",
       "      <td>Biographical, Documentary</td>\n",
       "      <td>An inside look at the legendary life of advent...</td>\n",
       "    </tr>\n",
       "    <tr>\n",
       "      <th>4</th>\n",
       "      <td>s10</td>\n",
       "      <td>Movie</td>\n",
       "      <td>A Muppets Christmas: Letters To Santa</td>\n",
       "      <td>Kirk R. Thatcher</td>\n",
       "      <td>Steve Whitmire, Dave Goelz, Bill Barretta, Eri...</td>\n",
       "      <td>United States</td>\n",
       "      <td>November 19, 2021</td>\n",
       "      <td>2008</td>\n",
       "      <td>G</td>\n",
       "      <td>45 min</td>\n",
       "      <td>Comedy, Family, Musical</td>\n",
       "      <td>Celebrate the holiday season with all your fav...</td>\n",
       "    </tr>\n",
       "    <tr>\n",
       "      <th>5</th>\n",
       "      <td>s13</td>\n",
       "      <td>Movie</td>\n",
       "      <td>The Pixar Story</td>\n",
       "      <td>Leslie Iwerks</td>\n",
       "      <td>Stacy Keach, John Lasseter, Brad Bird, John Mu...</td>\n",
       "      <td>United States</td>\n",
       "      <td>November 19, 2021</td>\n",
       "      <td>2007</td>\n",
       "      <td>G</td>\n",
       "      <td>91 min</td>\n",
       "      <td>Documentary, Family</td>\n",
       "      <td>A groundbreaking company forever changes the f...</td>\n",
       "    </tr>\n",
       "    <tr>\n",
       "      <th>8</th>\n",
       "      <td>s20</td>\n",
       "      <td>Movie</td>\n",
       "      <td>Enchanted</td>\n",
       "      <td>Kevin Lima</td>\n",
       "      <td>Amy Adams, Patrick Dempsey, James Marsden, Tim...</td>\n",
       "      <td>United States</td>\n",
       "      <td>November 12, 2021</td>\n",
       "      <td>2007</td>\n",
       "      <td>PG</td>\n",
       "      <td>110 min</td>\n",
       "      <td>Comedy, Family, Fantasy</td>\n",
       "      <td>An animated princess winds up in the real worl...</td>\n",
       "    </tr>\n",
       "    <tr>\n",
       "      <th>...</th>\n",
       "      <td>...</td>\n",
       "      <td>...</td>\n",
       "      <td>...</td>\n",
       "      <td>...</td>\n",
       "      <td>...</td>\n",
       "      <td>...</td>\n",
       "      <td>...</td>\n",
       "      <td>...</td>\n",
       "      <td>...</td>\n",
       "      <td>...</td>\n",
       "      <td>...</td>\n",
       "      <td>...</td>\n",
       "    </tr>\n",
       "    <tr>\n",
       "      <th>1226</th>\n",
       "      <td>s1446</td>\n",
       "      <td>Movie</td>\n",
       "      <td>X-Men Origins: Wolverine</td>\n",
       "      <td>Gavin Hood</td>\n",
       "      <td>Hugh Jackman, Liev Schreiber, Danny Huston, wi...</td>\n",
       "      <td>United States, United Kingdom</td>\n",
       "      <td>June 4, 2021</td>\n",
       "      <td>2009</td>\n",
       "      <td>PG-13</td>\n",
       "      <td>108 min</td>\n",
       "      <td>Action-Adventure, Family, Science Fiction</td>\n",
       "      <td>Wolverine unites with legendary X-Men to fight...</td>\n",
       "    </tr>\n",
       "    <tr>\n",
       "      <th>1227</th>\n",
       "      <td>s1447</td>\n",
       "      <td>Movie</td>\n",
       "      <td>Night at the Museum: Battle of the Smithsonian</td>\n",
       "      <td>Shawn Levy</td>\n",
       "      <td>Ben Stiller, Amy Adams, Owen Wilson, Hank Azar...</td>\n",
       "      <td>United States, Canada</td>\n",
       "      <td>April 2, 2021</td>\n",
       "      <td>2009</td>\n",
       "      <td>PG</td>\n",
       "      <td>106 min</td>\n",
       "      <td>Action-Adventure, Comedy, Family</td>\n",
       "      <td>Larry Daley returns to rescue some old friends...</td>\n",
       "    </tr>\n",
       "    <tr>\n",
       "      <th>1228</th>\n",
       "      <td>s1448</td>\n",
       "      <td>Movie</td>\n",
       "      <td>Eddie the Eagle</td>\n",
       "      <td>Dexter Fletcher</td>\n",
       "      <td>Tom Costello, Jo Hartley, Keith Allen, Dickon ...</td>\n",
       "      <td>United Kingdom, Germany, United States</td>\n",
       "      <td>December 18, 2020</td>\n",
       "      <td>2016</td>\n",
       "      <td>PG-13</td>\n",
       "      <td>107 min</td>\n",
       "      <td>Biographical, Comedy, Drama</td>\n",
       "      <td>True story of Eddie Edwards, a British ski-jum...</td>\n",
       "    </tr>\n",
       "    <tr>\n",
       "      <th>1229</th>\n",
       "      <td>s1449</td>\n",
       "      <td>Movie</td>\n",
       "      <td>Bend It Like Beckham</td>\n",
       "      <td>Gurinder Chadha</td>\n",
       "      <td>Parminder Nagra, Keira Knightley, Jonathan Rhy...</td>\n",
       "      <td>United Kingdom, Germany, United States</td>\n",
       "      <td>September 18, 2020</td>\n",
       "      <td>2003</td>\n",
       "      <td>PG-13</td>\n",
       "      <td>112 min</td>\n",
       "      <td>Buddy, Comedy, Coming of Age</td>\n",
       "      <td>Despite the wishes of their traditional famili...</td>\n",
       "    </tr>\n",
       "    <tr>\n",
       "      <th>1230</th>\n",
       "      <td>s1450</td>\n",
       "      <td>Movie</td>\n",
       "      <td>Captain Sparky vs. The Flying Saucers</td>\n",
       "      <td>Mark Waring</td>\n",
       "      <td>Charlie Tahan</td>\n",
       "      <td>United States</td>\n",
       "      <td>April 1, 2020</td>\n",
       "      <td>2012</td>\n",
       "      <td>TV-G</td>\n",
       "      <td>2 min</td>\n",
       "      <td>Action-Adventure, Animals &amp; Nature, Animation</td>\n",
       "      <td>View one of Sparky's favorite home movies.</td>\n",
       "    </tr>\n",
       "  </tbody>\n",
       "</table>\n",
       "<p>818 rows × 12 columns</p>\n",
       "</div>"
      ],
      "text/plain": [
       "     show_id   type                                           title  \\\n",
       "0         s3  Movie                    Ice Age: A Mammoth Christmas   \n",
       "1         s6  Movie                               Becoming Cousteau   \n",
       "4        s10  Movie           A Muppets Christmas: Letters To Santa   \n",
       "5        s13  Movie                                 The Pixar Story   \n",
       "8        s20  Movie                                       Enchanted   \n",
       "...      ...    ...                                             ...   \n",
       "1226   s1446  Movie                        X-Men Origins: Wolverine   \n",
       "1227   s1447  Movie  Night at the Museum: Battle of the Smithsonian   \n",
       "1228   s1448  Movie                                 Eddie the Eagle   \n",
       "1229   s1449  Movie                            Bend It Like Beckham   \n",
       "1230   s1450  Movie           Captain Sparky vs. The Flying Saucers   \n",
       "\n",
       "              director                                               cast  \\\n",
       "0         Karen Disher  Raymond Albert Romano, John Leguizamo, Denis L...   \n",
       "1           Liz Garbus              Jacques Yves Cousteau, Vincent Cassel   \n",
       "4     Kirk R. Thatcher  Steve Whitmire, Dave Goelz, Bill Barretta, Eri...   \n",
       "5        Leslie Iwerks  Stacy Keach, John Lasseter, Brad Bird, John Mu...   \n",
       "8           Kevin Lima  Amy Adams, Patrick Dempsey, James Marsden, Tim...   \n",
       "...                ...                                                ...   \n",
       "1226        Gavin Hood  Hugh Jackman, Liev Schreiber, Danny Huston, wi...   \n",
       "1227        Shawn Levy  Ben Stiller, Amy Adams, Owen Wilson, Hank Azar...   \n",
       "1228   Dexter Fletcher  Tom Costello, Jo Hartley, Keith Allen, Dickon ...   \n",
       "1229   Gurinder Chadha  Parminder Nagra, Keira Knightley, Jonathan Rhy...   \n",
       "1230       Mark Waring                                      Charlie Tahan   \n",
       "\n",
       "                                     country          date_added  \\\n",
       "0                              United States   November 26, 2021   \n",
       "1                              United States   November 24, 2021   \n",
       "4                              United States   November 19, 2021   \n",
       "5                              United States   November 19, 2021   \n",
       "8                              United States   November 12, 2021   \n",
       "...                                      ...                 ...   \n",
       "1226           United States, United Kingdom        June 4, 2021   \n",
       "1227                   United States, Canada       April 2, 2021   \n",
       "1228  United Kingdom, Germany, United States   December 18, 2020   \n",
       "1229  United Kingdom, Germany, United States  September 18, 2020   \n",
       "1230                           United States       April 1, 2020   \n",
       "\n",
       "      release_year rating duration  \\\n",
       "0             2011   TV-G   23 min   \n",
       "1             2021  PG-13   94 min   \n",
       "4             2008      G   45 min   \n",
       "5             2007      G   91 min   \n",
       "8             2007     PG  110 min   \n",
       "...            ...    ...      ...   \n",
       "1226          2009  PG-13  108 min   \n",
       "1227          2009     PG  106 min   \n",
       "1228          2016  PG-13  107 min   \n",
       "1229          2003  PG-13  112 min   \n",
       "1230          2012   TV-G    2 min   \n",
       "\n",
       "                                          listed_in  \\\n",
       "0                         Animation, Comedy, Family   \n",
       "1                         Biographical, Documentary   \n",
       "4                           Comedy, Family, Musical   \n",
       "5                               Documentary, Family   \n",
       "8                           Comedy, Family, Fantasy   \n",
       "...                                             ...   \n",
       "1226      Action-Adventure, Family, Science Fiction   \n",
       "1227               Action-Adventure, Comedy, Family   \n",
       "1228                    Biographical, Comedy, Drama   \n",
       "1229                   Buddy, Comedy, Coming of Age   \n",
       "1230  Action-Adventure, Animals & Nature, Animation   \n",
       "\n",
       "                                            description  \n",
       "0             Sid the Sloth is on Santa's naughty list.  \n",
       "1     An inside look at the legendary life of advent...  \n",
       "4     Celebrate the holiday season with all your fav...  \n",
       "5     A groundbreaking company forever changes the f...  \n",
       "8     An animated princess winds up in the real worl...  \n",
       "...                                                 ...  \n",
       "1226  Wolverine unites with legendary X-Men to fight...  \n",
       "1227  Larry Daley returns to rescue some old friends...  \n",
       "1228  True story of Eddie Edwards, a British ski-jum...  \n",
       "1229  Despite the wishes of their traditional famili...  \n",
       "1230         View one of Sparky's favorite home movies.  \n",
       "\n",
       "[818 rows x 12 columns]"
      ]
     },
     "execution_count": 248,
     "metadata": {},
     "output_type": "execute_result"
    }
   ],
   "source": [
    "movie9 = movie.dropna(how='any')\n",
    "movie9"
   ]
  },
  {
   "cell_type": "code",
   "execution_count": null,
   "id": "fe7c95e3",
   "metadata": {},
   "outputs": [],
   "source": [
    "# >>>>>>>>> REPLACE () METHOD <<<<<<<<<<<"
   ]
  },
  {
   "cell_type": "code",
   "execution_count": 251,
   "id": "92396a3e",
   "metadata": {},
   "outputs": [
    {
     "data": {
      "text/html": [
       "<div>\n",
       "<style scoped>\n",
       "    .dataframe tbody tr th:only-of-type {\n",
       "        vertical-align: middle;\n",
       "    }\n",
       "\n",
       "    .dataframe tbody tr th {\n",
       "        vertical-align: top;\n",
       "    }\n",
       "\n",
       "    .dataframe thead th {\n",
       "        text-align: right;\n",
       "    }\n",
       "</style>\n",
       "<table border=\"1\" class=\"dataframe\">\n",
       "  <thead>\n",
       "    <tr style=\"text-align: right;\">\n",
       "      <th></th>\n",
       "      <th>show_id</th>\n",
       "      <th>type</th>\n",
       "      <th>title</th>\n",
       "      <th>director</th>\n",
       "      <th>cast</th>\n",
       "      <th>country</th>\n",
       "      <th>date_added</th>\n",
       "      <th>release_year</th>\n",
       "      <th>rating</th>\n",
       "      <th>duration</th>\n",
       "      <th>listed_in</th>\n",
       "      <th>description</th>\n",
       "    </tr>\n",
       "  </thead>\n",
       "  <tbody>\n",
       "    <tr>\n",
       "      <th>0</th>\n",
       "      <td>s3</td>\n",
       "      <td>Movie</td>\n",
       "      <td>Ice Age: A Mammoth Christmas</td>\n",
       "      <td>Karen Disher</td>\n",
       "      <td>Raymond Albert Romano, John Leguizamo, Denis L...</td>\n",
       "      <td>United States</td>\n",
       "      <td>November 26, 2021</td>\n",
       "      <td>2011</td>\n",
       "      <td>TV-G</td>\n",
       "      <td>23 min</td>\n",
       "      <td>Animation, Comedy, Family</td>\n",
       "      <td>Sid the Sloth is on Santa's naughty list.</td>\n",
       "    </tr>\n",
       "    <tr>\n",
       "      <th>1</th>\n",
       "      <td>s6</td>\n",
       "      <td>Movie</td>\n",
       "      <td>Becoming Cousteau</td>\n",
       "      <td>Liz Garbus</td>\n",
       "      <td>Jacques Yves Cousteau, Vincent Cassel</td>\n",
       "      <td>United States</td>\n",
       "      <td>November 24, 2021</td>\n",
       "      <td>2021</td>\n",
       "      <td>PG-13</td>\n",
       "      <td>94 min</td>\n",
       "      <td>Biographical, Documentary</td>\n",
       "      <td>An inside look at the legendary life of advent...</td>\n",
       "    </tr>\n",
       "    <tr>\n",
       "      <th>2</th>\n",
       "      <td>s8</td>\n",
       "      <td>TV Show</td>\n",
       "      <td>Port Protection Alaska</td>\n",
       "      <td>125</td>\n",
       "      <td>Gary Muehlberger, Mary Miller, Curly Leach, Sa...</td>\n",
       "      <td>United States</td>\n",
       "      <td>November 24, 2021</td>\n",
       "      <td>2015</td>\n",
       "      <td>TV-14</td>\n",
       "      <td>2 Seasons</td>\n",
       "      <td>Docuseries, Reality, Survival</td>\n",
       "      <td>Residents of Port Protection must combat volat...</td>\n",
       "    </tr>\n",
       "    <tr>\n",
       "      <th>3</th>\n",
       "      <td>s9</td>\n",
       "      <td>TV Show</td>\n",
       "      <td>Secrets of the Zoo: Tampa</td>\n",
       "      <td>125</td>\n",
       "      <td>Dr. Ray Ball, Dr. Lauren Smith, Chris Massaro,...</td>\n",
       "      <td>United States</td>\n",
       "      <td>November 24, 2021</td>\n",
       "      <td>2019</td>\n",
       "      <td>TV-PG</td>\n",
       "      <td>2 Seasons</td>\n",
       "      <td>Animals &amp; Nature, Docuseries, Family</td>\n",
       "      <td>A day in the life at ZooTampa is anything but ...</td>\n",
       "    </tr>\n",
       "    <tr>\n",
       "      <th>4</th>\n",
       "      <td>s10</td>\n",
       "      <td>Movie</td>\n",
       "      <td>A Muppets Christmas: Letters To Santa</td>\n",
       "      <td>Kirk R. Thatcher</td>\n",
       "      <td>Steve Whitmire, Dave Goelz, Bill Barretta, Eri...</td>\n",
       "      <td>United States</td>\n",
       "      <td>November 19, 2021</td>\n",
       "      <td>2008</td>\n",
       "      <td>G</td>\n",
       "      <td>45 min</td>\n",
       "      <td>Comedy, Family, Musical</td>\n",
       "      <td>Celebrate the holiday season with all your fav...</td>\n",
       "    </tr>\n",
       "    <tr>\n",
       "      <th>...</th>\n",
       "      <td>...</td>\n",
       "      <td>...</td>\n",
       "      <td>...</td>\n",
       "      <td>...</td>\n",
       "      <td>...</td>\n",
       "      <td>...</td>\n",
       "      <td>...</td>\n",
       "      <td>...</td>\n",
       "      <td>...</td>\n",
       "      <td>...</td>\n",
       "      <td>...</td>\n",
       "      <td>...</td>\n",
       "    </tr>\n",
       "    <tr>\n",
       "      <th>1226</th>\n",
       "      <td>s1446</td>\n",
       "      <td>Movie</td>\n",
       "      <td>X-Men Origins: Wolverine</td>\n",
       "      <td>Gavin Hood</td>\n",
       "      <td>Hugh Jackman, Liev Schreiber, Danny Huston, wi...</td>\n",
       "      <td>United States, United Kingdom</td>\n",
       "      <td>June 4, 2021</td>\n",
       "      <td>2009</td>\n",
       "      <td>PG-13</td>\n",
       "      <td>108 min</td>\n",
       "      <td>Action-Adventure, Family, Science Fiction</td>\n",
       "      <td>Wolverine unites with legendary X-Men to fight...</td>\n",
       "    </tr>\n",
       "    <tr>\n",
       "      <th>1227</th>\n",
       "      <td>s1447</td>\n",
       "      <td>Movie</td>\n",
       "      <td>Night at the Museum: Battle of the Smithsonian</td>\n",
       "      <td>Shawn Levy</td>\n",
       "      <td>Ben Stiller, Amy Adams, Owen Wilson, Hank Azar...</td>\n",
       "      <td>United States, Canada</td>\n",
       "      <td>April 2, 2021</td>\n",
       "      <td>2009</td>\n",
       "      <td>PG</td>\n",
       "      <td>106 min</td>\n",
       "      <td>Action-Adventure, Comedy, Family</td>\n",
       "      <td>Larry Daley returns to rescue some old friends...</td>\n",
       "    </tr>\n",
       "    <tr>\n",
       "      <th>1228</th>\n",
       "      <td>s1448</td>\n",
       "      <td>Movie</td>\n",
       "      <td>Eddie the Eagle</td>\n",
       "      <td>Dexter Fletcher</td>\n",
       "      <td>Tom Costello, Jo Hartley, Keith Allen, Dickon ...</td>\n",
       "      <td>United Kingdom, Germany, United States</td>\n",
       "      <td>December 18, 2020</td>\n",
       "      <td>2016</td>\n",
       "      <td>PG-13</td>\n",
       "      <td>107 min</td>\n",
       "      <td>Biographical, Comedy, Drama</td>\n",
       "      <td>True story of Eddie Edwards, a British ski-jum...</td>\n",
       "    </tr>\n",
       "    <tr>\n",
       "      <th>1229</th>\n",
       "      <td>s1449</td>\n",
       "      <td>Movie</td>\n",
       "      <td>Bend It Like Beckham</td>\n",
       "      <td>Gurinder Chadha</td>\n",
       "      <td>Parminder Nagra, Keira Knightley, Jonathan Rhy...</td>\n",
       "      <td>United Kingdom, Germany, United States</td>\n",
       "      <td>September 18, 2020</td>\n",
       "      <td>2003</td>\n",
       "      <td>PG-13</td>\n",
       "      <td>112 min</td>\n",
       "      <td>Buddy, Comedy, Coming of Age</td>\n",
       "      <td>Despite the wishes of their traditional famili...</td>\n",
       "    </tr>\n",
       "    <tr>\n",
       "      <th>1230</th>\n",
       "      <td>s1450</td>\n",
       "      <td>Movie</td>\n",
       "      <td>Captain Sparky vs. The Flying Saucers</td>\n",
       "      <td>Mark Waring</td>\n",
       "      <td>Charlie Tahan</td>\n",
       "      <td>United States</td>\n",
       "      <td>April 1, 2020</td>\n",
       "      <td>2012</td>\n",
       "      <td>TV-G</td>\n",
       "      <td>2 min</td>\n",
       "      <td>Action-Adventure, Animals &amp; Nature, Animation</td>\n",
       "      <td>View one of Sparky's favorite home movies.</td>\n",
       "    </tr>\n",
       "  </tbody>\n",
       "</table>\n",
       "<p>1231 rows × 12 columns</p>\n",
       "</div>"
      ],
      "text/plain": [
       "     show_id     type                                           title  \\\n",
       "0         s3    Movie                    Ice Age: A Mammoth Christmas   \n",
       "1         s6    Movie                               Becoming Cousteau   \n",
       "2         s8  TV Show                          Port Protection Alaska   \n",
       "3         s9  TV Show                       Secrets of the Zoo: Tampa   \n",
       "4        s10    Movie           A Muppets Christmas: Letters To Santa   \n",
       "...      ...      ...                                             ...   \n",
       "1226   s1446    Movie                        X-Men Origins: Wolverine   \n",
       "1227   s1447    Movie  Night at the Museum: Battle of the Smithsonian   \n",
       "1228   s1448    Movie                                 Eddie the Eagle   \n",
       "1229   s1449    Movie                            Bend It Like Beckham   \n",
       "1230   s1450    Movie           Captain Sparky vs. The Flying Saucers   \n",
       "\n",
       "              director                                               cast  \\\n",
       "0         Karen Disher  Raymond Albert Romano, John Leguizamo, Denis L...   \n",
       "1           Liz Garbus              Jacques Yves Cousteau, Vincent Cassel   \n",
       "2                  125  Gary Muehlberger, Mary Miller, Curly Leach, Sa...   \n",
       "3                  125  Dr. Ray Ball, Dr. Lauren Smith, Chris Massaro,...   \n",
       "4     Kirk R. Thatcher  Steve Whitmire, Dave Goelz, Bill Barretta, Eri...   \n",
       "...                ...                                                ...   \n",
       "1226        Gavin Hood  Hugh Jackman, Liev Schreiber, Danny Huston, wi...   \n",
       "1227        Shawn Levy  Ben Stiller, Amy Adams, Owen Wilson, Hank Azar...   \n",
       "1228   Dexter Fletcher  Tom Costello, Jo Hartley, Keith Allen, Dickon ...   \n",
       "1229   Gurinder Chadha  Parminder Nagra, Keira Knightley, Jonathan Rhy...   \n",
       "1230       Mark Waring                                      Charlie Tahan   \n",
       "\n",
       "                                     country          date_added  \\\n",
       "0                              United States   November 26, 2021   \n",
       "1                              United States   November 24, 2021   \n",
       "2                              United States   November 24, 2021   \n",
       "3                              United States   November 24, 2021   \n",
       "4                              United States   November 19, 2021   \n",
       "...                                      ...                 ...   \n",
       "1226           United States, United Kingdom        June 4, 2021   \n",
       "1227                   United States, Canada       April 2, 2021   \n",
       "1228  United Kingdom, Germany, United States   December 18, 2020   \n",
       "1229  United Kingdom, Germany, United States  September 18, 2020   \n",
       "1230                           United States       April 1, 2020   \n",
       "\n",
       "      release_year rating   duration  \\\n",
       "0             2011   TV-G     23 min   \n",
       "1             2021  PG-13     94 min   \n",
       "2             2015  TV-14  2 Seasons   \n",
       "3             2019  TV-PG  2 Seasons   \n",
       "4             2008      G     45 min   \n",
       "...            ...    ...        ...   \n",
       "1226          2009  PG-13    108 min   \n",
       "1227          2009     PG    106 min   \n",
       "1228          2016  PG-13    107 min   \n",
       "1229          2003  PG-13    112 min   \n",
       "1230          2012   TV-G      2 min   \n",
       "\n",
       "                                          listed_in  \\\n",
       "0                         Animation, Comedy, Family   \n",
       "1                         Biographical, Documentary   \n",
       "2                     Docuseries, Reality, Survival   \n",
       "3              Animals & Nature, Docuseries, Family   \n",
       "4                           Comedy, Family, Musical   \n",
       "...                                             ...   \n",
       "1226      Action-Adventure, Family, Science Fiction   \n",
       "1227               Action-Adventure, Comedy, Family   \n",
       "1228                    Biographical, Comedy, Drama   \n",
       "1229                   Buddy, Comedy, Coming of Age   \n",
       "1230  Action-Adventure, Animals & Nature, Animation   \n",
       "\n",
       "                                            description  \n",
       "0             Sid the Sloth is on Santa's naughty list.  \n",
       "1     An inside look at the legendary life of advent...  \n",
       "2     Residents of Port Protection must combat volat...  \n",
       "3     A day in the life at ZooTampa is anything but ...  \n",
       "4     Celebrate the holiday season with all your fav...  \n",
       "...                                                 ...  \n",
       "1226  Wolverine unites with legendary X-Men to fight...  \n",
       "1227  Larry Daley returns to rescue some old friends...  \n",
       "1228  True story of Eddie Edwards, a British ski-jum...  \n",
       "1229  Despite the wishes of their traditional famili...  \n",
       "1230         View one of Sparky's favorite home movies.  \n",
       "\n",
       "[1231 rows x 12 columns]"
      ]
     },
     "execution_count": 251,
     "metadata": {},
     "output_type": "execute_result"
    }
   ],
   "source": [
    "movie10 = movie.replace(to_replace=np.nan, value=125)\n",
    "movie10"
   ]
  },
  {
   "cell_type": "markdown",
   "id": "d923529a",
   "metadata": {},
   "source": [
    "# ....... DATA VISUALIZATION ......"
   ]
  },
  {
   "cell_type": "markdown",
   "id": "7ac7a7a7",
   "metadata": {},
   "source": [
    "# Import matplotlib library..."
   ]
  },
  {
   "cell_type": "code",
   "execution_count": 252,
   "id": "ea49f2b7",
   "metadata": {},
   "outputs": [],
   "source": [
    "from matplotlib import pyplot as plt"
   ]
  },
  {
   "cell_type": "code",
   "execution_count": 253,
   "id": "b848efe1",
   "metadata": {},
   "outputs": [
    {
     "data": {
      "image/png": "[encoded data removed]",
      "text/plain": [
       "<Figure size 432x288 with 1 Axes>"
      ]
     },
     "metadata": {
      "needs_background": "light"
     },
     "output_type": "display_data"
    }
   ],
   "source": [
    "x=[1,2,3]\n",
    "y=[7,4,9]\n",
    "\n",
    "plt.plot(x,y)\n",
    "plt.title(\"first\")\n",
    "plt.xlabel(\"x\")\n",
    "plt.ylabel(\"y\")\n",
    "\n",
    "plt.show()"
   ]
  },
  {
   "cell_type": "code",
   "execution_count": 254,
   "id": "6ee2a6e6",
   "metadata": {},
   "outputs": [
    {
     "data": {
      "image/png": "[encoded data removed]",
      "text/plain": [
       "<Figure size 432x288 with 1 Axes>"
      ]
     },
     "metadata": {
      "needs_background": "light"
     },
     "output_type": "display_data"
    }
   ],
   "source": [
    "x=[4,5,6]\n",
    "y=[7,8,9]\n",
    "z=[10,5,0]\n",
    "plt.plot(x,y)\n",
    "plt.plot(x,z)\n",
    "plt.title(\"first\")\n",
    "plt.xlabel(\"x\")\n",
    "plt.ylabel(\"y and z\")\n",
    "plt.legend([\"this is y\",\"this is z\"])\n",
    "plt.show()\n"
   ]
  },
  {
   "cell_type": "code",
   "execution_count": 255,
   "id": "efb13c51",
   "metadata": {},
   "outputs": [
    {
     "data": {
      "text/plain": [
       "[<matplotlib.lines.Line2D at 0x11f0015a790>]"
      ]
     },
     "execution_count": 255,
     "metadata": {},
     "output_type": "execute_result"
    },
    {
     "data": {
      "image/png": "[encoded data removed]",
      "text/plain": [
       "<Figure size 432x288 with 1 Axes>"
      ]
     },
     "metadata": {
      "needs_background": "light"
     },
     "output_type": "display_data"
    }
   ],
   "source": [
    "y1 = [3, 8, 1, 10]\n",
    "y2 = [6, 2, 7, 11]\n",
    "\n",
    "plt.plot(y1)\n",
    "plt.plot(y2)"
   ]
  },
  {
   "cell_type": "code",
   "execution_count": 259,
   "id": "0b41b407",
   "metadata": {},
   "outputs": [
    {
     "data": {
      "text/plain": [
       "<matplotlib.legend.Legend at 0x11f001e63a0>"
      ]
     },
     "execution_count": 259,
     "metadata": {},
     "output_type": "execute_result"
    },
    {
     "data": {
      "image/png": "[encoded data removed]",
      "text/plain": [
       "<Figure size 432x288 with 1 Axes>"
      ]
     },
     "metadata": {
      "needs_background": "light"
     },
     "output_type": "display_data"
    }
   ],
   "source": [
    "y=[11,22,33,44,55]\n",
    "z=[15,30,45,60,75]\n",
    "u=[10,20,30,40,50]\n",
    "plt.plot(y,marker='o')\n",
    "plt.plot(z,marker='D')\n",
    "plt.plot(u,marker='>')\n",
    "plt.legend([\"this is y\",\"this is z\",\"this is u\"])"
   ]
  },
  {
   "cell_type": "code",
   "execution_count": null,
   "id": "a6807aad",
   "metadata": {},
   "outputs": [],
   "source": []
  },
  {
   "cell_type": "code",
   "execution_count": null,
   "id": "3e922ba8",
   "metadata": {},
   "outputs": [],
   "source": [
    "# >>>>>>> BAR GRAPH <<<<<<<<<<"
   ]
  },
  {
   "cell_type": "code",
   "execution_count": 263,
   "id": "8c21dd1d",
   "metadata": {},
   "outputs": [
    {
     "data": {
      "text/plain": [
       "<BarContainer object of 7 artists>"
      ]
     },
     "execution_count": 263,
     "metadata": {},
     "output_type": "execute_result"
    },
    {
     "data": {
      "image/png": "[encoded data removed]",
      "text/plain": [
       "<Figure size 432x288 with 1 Axes>"
      ]
     },
     "metadata": {
      "needs_background": "light"
     },
     "output_type": "display_data"
    }
   ],
   "source": [
    "x = [\"K\", \"A\", \"L\", \"Y\",\"A\",\"N\",\"I\"]\n",
    "y = [3, 8, 1, 10, 5, 9, 7]\n",
    "\n",
    "plt.bar(x,y,color = \"red\",width=0.9)"
   ]
  },
  {
   "cell_type": "code",
   "execution_count": null,
   "id": "9901ee73",
   "metadata": {},
   "outputs": [],
   "source": []
  },
  {
   "cell_type": "code",
   "execution_count": null,
   "id": "bc0bdd37",
   "metadata": {},
   "outputs": [],
   "source": [
    "# >>>>>>>> HISTOGRAM <<<<<<<<<"
   ]
  },
  {
   "cell_type": "code",
   "execution_count": 264,
   "id": "48b24ed9",
   "metadata": {},
   "outputs": [
    {
     "data": {
      "image/png": "[encoded data removed]",
      "text/plain": [
       "<Figure size 432x288 with 1 Axes>"
      ]
     },
     "metadata": {
      "needs_background": "light"
     },
     "output_type": "display_data"
    }
   ],
   "source": [
    "x = np.random.normal(150, 15, 200)\n",
    "plt.hist(x)\n",
    "plt.show()\n"
   ]
  },
  {
   "cell_type": "code",
   "execution_count": 265,
   "id": "be95de26",
   "metadata": {},
   "outputs": [
    {
     "data": {
      "text/plain": [
       "(array([ 2.,  3., 16., 33., 49., 43., 30., 18.,  3.,  3.]),\n",
       " array([106.97487754, 115.48578591, 123.99669429, 132.50760266,\n",
       "        141.01851104, 149.52941941, 158.04032778, 166.55123616,\n",
       "        175.06214453, 183.5730529 , 192.08396128]),\n",
       " <BarContainer object of 10 artists>)"
      ]
     },
     "execution_count": 265,
     "metadata": {},
     "output_type": "execute_result"
    },
    {
     "data": {
      "image/png": "[encoded data removed]",
      "text/plain": [
       "<Figure size 432x288 with 1 Axes>"
      ]
     },
     "metadata": {
      "needs_background": "light"
     },
     "output_type": "display_data"
    }
   ],
   "source": [
    "x = np.random.normal(150, 15, 200)\n",
    "plt.hist(x)"
   ]
  },
  {
   "cell_type": "code",
   "execution_count": null,
   "id": "0e082e1c",
   "metadata": {},
   "outputs": [],
   "source": []
  },
  {
   "cell_type": "code",
   "execution_count": null,
   "id": "2c7866ec",
   "metadata": {},
   "outputs": [],
   "source": [
    "# >>>>>>>>>> PIE CHART <<<<<<<<<<<"
   ]
  },
  {
   "cell_type": "code",
   "execution_count": 266,
   "id": "ac6727a3",
   "metadata": {},
   "outputs": [
    {
     "data": {
      "image/png": "[encoded data removed]",
      "text/plain": [
       "<Figure size 432x288 with 1 Axes>"
      ]
     },
     "metadata": {},
     "output_type": "display_data"
    }
   ],
   "source": [
    "y = np.array([10, 20, 30, 5])\n",
    "\n",
    "plt.pie(y)\n",
    "plt.show() "
   ]
  },
  {
   "cell_type": "code",
   "execution_count": 267,
   "id": "3501cea2",
   "metadata": {},
   "outputs": [
    {
     "data": {
      "image/png": "[encoded data removed]",
      "text/plain": [
       "<Figure size 432x288 with 1 Axes>"
      ]
     },
     "metadata": {},
     "output_type": "display_data"
    }
   ],
   "source": [
    "y = np.array([25, 25, 25, 10])\n",
    "mylabels = [\"A\", \"B\", \"C\", \"D\"]\n",
    "myexplode = [0.5, 0.1, 0.1, 0.1]\n",
    "\n",
    "plt.pie(y, labels = mylabels,explode = myexplode)\n",
    "plt.show() "
   ]
  },
  {
   "cell_type": "code",
   "execution_count": null,
   "id": "b91296df",
   "metadata": {},
   "outputs": [],
   "source": [
    "# >>>>>>>>> SCATTER PLOT <<<<<<<<<"
   ]
  },
  {
   "cell_type": "code",
   "execution_count": 270,
   "id": "1d1ac182",
   "metadata": {},
   "outputs": [
    {
     "data": {
      "image/png": "[encoded data removed]",
      "text/plain": [
       "<Figure size 432x288 with 1 Axes>"
      ]
     },
     "metadata": {
      "needs_background": "light"
     },
     "output_type": "display_data"
    }
   ],
   "source": [
    "x = np.array([5,7,8,10,12,20,15,4,6,15,11,3,20])\n",
    "y = np.array([99,86,87,88,111,86,103,87,94,78,77,85,86])\n",
    "sizes = np.array([500,20,30,40,50,600,100,1000,50000, 200,1500,50, 1000])\n",
    "\n",
    "plt.scatter(x, y, s=sizes,alpha=0.5)\n",
    "\n",
    "plt.show()"
   ]
  },
  {
   "cell_type": "code",
   "execution_count": 272,
   "id": "43769539",
   "metadata": {},
   "outputs": [
    {
     "data": {
      "image/png": "[encoded data removed]",
      "text/plain": [
       "<Figure size 432x288 with 2 Axes>"
      ]
     },
     "metadata": {
      "needs_background": "light"
     },
     "output_type": "display_data"
    }
   ],
   "source": [
    "x = np.array([5,7,8,10,12,20,15,4,6,15,11,3,20])\n",
    "y = np.array([99,86,87,88,111,86,103,87,94,78,77,85,86])\n",
    "colors = np.array([500,20,30,40,50,600,100,1000,50000, 200,1500,50, 1000])\n",
    "\n",
    "plt.scatter(x, y, c=colors, cmap='viridis')\n",
    "plt.colorbar()\n",
    "plt.show()"
   ]
  },
  {
   "cell_type": "code",
   "execution_count": null,
   "id": "04dc0436",
   "metadata": {},
   "outputs": [],
   "source": []
  },
  {
   "cell_type": "code",
   "execution_count": null,
   "id": "a7fc8cdd",
   "metadata": {},
   "outputs": [],
   "source": [
    "# >>>>>>>>> BOX PLOT <<<<<<<<<<<"
   ]
  },
  {
   "cell_type": "code",
   "execution_count": 273,
   "id": "1738890a",
   "metadata": {},
   "outputs": [
    {
     "data": {
      "image/png": "[encoded data removed]",
      "text/plain": [
       "<Figure size 432x288 with 1 Axes>"
      ]
     },
     "metadata": {
      "needs_background": "light"
     },
     "output_type": "display_data"
    }
   ],
   "source": [
    "x = np.random.rand(50)\n",
    "plt.boxplot(x)\n",
    "plt.show()"
   ]
  },
  {
   "cell_type": "code",
   "execution_count": null,
   "id": "ec3689cc",
   "metadata": {},
   "outputs": [],
   "source": []
  },
  {
   "cell_type": "code",
   "execution_count": null,
   "id": "9e94c0e5",
   "metadata": {},
   "outputs": [],
   "source": [
    "# >>>>>>>>> HEATMAP <<<<<<<<<<<"
   ]
  },
  {
   "cell_type": "code",
   "execution_count": 278,
   "id": "86e3a5dd",
   "metadata": {},
   "outputs": [
    {
     "data": {
      "text/plain": [
       "Text(0.5, 1.0, '2-D Heat Map')"
      ]
     },
     "execution_count": 278,
     "metadata": {},
     "output_type": "execute_result"
    },
    {
     "data": {
      "image/png": "[encoded data removed]",
      "text/plain": [
       "<Figure size 432x288 with 1 Axes>"
      ]
     },
     "metadata": {
      "needs_background": "light"
     },
     "output_type": "display_data"
    }
   ],
   "source": [
    "data = np.random.random(( 50 , 50 ))\n",
    "plt.imshow( data , cmap = 'autumn' )\n",
    "  \n",
    "plt.title( \"2-D Heat Map\" )\n"
   ]
  },
  {
   "cell_type": "code",
   "execution_count": null,
   "id": "4341d6c7",
   "metadata": {},
   "outputs": [],
   "source": []
  },
  {
   "cell_type": "code",
   "execution_count": null,
   "id": "0ba568e7",
   "metadata": {},
   "outputs": [],
   "source": []
  },
  {
   "cell_type": "code",
   "execution_count": null,
   "id": "311c3842",
   "metadata": {},
   "outputs": [],
   "source": []
  },
  {
   "cell_type": "code",
   "execution_count": null,
   "id": "7e1f0cc8",
   "metadata": {},
   "outputs": [],
   "source": []
  },
  {
   "cell_type": "code",
   "execution_count": null,
   "id": "f1dc3498",
   "metadata": {},
   "outputs": [],
   "source": []
  },
  {
   "cell_type": "code",
   "execution_count": null,
   "id": "a8d16bc1",
   "metadata": {},
   "outputs": [],
   "source": []
  },
  {
   "cell_type": "code",
   "execution_count": null,
   "id": "4de7479e",
   "metadata": {},
   "outputs": [],
   "source": []
  },
  {
   "cell_type": "code",
   "execution_count": null,
   "id": "4441a188",
   "metadata": {},
   "outputs": [],
   "source": []
  }
 ],
 "metadata": {
  "kernelspec": {
   "display_name": "Python 3 (ipykernel)",
   "language": "python",
   "name": "python3"
  },
  "language_info": {
   "codemirror_mode": {
    "name": "ipython",
    "version": 3
   },
   "file_extension": ".py",
   "mimetype": "text/x-python",
   "name": "python",
   "nbconvert_exporter": "python",
   "pygments_lexer": "ipython3",
   "version": "3.9.12"
  }
 },
 "nbformat": 4,
 "nbformat_minor": 5
}
